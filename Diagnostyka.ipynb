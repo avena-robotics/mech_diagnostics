{
 "cells": [
  {
   "cell_type": "code",
   "execution_count": 1,
   "id": "94348343-ad08-4eaf-956b-60c76a4066b9",
   "metadata": {},
   "outputs": [],
   "source": [
    "import matplotlib.pyplot as plt\n",
    "# from matplotlib import interactive\n",
    "import numpy as np\n",
    "import os\n",
    "import subprocess\n",
    "import time\n",
    "import math\n",
    "from joint_can import *\n",
    "%matplotlib widget"
   ]
  },
  {
   "cell_type": "code",
   "execution_count": 2,
   "id": "945711f7-10e5-453d-b422-69c5746b1e77",
   "metadata": {},
   "outputs": [],
   "source": [
    "def save_data(data: np.array, file_path: str, note: str, serial_nr: str, torque: float, temps: list) -> None:\n",
    "    with open(file_path+'/'+serial_nr+'/'+serial_nr+time.strftime('_%y_%m_%d_%H_%M')+'.txt','w') as file:\n",
    "        file.write(\"serial number: \" + serial_nr+'\\n')\n",
    "        file.write(\"torque: \"+str(torque)+'\\n')\n",
    "        \n",
    "        file.write(\"start_temp: \"+str(temps[1][0]) +\" (\"+str(temps[0][0])+\")\\n\")\n",
    "        file.write(\"finish_temp: \"+str(temps[1][1]) +\" (\"+str(temps[0][1])+\")\\n\")\n",
    "        \n",
    "        file.write(\"note: \" + note+'\\n')\n",
    "        for line in data:\n",
    "            file.write(f'{line[0]:.6f} {line[1]:.6f}\\n')"
   ]
  },
  {
   "cell_type": "code",
   "execution_count": 3,
   "id": "958efe30-d588-4feb-b0fd-ed67912befe8",
   "metadata": {},
   "outputs": [],
   "source": [
    "# Ustawienie adresu CAN na \"nr_id\"\n",
    "\n",
    "def initialize_joint(bus, mode: int, nr_id):\n",
    "    send_msg(0x1A0 + nr_id, None, bus)\n",
    "    time.sleep(1)\n",
    "    \n",
    "    send_msg(0x1b0 + nr_id, [0,0,0,0,0,0], bus)\n",
    "    time.sleep(0.1)\n",
    "    send_msg(0x140 + nr_id, None, bus)\n",
    "    time.sleep(0.1)\n",
    "    send_msg(0x1a0 + nr_id, None, bus)\n",
    "    time.sleep(1)\n",
    "    \n",
    "    if (send_msg(0x1F0 + nr_id, [mode, 2], bus).data[0] == 1):\n",
    "        send_msg(0x110 + nr_id, [2], bus)\n",
    "        time.sleep(1)\n",
    "        send_msg(0x110 + nr_id, [3], bus).data[0]\n",
    "        time.sleep(5)\n",
    "        return True\n",
    "    else:\n",
    "        return False\n",
    "      \n"
   ]
  },
  {
   "cell_type": "markdown",
   "id": "a80cd1c9-091c-47a7-b91b-8814a942adba",
   "metadata": {},
   "source": [
    "Parametry diagnostyki:"
   ]
  },
  {
   "cell_type": "code",
   "execution_count": 4,
   "id": "ca8b8720-a723-4ac3-a489-23d24d390378",
   "metadata": {},
   "outputs": [],
   "source": [
    "const_torque=8. #zadawany moment obrotowy (konieczna kropka na końcu jeżeli jest to liczba całkowita) 16 dla J25, 8 dla J20\n",
    "\n",
    "bus = can.interface.Bus(bustype='socketcan', channel='can0', bitrate=1000000, data_bitrate=5000000, fd=False)\n",
    "\n",
    "nr_id = get_can_id(bus) #numer id jaki chcemy nadac do jointa \n",
    "serial=\"JANUSZ_4_RI70_21414878\" #musi byc min jedna litera w numerze\n",
    "note=\"joint J4, pcb 3_4\" #póki co musi być cokolwiek\n",
    "path = \"/home/pi/mech_diagnostics/diagnostic_data\""
   ]
  },
  {
   "cell_type": "code",
   "execution_count": 5,
   "id": "10c950a4-7a4e-4c2a-bebc-00f4159aa41d",
   "metadata": {},
   "outputs": [],
   "source": [
    "diag_samples = 300 #liczba próbek pozycji (rozdzielczość)\n",
    "run_duration = 2 #czas trwania diagnostyki w minutach"
   ]
  },
  {
   "cell_type": "markdown",
   "id": "7b6c9b8f-c1eb-47ff-9136-96561c43aa13",
   "metadata": {},
   "source": [
    "Ścieżka pliku do wyrysowania:\n",
    "\n",
    "(Diagnostyka zostanie uruchomiona jedynie gdy target_file=\"\" . Po podaniu nazw plików target_file i ref_file zostanie tylko wyrysowany wykres obu zestawóww danych (diagnostyka nie będzie uruchomiona )"
   ]
  },
  {
   "cell_type": "code",
   "execution_count": 6,
   "id": "42ecbc03-43a4-43b1-90ab-b5507babb834",
   "metadata": {},
   "outputs": [],
   "source": [
    "target_file=\"\""
   ]
  },
  {
   "cell_type": "markdown",
   "id": "1afe6e8b-c38b-4261-af77-4255df9246b2",
   "metadata": {},
   "source": [
    "Ścieżka pliku referencyjnego:"
   ]
  },
  {
   "cell_type": "code",
   "execution_count": 7,
   "id": "48155c63-5ee5-4ca2-8683-0e5f7d5e9859",
   "metadata": {},
   "outputs": [],
   "source": [
    "ref_file=\"\""
   ]
  },
  {
   "cell_type": "markdown",
   "id": "de752aa2-1406-4e90-9ffc-6ef8bb4e43ac",
   "metadata": {},
   "source": [
    "# Ustawienie temperatury"
   ]
  },
  {
   "cell_type": "code",
   "execution_count": 8,
   "id": "14ff9e49-a9a8-4c56-8036-1cc0247c01a8",
   "metadata": {},
   "outputs": [],
   "source": [
    "os.popen('/home/pi/mech_diagnostics/can_down.sh')\n",
    "time.sleep(2)\n",
    "os.popen('/home/pi/mech_diagnostics/can_up.sh')\n",
    "time.sleep(6)\n"
   ]
  },
  {
   "cell_type": "code",
   "execution_count": 9,
   "id": "293b754e-9037-485a-8eda-43b4d018daf9",
   "metadata": {},
   "outputs": [
    {
     "name": "stdout",
     "output_type": "stream",
     "text": [
      "Message NOT sent\n"
     ]
    },
    {
     "data": {
      "text/plain": [
       "True"
      ]
     },
     "execution_count": 9,
     "metadata": {},
     "output_type": "execute_result"
    }
   ],
   "source": [
    "initialize_joint(bus,2, nr_id)"
   ]
  },
  {
   "cell_type": "markdown",
   "id": "4942646f-bf1e-46a4-8e27-587932f3d97d",
   "metadata": {},
   "source": [
    "parametry temperatury"
   ]
  },
  {
   "cell_type": "code",
   "execution_count": 10,
   "id": "b108df31-f591-4683-8942-c64a2007703d",
   "metadata": {},
   "outputs": [],
   "source": [
    "# parametry rozgrzewki jointa\n",
    "min_temp = 30\n",
    "max_temp = 31\n",
    "speed = 1. #predkosc na ktorej joint jest rozgrzewany"
   ]
  },
  {
   "cell_type": "code",
   "execution_count": 11,
   "id": "abf9a73b-6cdc-4735-875c-3c928aa25d82",
   "metadata": {},
   "outputs": [
    {
     "name": "stdout",
     "output_type": "stream",
     "text": [
      " tq: 1.231\tm_temp: 0.000\tb_temp: 32.00000"
     ]
    },
    {
     "ename": "AttributeError",
     "evalue": "'NoneType' object has no attribute 'data'",
     "output_type": "error",
     "traceback": [
      "\u001b[0;31m---------------------------------------------------------------------------\u001b[0m",
      "\u001b[0;31mAttributeError\u001b[0m                            Traceback (most recent call last)",
      "Cell \u001b[0;32mIn [11], line 10\u001b[0m\n\u001b[1;32m      8\u001b[0m \u001b[38;5;28;01melse\u001b[39;00m:\n\u001b[1;32m      9\u001b[0m     c_speed\u001b[38;5;241m=\u001b[39m\u001b[38;5;241m0.\u001b[39m\n\u001b[0;32m---> 10\u001b[0m j_data\u001b[38;5;241m=\u001b[39m\u001b[43mset_speed\u001b[49m\u001b[43m(\u001b[49m\u001b[43mc_speed\u001b[49m\u001b[43m,\u001b[49m\u001b[43mbus\u001b[49m\u001b[43m,\u001b[49m\u001b[43m \u001b[49m\u001b[43mnr_id\u001b[49m\u001b[43m)\u001b[49m\n\u001b[1;32m     11\u001b[0m data_t\u001b[38;5;241m=\u001b[39mget_temp(bus, nr_id)\n\u001b[1;32m     12\u001b[0m \u001b[38;5;28mprint\u001b[39m(\u001b[38;5;124mf\u001b[39m\u001b[38;5;124m'\u001b[39m\u001b[38;5;130;01m\\r\u001b[39;00m\u001b[38;5;124m tq: \u001b[39m\u001b[38;5;132;01m{\u001b[39;00mj_data\u001b[38;5;241m.\u001b[39mtorque\u001b[38;5;132;01m:\u001b[39;00m\u001b[38;5;124m.3f\u001b[39m\u001b[38;5;132;01m}\u001b[39;00m\u001b[38;5;130;01m\\t\u001b[39;00m\u001b[38;5;124mm_temp: \u001b[39m\u001b[38;5;132;01m{\u001b[39;00mdata_t\u001b[38;5;241m.\u001b[39mmotor_temp\u001b[38;5;132;01m:\u001b[39;00m\u001b[38;5;124m.3f\u001b[39m\u001b[38;5;132;01m}\u001b[39;00m\u001b[38;5;130;01m\\t\u001b[39;00m\u001b[38;5;124mb_temp: \u001b[39m\u001b[38;5;132;01m{\u001b[39;00mdata_t\u001b[38;5;241m.\u001b[39mbearing_temp\u001b[38;5;132;01m:\u001b[39;00m\u001b[38;5;124m.3f\u001b[39m\u001b[38;5;132;01m}\u001b[39;00m\u001b[38;5;124m'\u001b[39m, end\u001b[38;5;241m=\u001b[39m\u001b[38;5;124m'\u001b[39m\u001b[38;5;124m'\u001b[39m)\n",
      "File \u001b[0;32m~/mech_diagnostics/joint_can.py:70\u001b[0m, in \u001b[0;36mset_speed\u001b[0;34m(speed, bus, id)\u001b[0m\n\u001b[1;32m     68\u001b[0m speed_data_b\u001b[38;5;241m=\u001b[39mspeed_data\u001b[38;5;241m.\u001b[39mto_bytes(\u001b[38;5;241m2\u001b[39m,\u001b[38;5;124m'\u001b[39m\u001b[38;5;124mlittle\u001b[39m\u001b[38;5;124m'\u001b[39m,signed\u001b[38;5;241m=\u001b[39m\u001b[38;5;28;01mTrue\u001b[39;00m)\n\u001b[1;32m     69\u001b[0m msg \u001b[38;5;241m=\u001b[39m send_msg(\u001b[38;5;241m0x100\u001b[39m \u001b[38;5;241m+\u001b[39m \u001b[38;5;28mid\u001b[39m,speed_data_b, bus)\n\u001b[0;32m---> 70\u001b[0m \u001b[38;5;28;01mreturn\u001b[39;00m \u001b[43mget_data\u001b[49m\u001b[43m(\u001b[49m\u001b[43mmsg\u001b[49m\u001b[43m)\u001b[49m\n",
      "File \u001b[0;32m~/mech_diagnostics/joint_can.py:29\u001b[0m, in \u001b[0;36mget_data\u001b[0;34m(rcv_msg)\u001b[0m\n\u001b[1;32m     28\u001b[0m \u001b[38;5;28;01mdef\u001b[39;00m \u001b[38;5;21mget_data\u001b[39m(rcv_msg):\n\u001b[0;32m---> 29\u001b[0m     data\u001b[38;5;241m=\u001b[39m\u001b[43mrcv_msg\u001b[49m\u001b[38;5;241;43m.\u001b[39;49m\u001b[43mdata\u001b[49m\n\u001b[1;32m     30\u001b[0m     \u001b[38;5;28;01mif\u001b[39;00m \u001b[38;5;28mlen\u001b[39m(data)\u001b[38;5;241m<\u001b[39m\u001b[38;5;241m8\u001b[39m:\n\u001b[1;32m     31\u001b[0m         \u001b[38;5;28;01mreturn\u001b[39;00m JointData()\n",
      "\u001b[0;31mAttributeError\u001b[0m: 'NoneType' object has no attribute 'data'"
     ]
    }
   ],
   "source": [
    "c_speed=0.\n",
    "j_data=set_speed(c_speed,bus, nr_id)\n",
    "data_t=get_temp(bus, nr_id)\n",
    "\n",
    "while(data_t.bearing_temp<min_temp or data_t.bearing_temp>max_temp):\n",
    "    if data_t.bearing_temp<min_temp:\n",
    "        c_speed=speed\n",
    "    else:\n",
    "        c_speed=0.\n",
    "    j_data=set_speed(c_speed,bus, nr_id)\n",
    "    data_t=get_temp(bus, nr_id)\n",
    "    print(f'\\r tq: {j_data.torque:.3f}\\tm_temp: {data_t.motor_temp:.3f}\\tb_temp: {data_t.bearing_temp:.3f}', end='')\n",
    "    time.sleep(1)\n",
    "send_msg(0x1A0 + nr_id, None, bus)"
   ]
  },
  {
   "cell_type": "markdown",
   "id": "5b3fc2e4-2a52-40fe-8e19-0e6003f3ebaf",
   "metadata": {},
   "source": [
    "# Diagnostyka"
   ]
  },
  {
   "cell_type": "code",
   "execution_count": null,
   "id": "540ce920-661f-4271-a6d1-cf5308a047e1",
   "metadata": {},
   "outputs": [],
   "source": [
    "try: \n",
    "    os.mkdir(path+'/'+serial) \n",
    "except OSError as error: \n",
    "    pass"
   ]
  },
  {
   "cell_type": "code",
   "execution_count": null,
   "id": "3c99bc42-6689-4c8c-965d-15060e27a54a",
   "metadata": {
    "tags": []
   },
   "outputs": [],
   "source": [
    "if not len(target_file):\n",
    "    while not initialize_joint(bus,1,nr_id):\n",
    "        print(\"Joint initialization in progress\")\n"
   ]
  },
  {
   "cell_type": "code",
   "execution_count": null,
   "id": "46850c96-9be5-4334-98cc-5ca7e9845a3c",
   "metadata": {},
   "outputs": [],
   "source": [
    "print(\"Running diagnostics...\")\n",
    "position_bins=np.linspace(0,2*math.pi,diag_samples)\n",
    "start_time=time.time()\n",
    "data=[]\n",
    "\n",
    "motor_temp=[0,0]\n",
    "bearing_temp=[0,0]\n",
    "\n",
    "current_reading = set_torque(const_torque,bus,nr_id)\n",
    "current_reading_temp = get_temp(bus, nr_id)\n",
    "motor_temp[0] = current_reading_temp.motor_temp\n",
    "bearing_temp[0] = current_reading_temp.bearing_temp\n",
    "\n",
    "time.sleep(5)\n",
    "while((cur_time:=time.time()-start_time)<(run_duration*60)):\n",
    "    current_reading=set_torque(const_torque,bus,nr_id)\n",
    "    current_reading_temp=get_temp(bus,nr_id)\n",
    "    print(f'\\r Time left: {(math.floor(run_duration-cur_time/60))} min {int((run_duration*60-cur_time)%60)} sec\\t\\t', end='')\n",
    "    if np.sign(current_reading.torque) == np.sign(const_torque):\n",
    "        motor_temp[1] = current_reading_temp.motor_temp\n",
    "        bearing_temp[1] = current_reading_temp.bearing_temp\n",
    "        data.append([current_reading.position + math.pi, current_reading.speed])\n",
    "    else:\n",
    "        if cur_time>30:\n",
    "            print(\"Speed/Torque sign error, aborting.\")\n",
    "            break\n",
    "    \n",
    "        \n",
    "set_torque(0,bus, nr_id)"
   ]
  },
  {
   "cell_type": "code",
   "execution_count": null,
   "id": "ce387a84-b4ca-4ea7-8d37-fd556d528507",
   "metadata": {},
   "outputs": [],
   "source": [
    "data = np.array(data)\n",
    "position_bin_num = np.digitize(data[:,0],position_bins)\n",
    "binarized_avg_data = np.array([position_bins,np.zeros(diag_samples)]).T\n",
    "for i in range(diag_samples):\n",
    "    binarized_avg_data[i,1]=np.mean(data[position_bin_num==i,1])"
   ]
  },
  {
   "cell_type": "code",
   "execution_count": null,
   "id": "2efe5f12-d0b6-484f-abc4-65dd29a052fc",
   "metadata": {},
   "outputs": [],
   "source": [
    "save_data(binarized_avg_data, path, note, serial, const_torque, [motor_temp, bearing_temp])"
   ]
  },
  {
   "cell_type": "markdown",
   "id": "4c83e972-73c3-4b42-82c6-3122b7b73c53",
   "metadata": {},
   "source": [
    "# Wykresy"
   ]
  },
  {
   "cell_type": "code",
   "execution_count": null,
   "id": "d6864e92-3aaa-4212-a8eb-19fb745bfebd",
   "metadata": {
    "tags": []
   },
   "outputs": [],
   "source": [
    "plt.rcParams['figure.figsize'] = [12, 8]"
   ]
  },
  {
   "cell_type": "markdown",
   "id": "d167cb93-dfb2-463b-9739-0ef6f0eb2a1c",
   "metadata": {},
   "source": [
    "Zakres dopuszczalnej prędkości"
   ]
  },
  {
   "cell_type": "code",
   "execution_count": null,
   "id": "1be428e4-2051-41a1-bf2a-8f3ddc8184c3",
   "metadata": {},
   "outputs": [],
   "source": [
    "# definicja zielonej sekcji na wykresie\n",
    "ref_v_min=0.25\n",
    "ref_v_max=0.45\n",
    "avg_samples = 5  #ilość próbek do uśredniania obliczeń jittera"
   ]
  },
  {
   "cell_type": "code",
   "execution_count": null,
   "id": "1f30a77a-ba07-453e-9383-70b6dd727abc",
   "metadata": {},
   "outputs": [],
   "source": [
    "flist=os.listdir(path+'/'+serial)\n",
    "flist.sort()\n",
    "flist.reverse()\n",
    "ref_data=[]\n",
    "            \n",
    "            \n",
    "for fname in flist:\n",
    "    if '.txt' not in fname:\n",
    "        flist.remove(fname)\n",
    "\n",
    "if len(ref_file):\n",
    "    rfname=ref_file+'.txt'\n",
    "    data_points = []\n",
    "    with open(path+'/'+serial+'/'+rfname) as file:\n",
    "        ref_data = (list(file))\n",
    "\n",
    "        if \"serial number: \" in ref_data[0]:\n",
    "            rf_serial = ref_data[0].strip()\n",
    "            ref_data.remove(ref_data[0])\n",
    "        else:\n",
    "            rf_serial = ''\n",
    "\n",
    "        if \"torque: \" in ref_data[0]:\n",
    "            rf_tq = ref_data[0].strip()\n",
    "            ref_data.remove(ref_data[0])\n",
    "        else:\n",
    "            rf_tq = ''\n",
    "\n",
    "        if \"start_temp: \" in ref_data[0]:\n",
    "            rf_temp1 = ref_data[0].strip()\n",
    "            ref_data.remove(ref_data[0])\n",
    "        else:\n",
    "            rf_temp1 = ''\n",
    "\n",
    "        if \"finish_temp: \" in ref_data[0]:\n",
    "            rf_temp2 = ref_data[0].strip()\n",
    "            ref_data.remove(ref_data[0])\n",
    "        else:\n",
    "            rf_temp2 = ''\n",
    "\n",
    "        if \"note: \" in ref_data[0]:\n",
    "            rf_note = ref_data[0].strip()\n",
    "            ref_data.remove(ref_data[0])\n",
    "        else:\n",
    "            rf_note = ''\n",
    "\n",
    "        ref_data = [point.split() for point in ref_data]\n",
    "\n",
    "        ref_data = np.array(ref_data, dtype=float)\n",
    "        \n"
   ]
  },
  {
   "cell_type": "markdown",
   "id": "3b6e2bd7-b8e9-47a5-93aa-0e248d2991e5",
   "metadata": {},
   "source": [
    "Wykresy prędkości przy stałym momencie:"
   ]
  },
  {
   "cell_type": "code",
   "execution_count": null,
   "id": "cf2b30dc-e56f-4459-83f5-391756a7b2d1",
   "metadata": {
    "tags": []
   },
   "outputs": [],
   "source": [
    "if target_file[-4:]!='.txt':\n",
    "    target_file=target_file+\".txt\"\n",
    "\n",
    "for fname in flist:\n",
    "    # if len(target_file):\n",
    "    #     if target_file != fname:\n",
    "    #         continue\n",
    "    if serial in fname and '.txt' in fname or fname == target_file:\n",
    "        data_points = []\n",
    "        with open(path+'/'+serial+'/'+fname) as file:\n",
    "            data_points+=(list(file))\n",
    "            \n",
    "        f, a = plt.subplots(subplot_kw={'projection': 'polar'})\n",
    "        f.canvas.manager.set_window_title(fname)\n",
    "        \n",
    "        if \"serial number: \" in data_points[0]:\n",
    "            r_serial=data_points[0].strip()\n",
    "            data_points.remove(data_points[0])\n",
    "        else:\n",
    "            r_serial=''\n",
    "            \n",
    "        if \"torque: \" in data_points[0]:\n",
    "            r_tq=data_points[0].strip()\n",
    "            data_points.remove(data_points[0])\n",
    "        else:\n",
    "            r_tq=''\n",
    "            \n",
    "        if \"start_temp: \" in data_points[0]:\n",
    "            r_temp1=data_points[0].strip()\n",
    "            data_points.remove(data_points[0])\n",
    "        else:\n",
    "            r_temp1=''\n",
    "            \n",
    "        if \"finish_temp: \" in data_points[0]:\n",
    "            r_temp2=data_points[0].strip()\n",
    "            data_points.remove(data_points[0])\n",
    "        else:\n",
    "            r_temp2=''\n",
    "        \n",
    "        if \"note: \" in data_points[0]:\n",
    "            r_note=data_points[0].strip()\n",
    "            data_points.remove(data_points[0])\n",
    "        else:\n",
    "            r_note=''\n",
    "            \n",
    "        data_points=[point.split() for point in data_points]\n",
    "        \n",
    "        \n",
    "        data_points=np.array(data_points,dtype=float)\n",
    "        \n",
    "        data_points = data_points[~np.isnan(data_points[:,1])]\n",
    "        \n",
    "        if len(ref_data):\n",
    "            a.set_ylim(0,max(0.6,data_points[:,1].max(),ref_data[:,1].max())) #zakres predkosci wykresu\n",
    "        else:\n",
    "            a.set_ylim(0,max(0.6,data_points[:,1].max())) #zakres predkosci wykresu\n",
    "                \n",
    "        a.set_theta_offset(1.57)\n",
    "        \n",
    "        a.plot(data_points[:, 0], data_points[:, 1],color='blue')\n",
    "        \n",
    "        a.fill_between(data_points[:,0],ref_v_min,ref_v_max,alpha=0.2,linewidth=0,color='green')\n",
    "        \n",
    "        v_min = data_points[:,1].min()\n",
    "        v_max = data_points[:,1].max()\n",
    "        v_mean = np.nanmean(data_points[:,1])\n",
    "        v_std = np.nanstd(data_points[:,1])\n",
    "        v_A = (v_max-v_min)\n",
    "        \n",
    "        v_moving_avg = np.convolve(data_points[:,1],np.ones(avg_samples),'same')/avg_samples\n",
    "        boundary=int(np.ceil(avg_samples/2))\n",
    "        v_moving_avg_deviation_mean = np.nanmedian(abs(data_points[:,1]-v_moving_avg)[boundary:-boundary])\n",
    "        \n",
    "        # f.suptitle(\"Joint \"+str(fname))\n",
    "        # a.set_title(str(r_tq)+' '+str(r_temp1)+' '+str(r_temp2))\n",
    "        plt.figtext(0.02,0.82,str(fname),color = 'blue')\n",
    "        plt.figtext(0.02,0.7,r_serial+'\\n'+r_tq+'\\n'+r_temp1+'\\n'+r_temp2+'\\n'+r_note)\n",
    "        plt.figtext(0.02,0.2,'mean: '+ str(round(v_mean,4))+'\\nstd: '+str(round(v_std,4))+'\\nmin: '+ str(round(v_min,4))+'\\nmax: '+ str(round(v_max,4))+'\\n(A/mean): ' + str(round(v_A/v_mean,4)) + '\\n(std/mean): ' + str(round(v_std/v_mean,4))+\n",
    "                   '\\nmaćkowe: ' + str(round(v_moving_avg_deviation_mean,9)))\n",
    "        \n",
    "        if len(ref_data):\n",
    "            a.plot(ref_data[:, 0], ref_data[:, 1],alpha=0.8,color='green')\n",
    "            plt.figtext(0.78,0.82,str(rfname),color = 'green')\n",
    "            plt.figtext(0.78,0.7,rf_serial+'\\n'+rf_tq+'\\n'+rf_temp1+'\\n'+rf_temp2+'\\n'+rf_note)\n",
    "            plt.figtext(0.78,0.2,'mean: '+ str(round(np.nanmean(ref_data[:,1]),4))+'\\nstd: '+str(round(np.nanstd(ref_data[:,1]),4))+'\\nmin: '+ str(round(ref_data[:,1].min(),4))+'\\nmax: '+ str(round(ref_data[:,1].max(),4)))\n",
    "        \n",
    "        try:\n",
    "            if len(target_file) and len(ref_data):\n",
    "                plt.savefig( path+'/'+serial+'/'+fname[:-4] + \"_comp.png\", dpi=150)\n",
    "            else:\n",
    "                plt.savefig( path+'/'+serial+'/'+fname[:-4] + \".png\", dpi=150)   \n",
    "        except PermissionError:\n",
    "                print(f\"Brak pozwolenia na nadpisanie pliku {fname}\")"
   ]
  },
  {
   "cell_type": "markdown",
   "id": "b4c4a5b4-841c-4143-898e-e5ff3b25ed8f",
   "metadata": {},
   "source": [
    "# "
   ]
  }
 ],
 "metadata": {
  "kernelspec": {
   "display_name": "Python 3 (ipykernel)",
   "language": "python",
   "name": "python3"
  },
  "language_info": {
   "codemirror_mode": {
    "name": "ipython",
    "version": 3
   },
   "file_extension": ".py",
   "mimetype": "text/x-python",
   "name": "python",
   "nbconvert_exporter": "python",
   "pygments_lexer": "ipython3",
   "version": "3.9.2"
  },
  "toc-autonumbering": true,
  "toc-showcode": true,
  "toc-showmarkdowntxt": true,
  "toc-showtags": true
 },
 "nbformat": 4,
 "nbformat_minor": 5
}
