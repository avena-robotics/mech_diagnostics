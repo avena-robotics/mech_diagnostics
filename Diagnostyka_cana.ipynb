{
 "cells": [
  {
   "cell_type": "code",
   "execution_count": 1,
   "id": "94348343-ad08-4eaf-956b-60c76a4066b9",
   "metadata": {},
   "outputs": [],
   "source": [
    "import matplotlib.pyplot as plt\n",
    "# from matplotlib import interactive\n",
    "import numpy as np\n",
    "import os\n",
    "import subprocess\n",
    "import time\n",
    "import math\n",
    "from joint_can import *\n",
    "%matplotlib widget"
   ]
  },
  {
   "cell_type": "code",
   "execution_count": 22,
   "id": "958efe30-d588-4feb-b0fd-ed67912befe8",
   "metadata": {},
   "outputs": [
    {
     "data": {
      "text/plain": [
       "can.Message(timestamp=1664812855.5952096, arbitration_id=0x222, is_extended_id=False, channel='can0', dlc=8, data=[0x60, 0x41, 0x21, 0x6c, 0xd1, 0x42, 0x19, 0x0], is_fd=True, bitrate_switch=True, error_state_indicator=False)"
      ]
     },
     "execution_count": 22,
     "metadata": {},
     "output_type": "execute_result"
    }
   ],
   "source": [
    "# def initialize_joint(bus, mode: int):\n",
    "    # send_msg(0x0A0, None, bus)\n",
    "    # time.sleep(1)\n",
    "    \n",
    "bus = can.interface.Bus(bustype='socketcan', channel='can0', bitrate=1000000, data_bitrate=5000000, fd=True)    \n",
    "# send_msg(0x0b0, [0,0,0,0,0,0], bus)\n",
    "# time.sleep(0.5)\n",
    "# send_msg(0x040, None, bus)\n",
    "time.sleep(0.1)\n",
    "send_msg(0x0a0, None, bus)\n",
    "time.sleep(0.1)\n",
    "send_msg(0x020, [0x60,1], bus)    \n",
    "    \n",
    "    \n",
    "#     if (send_msg(0x0F0, [mode, 2], bus).data[0] == 1):\n",
    "#         send_msg(0x010, [2], bus)\n",
    "#         time.sleep(1)\n",
    "#         send_msg(0x010, [3], bus).data[0]\n",
    "#         time.sleep(5)\n",
    "#         return True\n",
    "#     else:\n",
    "#         return False\n",
    "     "
   ]
  },
  {
   "cell_type": "code",
   "execution_count": 27,
   "id": "a08475e1-de83-4ede-9da4-0f16ea7ad992",
   "metadata": {},
   "outputs": [
    {
     "data": {
      "text/plain": [
       "can.Message(timestamp=1664812885.4777408, arbitration_id=0x222, is_extended_id=False, channel='can0', dlc=8, data=[0x6a, 0x41, 0xd7, 0xa0, 0xc, 0xff, 0xff, 0x0], is_fd=True, bitrate_switch=True, error_state_indicator=False)"
      ]
     },
     "execution_count": 27,
     "metadata": {},
     "output_type": "execute_result"
    }
   ],
   "source": [
    "send_msg(0x020, [0x6A,1], bus) "
   ]
  },
  {
   "cell_type": "code",
   "execution_count": null,
   "id": "03f83b65-e108-4e3a-b91b-3f04c07a3318",
   "metadata": {},
   "outputs": [],
   "source": []
  }
 ],
 "metadata": {
  "kernelspec": {
   "display_name": "Python 3 (ipykernel)",
   "language": "python",
   "name": "python3"
  },
  "language_info": {
   "codemirror_mode": {
    "name": "ipython",
    "version": 3
   },
   "file_extension": ".py",
   "mimetype": "text/x-python",
   "name": "python",
   "nbconvert_exporter": "python",
   "pygments_lexer": "ipython3",
   "version": "3.9.2"
  },
  "toc-autonumbering": true,
  "toc-showcode": true,
  "toc-showmarkdowntxt": true,
  "toc-showtags": true
 },
 "nbformat": 4,
 "nbformat_minor": 5
}
