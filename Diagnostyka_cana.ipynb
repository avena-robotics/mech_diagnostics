{
 "cells": [
  {
   "cell_type": "code",
   "execution_count": 1,
   "id": "94348343-ad08-4eaf-956b-60c76a4066b9",
   "metadata": {},
   "outputs": [],
   "source": [
    "import matplotlib.pyplot as plt\n",
    "# from matplotlib import interactive\n",
    "import numpy as np\n",
    "import os\n",
    "import subprocess\n",
    "import time\n",
    "import math\n",
    "from joint_can import *\n",
    "%matplotlib widget"
   ]
  },
  {
   "cell_type": "code",
   "execution_count": 4,
   "id": "661f32a0-e500-4cad-85e5-1fa6ab91d3de",
   "metadata": {},
   "outputs": [],
   "source": [
    "os.popen('/home/pi/mech_diagnostics/can_down.sh')\n",
    "time.sleep(1)\n",
    "os.popen('/home/pi/mech_diagnostics/can_up.sh')\n",
    "time.sleep(1)\n",
    "\n",
    "bus = can.interface.Bus(bustype='socketcan', channel='can0', bitrate=1000000, data_bitrate=5000000, fd=True)"
   ]
  },
  {
   "cell_type": "code",
   "execution_count": 6,
   "id": "958efe30-d588-4feb-b0fd-ed67912befe8",
   "metadata": {},
   "outputs": [],
   "source": [
    "# def initialize_joint(bus, mode: int):\n",
    "    # send_msg(0x0A0, None, bus)\n",
    "    # time.sleep(1)\n",
    "    \n",
    "# send_msg(0x0b0, [0,0,0,0,0,0], bus)\n",
    "# time.sleep(0.5)\n",
    "# send_msg(0x040, None, bus)\n",
    "time.sleep(0.1)\n",
    "send_msg(0x0a0, None, bus)\n",
    "time.sleep(0.1)\n",
    "send_msg(0x000, [0,0], bus)    \n",
    "    \n",
    "    \n",
    "#     if (send_msg(0x0F0, [mode, 2], bus).data[0] == 1):\n",
    "#         send_msg(0x010, [2], bus)\n",
    "#         time.sleep(1)\n",
    "#         send_msg(0x010, [3], bus).data[0]\n",
    "#         time.sleep(5)\n",
    "#         return True\n",
    "#     else:\n",
    "#         return False\n",
    "     "
   ]
  },
  {
   "cell_type": "code",
   "execution_count": null,
   "id": "afca161e-27af-4441-b8c0-5caee4a9b28e",
   "metadata": {},
   "outputs": [],
   "source": []
  }
 ],
 "metadata": {
  "kernelspec": {
   "display_name": "Python 3 (ipykernel)",
   "language": "python",
   "name": "python3"
  },
  "language_info": {
   "codemirror_mode": {
    "name": "ipython",
    "version": 3
   },
   "file_extension": ".py",
   "mimetype": "text/x-python",
   "name": "python",
   "nbconvert_exporter": "python",
   "pygments_lexer": "ipython3",
   "version": "3.9.2"
  },
  "toc-autonumbering": true,
  "toc-showcode": true,
  "toc-showmarkdowntxt": true,
  "toc-showtags": true
 },
 "nbformat": 4,
 "nbformat_minor": 5
}
