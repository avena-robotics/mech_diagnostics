{
 "cells": [
  {
   "cell_type": "markdown",
   "id": "5826fd0a-f840-4a3c-80f9-1f164cc800bd",
   "metadata": {
    "tags": []
   },
   "source": [
    "# Inicjalizacja kontrolera"
   ]
  },
  {
   "cell_type": "code",
   "execution_count": 1,
   "id": "b035e35f-c206-42c4-8294-ea7c0adca636",
   "metadata": {},
   "outputs": [],
   "source": [
    "import can\n",
    "import matplotlib.pyplot as plt\n",
    "from matplotlib import interactive\n",
    "import numpy as np\n",
    "import os\n",
    "import time\n",
    "import math\n",
    "from IPython.display import display, clear_output\n",
    "from joint_can import *\n",
    "%matplotlib widget"
   ]
  },
  {
   "cell_type": "code",
   "execution_count": 2,
   "id": "ad7c80c1-8bc2-46b5-a2e0-d7fdecfbe6d3",
   "metadata": {},
   "outputs": [],
   "source": [
    "def calibrate_joint(cmd,bus,nr_id):\n",
    "    send_msg(0x1A0 + nr_id, None, bus)\n",
    "    time.sleep(2)\n",
    "    send_msg(0x1F0 + nr_id, [1,6], bus)\n",
    "    send_msg(0x110 + nr_id, [1], bus)\n",
    "    \n",
    "    if (send_msg(0x110 + nr_id, None, bus).data[0] == 1):\n",
    "        send_msg(0x110 + nr_id, [cmd], bus)\n",
    "        time.sleep(1)\n",
    "        return True\n",
    "    else:\n",
    "        return False\n",
    "        # print(send_msg(0x010, [3], bus).data[0])\n",
    "        # time.sleep(5)        "
   ]
  },
  {
   "cell_type": "code",
   "execution_count": 3,
   "id": "c693a3df-3b75-4b48-9012-4611cb0abc3c",
   "metadata": {},
   "outputs": [],
   "source": [
    "# Ustawienie adresu CAN na \"nr_id\"\n",
    "\n",
    "def initialize_joint(bus, mode: int, nr_id):\n",
    "    send_msg(0x1A0 + nr_id, None, bus)\n",
    "    time.sleep(1)\n",
    "    \n",
    "    send_msg(0x1b0 + nr_id, [0,0,0,0,0,0], bus)\n",
    "    time.sleep(0.1)\n",
    "    send_msg(0x140 + nr_id, None, bus)\n",
    "    time.sleep(0.1)\n",
    "    send_msg(0x1a0 + nr_id, None, bus)\n",
    "    time.sleep(1)\n",
    "    \n",
    "    if (send_msg(0x1F0 + nr_id, [mode, 2], bus).data[0] == 1):\n",
    "        send_msg(0x110 + nr_id, [2], bus)\n",
    "        time.sleep(1)\n",
    "        send_msg(0x110 + nr_id, [3], bus).data[0]\n",
    "        time.sleep(5)\n",
    "        return True\n",
    "    else:\n",
    "        return False\n",
    "      "
   ]
  },
  {
   "cell_type": "code",
   "execution_count": 4,
   "id": "a304a872-2f14-4cb9-aa58-c5aed8e9feb5",
   "metadata": {
    "tags": []
   },
   "outputs": [],
   "source": [
    "os.popen('/home/pi/mech_diagnostics/can_down.sh')\n",
    "time.sleep(1)\n",
    "os.popen('/home/pi/mech_diagnostics/can_up.sh')\n",
    "time.sleep(1)\n"
   ]
  },
  {
   "cell_type": "code",
   "execution_count": 5,
   "id": "aefa4f0c-a1df-4ac1-897d-9bc6225cfb39",
   "metadata": {},
   "outputs": [],
   "source": [
    "bus = can.interface.Bus(bustype='socketcan', channel='can0', bitrate=1000000, data_bitrate=5000000, fd=False)"
   ]
  },
  {
   "cell_type": "markdown",
   "id": "a9bbb96f-03be-41c9-9d25-c6d60bbe41f1",
   "metadata": {},
   "source": [
    "# Parametry kalibracji"
   ]
  },
  {
   "cell_type": "code",
   "execution_count": 6,
   "id": "9a1269cb-6b25-4080-b3a3-63ffb9dd250e",
   "metadata": {},
   "outputs": [],
   "source": [
    "nr_id = get_can_id(bus)"
   ]
  },
  {
   "cell_type": "code",
   "execution_count": 7,
   "id": "473b81b5-d519-4f30-b61c-3dc44c89a758",
   "metadata": {},
   "outputs": [],
   "source": [
    "serial=\"JANUSZ_6_RI70_21209065\" #musi byc min jedna litera w numerze\n",
    "note=\"Joint 3, Janusz 6\" #póki co musi być cokolwiek"
   ]
  },
  {
   "cell_type": "code",
   "execution_count": 8,
   "id": "abffa421-5f90-41cc-92d0-9ab0813f533c",
   "metadata": {},
   "outputs": [],
   "source": [
    "path = \"/home/pi/mech_diagnostics/diagnostic_data\"\n",
    "try: \n",
    "    os.mkdir(path+'/'+serial) \n",
    "except OSError as error: \n",
    "    pass"
   ]
  },
  {
   "cell_type": "code",
   "execution_count": 9,
   "id": "c6b9cb45-6846-4139-b384-fc8ab4499faf",
   "metadata": {},
   "outputs": [
    {
     "data": {
      "text/plain": [
       "True"
      ]
     },
     "execution_count": 9,
     "metadata": {},
     "output_type": "execute_result"
    }
   ],
   "source": [
    "initialize_joint(bus,2, nr_id)"
   ]
  },
  {
   "cell_type": "markdown",
   "id": "298a0571-333a-411e-9af4-e7a63734ec4a",
   "metadata": {
    "tags": []
   },
   "source": [
    "# Kalibracja enkodera inkrementalnego"
   ]
  },
  {
   "cell_type": "code",
   "execution_count": 10,
   "id": "afabb2c0-3b1c-4211-b92e-a4982cc0fbcb",
   "metadata": {},
   "outputs": [
    {
     "name": "stdout",
     "output_type": "stream",
     "text": [
      "1/2 Calibration done          "
     ]
    }
   ],
   "source": [
    "while not calibrate_joint(131,bus,nr_id): # 131 uruchomienie kalibracji enk absolutnego\n",
    "    time.sleep(1)\n",
    "    \n",
    "while(get_data_t(send_msg(0x180 + nr_id,None,bus)).FSM != 1):\n",
    "\n",
    "\n",
    "    print(f'Calibration in progress\\r', end='')\n",
    "    time.sleep(1)\n",
    "print('                              \\r',end='')\n",
    "\n",
    "send_msg(0x110 + nr_id, [2], bus)\n",
    "time.sleep(0.1)\n",
    "send_msg(0x110 + nr_id, [1], bus)\n",
    "time.sleep(0.1)\n",
    "send_msg(0x140 + nr_id, None, bus)\n",
    "time.sleep(1)\n",
    "\n",
    "print(f'1/2 Calibration done', end='')"
   ]
  },
  {
   "cell_type": "markdown",
   "id": "bafc02c3-91df-443b-8078-c90e83698ea9",
   "metadata": {},
   "source": [
    "# Kalibracja Absolutnego (zera)"
   ]
  },
  {
   "cell_type": "code",
   "execution_count": 11,
   "id": "81d3bdff-d4b7-4028-b69d-33faa89945ed",
   "metadata": {},
   "outputs": [
    {
     "name": "stdout",
     "output_type": "stream",
     "text": [
      "2/2 Calibration done          "
     ]
    }
   ],
   "source": [
    "while not calibrate_joint(161,bus,nr_id): # 161 uruchomienie kalibracji zera\n",
    "    time.sleep(0.5)\n",
    "    \n",
    "while(get_data_t(send_msg(0x180 + nr_id,None,bus)).FSM != 1):\n",
    "\n",
    "\n",
    "    print(f'Calibration in progress\\r', end='')\n",
    "    time.sleep(1)\n",
    "print('                              \\r',end='')\n",
    "\n",
    "send_msg(0x110 + nr_id, [2], bus)\n",
    "time.sleep(0.1)\n",
    "send_msg(0x110 + nr_id, [1], bus)\n",
    "time.sleep(0.1)\n",
    "send_msg(0x140 + nr_id, None, bus)\n",
    "time.sleep(1)\n",
    "\n",
    "print(f'2/2 Calibration done', end='')"
   ]
  },
  {
   "cell_type": "markdown",
   "id": "e0cc2f43-a22d-49f2-8dd5-1d7b985900fc",
   "metadata": {},
   "source": [
    "# Test enkoderów"
   ]
  },
  {
   "cell_type": "code",
   "execution_count": 16,
   "id": "94cd5a8e-a7db-4d7e-8912-9212b09b22c4",
   "metadata": {},
   "outputs": [],
   "source": [
    "# do sprawdzenia enkodera nie uruchamiać bloków sekcji 1\n",
    "send_msg(0x1A0 + nr_id, None, bus)\n",
    "time.sleep(1)\n",
    "send_msg(0x1F0 + nr_id, [2,2], bus)\n",
    "send_msg(0x110 + nr_id, [2], bus)\n",
    "time.sleep(0.1)\n",
    "send_msg(0x110 + nr_id, [3], bus)\n",
    "time.sleep(6)"
   ]
  },
  {
   "cell_type": "code",
   "execution_count": 17,
   "id": "bdb37ed8-5cb8-4b1e-8d4f-90c03718d233",
   "metadata": {},
   "outputs": [
    {
     "data": {
      "text/plain": [
       "<joint_can.JointData at 0xabfb7070>"
      ]
     },
     "execution_count": 17,
     "metadata": {},
     "output_type": "execute_result"
    }
   ],
   "source": [
    "position_data=[]\n",
    "speed_data=[]\n",
    "\n",
    "set_speed(0.1,bus,nr_id)\n",
    "time.sleep(1)\n",
    "\n",
    "run_time=65\n",
    "start_time=time.time()\n",
    "\n",
    "while((time.time()-start_time)<(run_time)):\n",
    "    data=set_speed(0.1,bus,nr_id)\n",
    "    position_data.append(data.position)\n",
    "    speed_data.append(data.speed)\n",
    "set_speed(0,bus, nr_id)"
   ]
  },
  {
   "cell_type": "code",
   "execution_count": 18,
   "id": "54901fa0-6fdf-44df-a970-1faf34e2dc2a",
   "metadata": {
    "tags": []
   },
   "outputs": [
    {
     "data": {
      "application/vnd.jupyter.widget-view+json": {
       "model_id": "7f86955228cf4038b9de54dbfc33cba6",
       "version_major": 2,
       "version_minor": 0
      },
      "image/png": "[encoded data removed]",
      "text/html": [
       "\n",
       "            <div style=\"display: inline-block;\">\n",
       "                <div class=\"jupyter-widgets widget-label\" style=\"text-align: center;\">\n",
       "                    Figure 1\n",
       "                </div>\n",
       "                <img src='data:image/png;base64,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' width=640.0/>\n",
       "            </div>\n",
       "        "
      ],
      "text/plain": [
       "Canvas(toolbar=Toolbar(toolitems=[('Home', 'Reset original view', 'home', 'home'), ('Back', 'Back to previous …"
      ]
     },
     "metadata": {},
     "output_type": "display_data"
    }
   ],
   "source": [
    "plt.plot(position_data)\n",
    "# plt.plot(speed_data)\n",
    "plt.suptitle(serial+ '\\n' +note)\n",
    "plt.show()\n",
    "plt.savefig(path+'/'+serial+'/enkoder_'+time.strftime('%y_%m_%d_%H_%M')+'.png', dpi=150)"
   ]
  },
  {
   "cell_type": "markdown",
   "id": "1320d5f2-52a6-4022-8ab9-fbbcf66bf506",
   "metadata": {},
   "source": [
    "# ustawienie na zerze [uruchomić komórki 1.1-1.5]"
   ]
  },
  {
   "cell_type": "code",
   "execution_count": 19,
   "id": "8b59c4b8-6848-4a6f-b910-2fe166f6e0d9",
   "metadata": {
    "tags": []
   },
   "outputs": [
    {
     "name": "stdout",
     "output_type": "stream",
     "text": [
      "0.24592380140509876\n",
      "0.005081464968635751\n"
     ]
    }
   ],
   "source": [
    "send_msg(0x1A0 + nr_id, None, bus)\n",
    "time.sleep(1)\n",
    "send_msg(0x1F0 + nr_id, [2,2], bus)\n",
    "send_msg(0x110 + nr_id, [2], bus)\n",
    "time.sleep(1)\n",
    "send_msg(0x110 + nr_id, [3], bus)\n",
    "time.sleep(2)\n",
    "\n",
    "\n",
    "data=set_speed(0,bus,nr_id)\n",
    "sgn=(int(data.position>0) - int(data.position<0))\n",
    "\n",
    "data=set_speed(sgn*0.1,bus,nr_id)\n",
    "print(data.position)\n",
    "while(abs(data.position)>0.01):\n",
    "    if (abs(data.position)>0.2):\n",
    "        data=set_speed(sgn*-0.25,bus,nr_id)\n",
    "    else:\n",
    "        data=set_speed(sgn*-0.05,bus,nr_id)\n",
    "    time.sleep(0.1)\n",
    "\n",
    "send_msg(0x110 + nr_id, [2], bus)\n",
    "print(data.position)"
   ]
  },
  {
   "cell_type": "code",
   "execution_count": null,
   "id": "d976f9d9-0ca6-42c9-b6c7-192fac20e501",
   "metadata": {},
   "outputs": [],
   "source": []
  }
 ],
 "metadata": {
  "kernelspec": {
   "display_name": "Python 3 (ipykernel)",
   "language": "python",
   "name": "python3"
  },
  "language_info": {
   "codemirror_mode": {
    "name": "ipython",
    "version": 3
   },
   "file_extension": ".py",
   "mimetype": "text/x-python",
   "name": "python",
   "nbconvert_exporter": "python",
   "pygments_lexer": "ipython3",
   "version": "3.9.2"
  }
 },
 "nbformat": 4,
 "nbformat_minor": 5
}
