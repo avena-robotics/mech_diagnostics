{
 "cells": [
  {
   "cell_type": "markdown",
   "id": "5826fd0a-f840-4a3c-80f9-1f164cc800bd",
   "metadata": {},
   "source": [
    "# Inicjalizacja kontrolera"
   ]
  },
  {
   "cell_type": "code",
   "execution_count": 1,
   "id": "b035e35f-c206-42c4-8294-ea7c0adca636",
   "metadata": {},
   "outputs": [],
   "source": [
    "import can\n",
    "import matplotlib.pyplot as plt\n",
    "from matplotlib import interactive\n",
    "import numpy as np\n",
    "import os\n",
    "import time\n",
    "import math\n",
    "from IPython.display import display, clear_output\n",
    "from joint_can import *\n",
    "%matplotlib widget"
   ]
  },
  {
   "cell_type": "code",
   "execution_count": 2,
   "id": "ad7c80c1-8bc2-46b5-a2e0-d7fdecfbe6d3",
   "metadata": {},
   "outputs": [],
   "source": [
    "def calibrate_joint(cmd,bus):\n",
    "    send_msg(0x0A0, None, bus)\n",
    "    time.sleep(2)\n",
    "    \n",
    "    if (send_msg(0x010, None, bus).data[0] == 1):\n",
    "        send_msg(0x010, [cmd]*6, bus)\n",
    "        time.sleep(1)\n",
    "        return True\n",
    "    else:\n",
    "        return False\n",
    "        # print(send_msg(0x010, [3], bus).data[0])\n",
    "        # time.sleep(5)        "
   ]
  },
  {
   "cell_type": "code",
   "execution_count": 3,
   "id": "473b81b5-d519-4f30-b61c-3dc44c89a758",
   "metadata": {},
   "outputs": [],
   "source": [
    "serial=\"JANUSZ_3_RI70_21414855\" #musi byc min jedna litera w numerze\n",
    "note=\"znalezny\" #póki co musi być cokolwiek\n",
    "path = \"/home/ubuntu/joint_diagnostic/diagnostic_data\""
   ]
  },
  {
   "cell_type": "code",
   "execution_count": 4,
   "id": "abffa421-5f90-41cc-92d0-9ab0813f533c",
   "metadata": {},
   "outputs": [],
   "source": [
    "try: \n",
    "    os.mkdir(path+'/'+serial) \n",
    "except OSError as error: \n",
    "    pass"
   ]
  },
  {
   "cell_type": "code",
   "execution_count": 17,
   "id": "a304a872-2f14-4cb9-aa58-c5aed8e9feb5",
   "metadata": {},
   "outputs": [],
   "source": [
    "os.popen('/home/ubuntu/can_down.sh')\n",
    "time.sleep(1)\n",
    "os.popen('/home/ubuntu/can_up.sh')\n",
    "time.sleep(1)\n",
    "\n",
    "\n",
    "bus = can.interface.Bus(bustype='socketcan', channel='can0', bitrate=1000000, data_bitrate=5000000, fd=True)"
   ]
  },
  {
   "cell_type": "markdown",
   "id": "a1b3b11a-4f89-48fb-aa8a-24fafd212e51",
   "metadata": {},
   "source": [
    "# Reset adresów CAN"
   ]
  },
  {
   "cell_type": "code",
   "execution_count": 18,
   "id": "7803ba81-952b-4db1-a4f8-276643e3c325",
   "metadata": {},
   "outputs": [],
   "source": [
    "send_msg(0x030, [64,1,0,0,0,0,0,0], bus)\n",
    "time.sleep(0.1)\n",
    "send_msg(0x040, None, bus)\n",
    "time.sleep(0.1)\n",
    "send_msg(0x0a0, None, bus)\n",
    "time.sleep(1)"
   ]
  },
  {
   "cell_type": "markdown",
   "id": "298a0571-333a-411e-9af4-e7a63734ec4a",
   "metadata": {
    "tags": []
   },
   "source": [
    "# Kalibracja enkodera absolutnego"
   ]
  },
  {
   "cell_type": "code",
   "execution_count": 7,
   "id": "afabb2c0-3b1c-4211-b92e-a4982cc0fbcb",
   "metadata": {},
   "outputs": [
    {
     "name": "stdout",
     "output_type": "stream",
     "text": [
      "1/2 Calibration done          "
     ]
    }
   ],
   "source": [
    "while not calibrate_joint(131,bus):\n",
    "    time.sleep(1)\n",
    "    \n",
    "while(get_data(send_msg(0x000,None,bus),bus).FSM != 1):\n",
    "\n",
    "\n",
    "    print(f'Calibration in progress\\r', end='')\n",
    "    time.sleep(1)\n",
    "print('                              \\r',end='')\n",
    "\n",
    "send_msg(0x010, [2], bus)\n",
    "time.sleep(0.1)\n",
    "send_msg(0x010, [1], bus)\n",
    "time.sleep(0.1)\n",
    "send_msg(0x040, None, bus)\n",
    "time.sleep(1)\n",
    "\n",
    "print(f'1/2 Calibration done', end='')"
   ]
  },
  {
   "cell_type": "markdown",
   "id": "bafc02c3-91df-443b-8078-c90e83698ea9",
   "metadata": {},
   "source": [
    "# Kalibracja zera"
   ]
  },
  {
   "cell_type": "code",
   "execution_count": 8,
   "id": "81d3bdff-d4b7-4028-b69d-33faa89945ed",
   "metadata": {},
   "outputs": [
    {
     "name": "stdout",
     "output_type": "stream",
     "text": [
      "2/2 Calibration done          "
     ]
    }
   ],
   "source": [
    "while not calibrate_joint(161,bus):\n",
    "    time.sleep(1)\n",
    "    \n",
    "while(get_data(send_msg(0x000,None,bus),bus).FSM != 1):\n",
    "\n",
    "\n",
    "    print(f'Calibration in progress\\r', end='')\n",
    "    time.sleep(1)\n",
    "print('                              \\r',end='')\n",
    "\n",
    "send_msg(0x010, [2], bus)\n",
    "time.sleep(0.1)\n",
    "send_msg(0x010, [1], bus)\n",
    "time.sleep(0.1)\n",
    "send_msg(0x040, None, bus)\n",
    "time.sleep(1)\n",
    "\n",
    "print(f'2/2 Calibration done', end='')"
   ]
  },
  {
   "cell_type": "markdown",
   "id": "e0cc2f43-a22d-49f2-8dd5-1d7b985900fc",
   "metadata": {},
   "source": [
    "# Test enkoderów"
   ]
  },
  {
   "cell_type": "code",
   "execution_count": 13,
   "id": "94cd5a8e-a7db-4d7e-8912-9212b09b22c4",
   "metadata": {},
   "outputs": [],
   "source": [
    "# do sprawdzenia enkodera nie uruchamiać bloków sekcji 1\n",
    "send_msg(0x0A0, None, bus)\n",
    "time.sleep(1)\n",
    "send_msg(0x0F0, [2,2], bus)\n",
    "send_msg(0x010, [2], bus)\n",
    "time.sleep(0.1)\n",
    "send_msg(0x010, [3], bus)\n",
    "time.sleep(6)"
   ]
  },
  {
   "cell_type": "code",
   "execution_count": 14,
   "id": "bdb37ed8-5cb8-4b1e-8d4f-90c03718d233",
   "metadata": {},
   "outputs": [
    {
     "data": {
      "text/plain": [
       "<joint_can.JointData at 0xffff672026a0>"
      ]
     },
     "execution_count": 14,
     "metadata": {},
     "output_type": "execute_result"
    }
   ],
   "source": [
    "position_data=[]\n",
    "speed_data=[]\n",
    "\n",
    "set_speed(0.1,bus)\n",
    "time.sleep(1)\n",
    "\n",
    "run_time=60\n",
    "start_time=time.time()\n",
    "\n",
    "while((time.time()-start_time)<(run_time)):\n",
    "    data=set_speed(0.1,bus)\n",
    "    position_data.append(data.position)\n",
    "    speed_data.append(data.speed)\n",
    "set_speed(0.,bus)"
   ]
  },
  {
   "cell_type": "code",
   "execution_count": 15,
   "id": "54901fa0-6fdf-44df-a970-1faf34e2dc2a",
   "metadata": {
    "tags": []
   },
   "outputs": [
    {
     "data": {
      "application/vnd.jupyter.widget-view+json": {
       "model_id": "958816761d334cf3af1ab429bf9b5656",
       "version_major": 2,
       "version_minor": 0
      },
      "image/png": "[encoded data removed]",
      "text/html": [
       "\n",
       "            <div style=\"display: inline-block;\">\n",
       "                <div class=\"jupyter-widgets widget-label\" style=\"text-align: center;\">\n",
       "                    Figure 1\n",
       "                </div>\n",
       "                <img src='data:image/png;base64,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' width=640.0/>\n",
       "            </div>\n",
       "        "
      ],
      "text/plain": [
       "Canvas(toolbar=Toolbar(toolitems=[('Home', 'Reset original view', 'home', 'home'), ('Back', 'Back to previous …"
      ]
     },
     "metadata": {},
     "output_type": "display_data"
    }
   ],
   "source": [
    "plt.plot(position_data)\n",
    "# plt.plot(speed_data)\n",
    "plt.suptitle(serial+ '\\n' +note)\n",
    "plt.show()\n",
    "plt.savefig(path+'/'+serial+'/enkoder_'+time.strftime('%y_%m_%d_%H_%M')+'.png', dpi=150)"
   ]
  },
  {
   "cell_type": "markdown",
   "id": "1320d5f2-52a6-4022-8ab9-fbbcf66bf506",
   "metadata": {},
   "source": [
    "# ustawienie na zerze [uruchomić komórki 1.1-1.5]"
   ]
  },
  {
   "cell_type": "code",
   "execution_count": 12,
   "id": "8b59c4b8-6848-4a6f-b910-2fe166f6e0d9",
   "metadata": {
    "tags": []
   },
   "outputs": [
    {
     "name": "stdout",
     "output_type": "stream",
     "text": [
      "0.00862877213558387\n"
     ]
    }
   ],
   "source": [
    "send_msg(0x0A0, None, bus)\n",
    "time.sleep(1)\n",
    "send_msg(0x0F0, [2,2], bus)\n",
    "send_msg(0x010, [2], bus)\n",
    "time.sleep(0.1)\n",
    "send_msg(0x010, [3], bus)\n",
    "time.sleep(6)\n",
    "\n",
    "\n",
    "data=set_speed(0,bus)\n",
    "\n",
    "sgn=(int(data.position>0) - int(data.position<0))\n",
    "\n",
    "data=set_speed(sgn*0.1,bus)\n",
    "\n",
    "while(abs(data.position)>0.01):\n",
    "    if (abs(data.position)>0.2):\n",
    "        data=set_speed(sgn*0.2,bus)\n",
    "    else:\n",
    "        data=set_speed(sgn*0.05,bus)\n",
    "    time.sleep(0.1)\n",
    "\n",
    "send_msg(0x010, [2], bus)\n",
    "print(data.position)"
   ]
  },
  {
   "cell_type": "code",
   "execution_count": null,
   "id": "c98c4e9f-9083-4ab5-9071-22ffc4d7600c",
   "metadata": {},
   "outputs": [],
   "source": []
  }
 ],
 "metadata": {
  "kernelspec": {
   "display_name": "Python 3 (ipykernel)",
   "language": "python",
   "name": "python3"
  },
  "language_info": {
   "codemirror_mode": {
    "name": "ipython",
    "version": 3
   },
   "file_extension": ".py",
   "mimetype": "text/x-python",
   "name": "python",
   "nbconvert_exporter": "python",
   "pygments_lexer": "ipython3",
   "version": "3.8.10"
  }
 },
 "nbformat": 4,
 "nbformat_minor": 5
}
