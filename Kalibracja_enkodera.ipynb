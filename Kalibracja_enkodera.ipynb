{
 "cells": [
  {
   "cell_type": "markdown",
   "id": "5826fd0a-f840-4a3c-80f9-1f164cc800bd",
   "metadata": {},
   "source": [
    "# Inicjalizacja kontrolera"
   ]
  },
  {
   "cell_type": "code",
   "execution_count": 1,
   "id": "b035e35f-c206-42c4-8294-ea7c0adca636",
   "metadata": {},
   "outputs": [],
   "source": [
    "import can\n",
    "import matplotlib.pyplot as plt\n",
    "from matplotlib import interactive\n",
    "import numpy as np\n",
    "import os\n",
    "import time\n",
    "import math\n",
    "from IPython.display import display, clear_output\n",
    "from joint_can import *\n",
    "%matplotlib widget"
   ]
  },
  {
   "cell_type": "code",
   "execution_count": 2,
   "id": "ad7c80c1-8bc2-46b5-a2e0-d7fdecfbe6d3",
   "metadata": {},
   "outputs": [],
   "source": [
    "def calibrate_joint(cmd,bus,nr_id):\n",
    "    send_msg(0x1A0 + nr_id, None, bus)\n",
    "    time.sleep(2)\n",
    "    send_msg(0x1F0 + nr_id, [1,6], bus)\n",
    "    send_msg(0x110 + nr_id, [1], bus)\n",
    "    \n",
    "    if (send_msg(0x110 + nr_id, None, bus).data[0] == 1):\n",
    "        send_msg(0x110 + nr_id, [cmd], bus)\n",
    "        time.sleep(1)\n",
    "        return True\n",
    "    else:\n",
    "        return False\n",
    "        # print(send_msg(0x010, [3], bus).data[0])\n",
    "        # time.sleep(5)        "
   ]
  },
  {
   "cell_type": "code",
   "execution_count": 3,
   "id": "c693a3df-3b75-4b48-9012-4611cb0abc3c",
   "metadata": {},
   "outputs": [],
   "source": [
    "# Ustawienie adresu CAN na \"nr_id\"\n",
    "\n",
    "def initialize_joint(bus, mode: int, nr_id):\n",
    "    send_msg(0x1A0 + nr_id, None, bus)\n",
    "    time.sleep(1)\n",
    "    \n",
    "    send_msg(0x1b0 + nr_id, [0,0,0,0,0,0], bus)\n",
    "    time.sleep(0.1)\n",
    "    send_msg(0x140 + nr_id, None, bus)\n",
    "    time.sleep(0.1)\n",
    "    send_msg(0x1a0 + nr_id, None, bus)\n",
    "    time.sleep(1)\n",
    "    \n",
    "    if (send_msg(0x1F0 + nr_id, [mode, 2], bus).data[0] == 1):\n",
    "        send_msg(0x110 + nr_id, [2], bus)\n",
    "        time.sleep(1)\n",
    "        send_msg(0x110 + nr_id, [3], bus).data[0]\n",
    "        time.sleep(5)\n",
    "        return True\n",
    "    else:\n",
    "        return False\n",
    "      "
   ]
  },
  {
   "cell_type": "code",
   "execution_count": 4,
   "id": "a304a872-2f14-4cb9-aa58-c5aed8e9feb5",
   "metadata": {
    "tags": []
   },
   "outputs": [],
   "source": [
    "os.popen('/home/pi/mech_diagnostics/can_down.sh')\n",
    "time.sleep(1)\n",
    "os.popen('/home/pi/mech_diagnostics/can_up.sh')\n",
    "time.sleep(1)\n",
    "\n",
    "bus = can.interface.Bus(bustype='socketcan', channel='can0', bitrate=1000000, data_bitrate=5000000, fd=False)"
   ]
  },
  {
   "cell_type": "markdown",
   "id": "a9bbb96f-03be-41c9-9d25-c6d60bbe41f1",
   "metadata": {},
   "source": [
    "# Parametry kalibracji"
   ]
  },
  {
   "cell_type": "code",
   "execution_count": 5,
   "id": "9a1269cb-6b25-4080-b3a3-63ffb9dd250e",
   "metadata": {},
   "outputs": [],
   "source": [
    "nr_id = get_can_id(bus)"
   ]
  },
  {
   "cell_type": "code",
   "execution_count": 6,
   "id": "473b81b5-d519-4f30-b61c-3dc44c89a758",
   "metadata": {},
   "outputs": [],
   "source": [
    "serial=\"JANUSZ_4_RI80_21414851\" #musi byc min jedna litera w numerze\n",
    "note=\"J4\" #póki co musi być cokolwiek"
   ]
  },
  {
   "cell_type": "code",
   "execution_count": 7,
   "id": "abffa421-5f90-41cc-92d0-9ab0813f533c",
   "metadata": {},
   "outputs": [],
   "source": [
    "path = \"/home/pi/mech_diagnostics/diagnostic_data\"\n",
    "try: \n",
    "    os.mkdir(path+'/'+serial) \n",
    "except OSError as error: \n",
    "    pass"
   ]
  },
  {
   "cell_type": "code",
   "execution_count": 8,
   "id": "c6b9cb45-6846-4139-b384-fc8ab4499faf",
   "metadata": {},
   "outputs": [
    {
     "data": {
      "text/plain": [
       "True"
      ]
     },
     "execution_count": 8,
     "metadata": {},
     "output_type": "execute_result"
    }
   ],
   "source": [
    "initialize_joint(bus,2, nr_id)"
   ]
  },
  {
   "cell_type": "markdown",
   "id": "298a0571-333a-411e-9af4-e7a63734ec4a",
   "metadata": {
    "tags": []
   },
   "source": [
    "# Kalibracja enkodera inkrementalnego"
   ]
  },
  {
   "cell_type": "code",
   "execution_count": 9,
   "id": "afabb2c0-3b1c-4211-b92e-a4982cc0fbcb",
   "metadata": {},
   "outputs": [
    {
     "name": "stdout",
     "output_type": "stream",
     "text": [
      "1/2 Calibration done          "
     ]
    }
   ],
   "source": [
    "while not calibrate_joint(131,bus,nr_id): # 131 uruchomienie kalibracji enk absolutnego\n",
    "    time.sleep(1)\n",
    "    \n",
    "while(get_data_t(send_msg(0x180 + nr_id,None,bus)).FSM != 1):\n",
    "\n",
    "\n",
    "    print(f'Calibration in progress\\r', end='')\n",
    "    time.sleep(1)\n",
    "print('                              \\r',end='')\n",
    "\n",
    "send_msg(0x110 + nr_id, [2], bus)\n",
    "time.sleep(0.1)\n",
    "send_msg(0x110 + nr_id, [1], bus)\n",
    "time.sleep(0.1)\n",
    "send_msg(0x140 + nr_id, None, bus)\n",
    "time.sleep(1)\n",
    "\n",
    "print(f'1/2 Calibration done', end='')"
   ]
  },
  {
   "cell_type": "markdown",
   "id": "bafc02c3-91df-443b-8078-c90e83698ea9",
   "metadata": {},
   "source": [
    "# Kalibracja Absolutnego (zera)"
   ]
  },
  {
   "cell_type": "code",
   "execution_count": 10,
   "id": "81d3bdff-d4b7-4028-b69d-33faa89945ed",
   "metadata": {},
   "outputs": [
    {
     "name": "stdout",
     "output_type": "stream",
     "text": [
      "2/2 Calibration done          "
     ]
    }
   ],
   "source": [
    "while not calibrate_joint(161,bus,nr_id): # 161 uruchomienie kalibracji zera\n",
    "    time.sleep(0.5)\n",
    "    \n",
    "while(get_data_t(send_msg(0x180 + nr_id,None,bus)).FSM != 1):\n",
    "\n",
    "\n",
    "    print(f'Calibration in progress\\r', end='')\n",
    "    time.sleep(1)\n",
    "print('                              \\r',end='')\n",
    "\n",
    "send_msg(0x110 + nr_id, [2], bus)\n",
    "time.sleep(0.1)\n",
    "send_msg(0x110 + nr_id, [1], bus)\n",
    "time.sleep(0.1)\n",
    "send_msg(0x140 + nr_id, None, bus)\n",
    "time.sleep(1)\n",
    "\n",
    "print(f'2/2 Calibration done', end='')"
   ]
  },
  {
   "cell_type": "markdown",
   "id": "e0cc2f43-a22d-49f2-8dd5-1d7b985900fc",
   "metadata": {},
   "source": [
    "# Test enkoderów"
   ]
  },
  {
   "cell_type": "code",
   "execution_count": 11,
   "id": "94cd5a8e-a7db-4d7e-8912-9212b09b22c4",
   "metadata": {},
   "outputs": [],
   "source": [
    "# do sprawdzenia enkodera nie uruchamiać bloków sekcji 1\n",
    "send_msg(0x1A0 + nr_id, None, bus)\n",
    "time.sleep(1)\n",
    "send_msg(0x1F0 + nr_id, [2,2], bus)\n",
    "send_msg(0x110 + nr_id, [2], bus)\n",
    "time.sleep(0.1)\n",
    "send_msg(0x110 + nr_id, [3], bus)\n",
    "time.sleep(6)"
   ]
  },
  {
   "cell_type": "code",
   "execution_count": 12,
   "id": "bdb37ed8-5cb8-4b1e-8d4f-90c03718d233",
   "metadata": {},
   "outputs": [
    {
     "data": {
      "text/plain": [
       "<joint_can.JointData at 0xac897be0>"
      ]
     },
     "execution_count": 12,
     "metadata": {},
     "output_type": "execute_result"
    }
   ],
   "source": [
    "position_data=[]\n",
    "speed_data=[]\n",
    "\n",
    "set_speed(0.1,bus,nr_id)\n",
    "time.sleep(1)\n",
    "\n",
    "run_time=68\n",
    "start_time=time.time()\n",
    "\n",
    "while((time.time()-start_time)<(run_time)):\n",
    "    data=set_speed(0.1,bus,nr_id)\n",
    "    position_data.append(data.position)\n",
    "    speed_data.append(data.speed)\n",
    "set_speed(0,bus, nr_id)"
   ]
  },
  {
   "cell_type": "code",
   "execution_count": 13,
   "id": "54901fa0-6fdf-44df-a970-1faf34e2dc2a",
   "metadata": {
    "tags": []
   },
   "outputs": [
    {
     "data": {
      "application/vnd.jupyter.widget-view+json": {
       "model_id": "e0423052bd904337898d54c066a8a793",
       "version_major": 2,
       "version_minor": 0
      },
      "image/png": "[encoded data removed]",
      "text/html": [
       "\n",
       "            <div style=\"display: inline-block;\">\n",
       "                <div class=\"jupyter-widgets widget-label\" style=\"text-align: center;\">\n",
       "                    Figure\n",
       "                </div>\n",
       "                <img src='data:image/png;base64,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' width=640.0/>\n",
       "            </div>\n",
       "        "
      ],
      "text/plain": [
       "Canvas(toolbar=Toolbar(toolitems=[('Home', 'Reset original view', 'home', 'home'), ('Back', 'Back to previous …"
      ]
     },
     "metadata": {},
     "output_type": "display_data"
    }
   ],
   "source": [
    "plt.plot(position_data)\n",
    "# plt.plot(speed_data)\n",
    "plt.suptitle(serial+ '\\n' +note)\n",
    "plt.show()\n",
    "plt.savefig(path+'/'+serial+'/enkoder_'+time.strftime('%y_%m_%d_%H_%M')+'.png', dpi=150)"
   ]
  },
  {
   "cell_type": "markdown",
   "id": "1320d5f2-52a6-4022-8ab9-fbbcf66bf506",
   "metadata": {},
   "source": [
    "# ustawienie na zerze [uruchomić komórki 1.1-1.5]"
   ]
  },
  {
   "cell_type": "code",
   "execution_count": 14,
   "id": "8b59c4b8-6848-4a6f-b910-2fe166f6e0d9",
   "metadata": {
    "tags": []
   },
   "outputs": [
    {
     "name": "stdout",
     "output_type": "stream",
     "text": [
      "0.7008588313955725\n",
      "0.006327862395243294\n"
     ]
    }
   ],
   "source": [
    "send_msg(0x1A0 + nr_id, None, bus)\n",
    "time.sleep(1)\n",
    "send_msg(0x1F0 + nr_id, [2,2], bus)\n",
    "send_msg(0x110 + nr_id, [2], bus)\n",
    "time.sleep(1)\n",
    "send_msg(0x110 + nr_id, [3], bus)\n",
    "time.sleep(2)\n",
    "\n",
    "\n",
    "data=set_speed(0,bus,nr_id)\n",
    "sgn=(int(data.position>0) - int(data.position<0))\n",
    "\n",
    "data=set_speed(sgn*0.1,bus,nr_id)\n",
    "print(data.position)\n",
    "while(abs(data.position)>0.01):\n",
    "    if (abs(data.position)>0.2):\n",
    "        data=set_speed(sgn*-0.25,bus,nr_id)\n",
    "    else:\n",
    "        data=set_speed(sgn*-0.05,bus,nr_id)\n",
    "    time.sleep(0.1)\n",
    "\n",
    "send_msg(0x110 + nr_id, [2], bus)\n",
    "print(data.position)"
   ]
  },
  {
   "cell_type": "code",
   "execution_count": null,
   "id": "c98c4e9f-9083-4ab5-9071-22ffc4d7600c",
   "metadata": {},
   "outputs": [],
   "source": []
  }
 ],
 "metadata": {
  "kernelspec": {
   "display_name": "Python 3 (ipykernel)",
   "language": "python",
   "name": "python3"
  },
  "language_info": {
   "codemirror_mode": {
    "name": "ipython",
    "version": 3
   },
   "file_extension": ".py",
   "mimetype": "text/x-python",
   "name": "python",
   "nbconvert_exporter": "python",
   "pygments_lexer": "ipython3",
   "version": "3.9.2"
  }
 },
 "nbformat": 4,
 "nbformat_minor": 5
}
