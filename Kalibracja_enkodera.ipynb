{
 "cells": [
  {
   "cell_type": "markdown",
   "id": "5826fd0a-f840-4a3c-80f9-1f164cc800bd",
   "metadata": {
    "tags": []
   },
   "source": [
    "# Inicjalizacja kontrolera"
   ]
  },
  {
   "cell_type": "code",
   "execution_count": 1,
   "id": "b035e35f-c206-42c4-8294-ea7c0adca636",
   "metadata": {},
   "outputs": [],
   "source": [
    "import can\n",
    "import matplotlib.pyplot as plt\n",
    "from matplotlib import interactive\n",
    "import numpy as np\n",
    "import os\n",
    "import time\n",
    "import math\n",
    "from IPython.display import display, clear_output\n",
    "from joint_can import *\n",
    "%matplotlib widget"
   ]
  },
  {
   "cell_type": "code",
   "execution_count": 2,
   "id": "ad7c80c1-8bc2-46b5-a2e0-d7fdecfbe6d3",
   "metadata": {},
   "outputs": [],
   "source": [
    "def calibrate_joint(cmd,bus,nr_id):\n",
    "    send_msg(0x1A0 + nr_id, None, bus)\n",
    "    time.sleep(2)\n",
    "    send_msg(0x1F0 + nr_id, [1,6], bus)\n",
    "    send_msg(0x110 + nr_id, [1], bus)\n",
    "    \n",
    "    if (send_msg(0x110 + nr_id, None, bus).data[0] == 1):\n",
    "        send_msg(0x110 + nr_id, [cmd], bus)\n",
    "        time.sleep(1)\n",
    "        return True\n",
    "    else:\n",
    "        return False\n",
    "        # print(send_msg(0x010, [3], bus).data[0])\n",
    "        # time.sleep(5)        "
   ]
  },
  {
   "cell_type": "code",
   "execution_count": 3,
   "id": "c693a3df-3b75-4b48-9012-4611cb0abc3c",
   "metadata": {},
   "outputs": [],
   "source": [
    "# Ustawienie adresu CAN na \"nr_id\"\n",
    "\n",
    "def initialize_joint(bus, mode: int, nr_id):\n",
    "    send_msg(0x1A0 + nr_id, None, bus)\n",
    "    time.sleep(1)\n",
    "    \n",
    "    send_msg(0x1b0 + nr_id, [0,0,0,0,0,0], bus)\n",
    "    time.sleep(0.1)\n",
    "    send_msg(0x140 + nr_id, None, bus)\n",
    "    time.sleep(0.1)\n",
    "    send_msg(0x1a0 + nr_id, None, bus)\n",
    "    time.sleep(1)\n",
    "    \n",
    "    if (send_msg(0x1F0 + nr_id, [mode, 2], bus).data[0] == 1):\n",
    "        send_msg(0x110 + nr_id, [2], bus)\n",
    "        time.sleep(1)\n",
    "        send_msg(0x110 + nr_id, [3], bus).data[0]\n",
    "        time.sleep(5)\n",
    "        return True\n",
    "    else:\n",
    "        return False\n",
    "      "
   ]
  },
  {
   "cell_type": "code",
   "execution_count": 4,
   "id": "a304a872-2f14-4cb9-aa58-c5aed8e9feb5",
   "metadata": {
    "tags": []
   },
   "outputs": [],
   "source": [
    "# os.popen('/home/pi/mech_diagnostics/can_down.sh')\n",
    "# time.sleep(1)\n",
    "# os.popen('/home/pi/mech_diagnostics/can_up.sh')\n",
    "# time.sleep(1)\n"
   ]
  },
  {
   "cell_type": "code",
   "execution_count": 5,
   "id": "aefa4f0c-a1df-4ac1-897d-9bc6225cfb39",
   "metadata": {},
   "outputs": [],
   "source": [
    "bus = can.interface.Bus(bustype='socketcan', channel='can0', bitrate=1000000, data_bitrate=5000000, fd=True)"
   ]
  },
  {
   "cell_type": "markdown",
   "id": "a9bbb96f-03be-41c9-9d25-c6d60bbe41f1",
   "metadata": {
    "tags": []
   },
   "source": [
    "# Parametry kalibracji"
   ]
  },
  {
   "cell_type": "code",
   "execution_count": 6,
   "id": "9a1269cb-6b25-4080-b3a3-63ffb9dd250e",
   "metadata": {},
   "outputs": [],
   "source": [
    "nr_id = get_can_id(bus)"
   ]
  },
  {
   "cell_type": "code",
   "execution_count": 7,
   "id": "473b81b5-d519-4f30-b61c-3dc44c89a758",
   "metadata": {},
   "outputs": [],
   "source": [
    "serial=\"JANUSZ_6_RI80_B001905087\" #musi byc min jedna litera w numerze\n",
    "note=\"Janusz 6 - joint 2\"  #póki co musi być cokolwiek"
   ]
  },
  {
   "cell_type": "code",
   "execution_count": 8,
   "id": "abffa421-5f90-41cc-92d0-9ab0813f533c",
   "metadata": {},
   "outputs": [],
   "source": [
    "path = \"/home/pi/mech_diagnostics/diagnostic_data\"\n",
    "try: \n",
    "    os.mkdir(path+'/'+serial) \n",
    "except OSError as error: \n",
    "    pass"
   ]
  },
  {
   "cell_type": "code",
   "execution_count": 9,
   "id": "c6b9cb45-6846-4139-b384-fc8ab4499faf",
   "metadata": {},
   "outputs": [
    {
     "data": {
      "text/plain": [
       "True"
      ]
     },
     "execution_count": 9,
     "metadata": {},
     "output_type": "execute_result"
    }
   ],
   "source": [
    "initialize_joint(bus,2, nr_id)"
   ]
  },
  {
   "cell_type": "markdown",
   "id": "298a0571-333a-411e-9af4-e7a63734ec4a",
   "metadata": {
    "tags": []
   },
   "source": [
    "# Kalibracja enkodera absolutnego"
   ]
  },
  {
   "cell_type": "code",
   "execution_count": 10,
   "id": "afabb2c0-3b1c-4211-b92e-a4982cc0fbcb",
   "metadata": {
    "tags": []
   },
   "outputs": [
    {
     "name": "stdout",
     "output_type": "stream",
     "text": [
      "1/2 Calibration done          "
     ]
    }
   ],
   "source": [
    "# while not calibrate_joint(131,bus,nr_id): # 131 uruchomienie kalibracji enk absolutnego\n",
    "#     time.sleep(1)\n",
    "    \n",
    "# while(get_data_t(send_msg(0x180 + nr_id,None,bus)).FSM != 1):\n",
    "\n",
    "\n",
    "#     print(f'Calibration in progress\\r', end='')\n",
    "#     time.sleep(1)\n",
    "# print('                              \\r',end='')\n",
    "\n",
    "# send_msg(0x110 + nr_id, [2], bus)\n",
    "# time.sleep(0.1)\n",
    "# send_msg(0x110 + nr_id, [1], bus)\n",
    "# time.sleep(0.1)\n",
    "# send_msg(0x140 + nr_id, None, bus)\n",
    "# time.sleep(1)\n",
    "\n",
    "# print(f'1/2 Calibration done', end='')"
   ]
  },
  {
   "cell_type": "markdown",
   "id": "bafc02c3-91df-443b-8078-c90e83698ea9",
   "metadata": {},
   "source": [
    "# Kalibracja miejsca zerowego"
   ]
  },
  {
   "cell_type": "code",
   "execution_count": 9,
   "id": "81d3bdff-d4b7-4028-b69d-33faa89945ed",
   "metadata": {},
   "outputs": [
    {
     "name": "stdout",
     "output_type": "stream",
     "text": [
      "2/2 Calibration done          "
     ]
    }
   ],
   "source": [
    "while not calibrate_joint(161,bus,nr_id): # 161 uruchomienie kalibracji zera\n",
    "    time.sleep(0.5)\n",
    "    \n",
    "while(get_data_t(send_msg(0x180 + nr_id,None,bus)).FSM != 1):\n",
    "\n",
    "\n",
    "    print(f'Calibration in progress\\r', end='')\n",
    "    time.sleep(1)\n",
    "print('                              \\r',end='')\n",
    "\n",
    "send_msg(0x110 + nr_id, [2], bus)\n",
    "time.sleep(0.1)\n",
    "send_msg(0x110 + nr_id, [1], bus)\n",
    "time.sleep(0.1)\n",
    "send_msg(0x140 + nr_id, None, bus)\n",
    "time.sleep(1)\n",
    "\n",
    "print(f'2/2 Calibration done', end='')"
   ]
  },
  {
   "cell_type": "markdown",
   "id": "e0cc2f43-a22d-49f2-8dd5-1d7b985900fc",
   "metadata": {},
   "source": [
    "# Test enkoderów"
   ]
  },
  {
   "cell_type": "code",
   "execution_count": 10,
   "id": "94cd5a8e-a7db-4d7e-8912-9212b09b22c4",
   "metadata": {},
   "outputs": [],
   "source": [
    "# # do sprawdzenia enkodera nie uruchamiać bloków sekcji 1\n",
    "# send_msg(0x1A0 + nr_id, None, bus)\n",
    "# time.sleep(1)\n",
    "# send_msg(0x1F0 + nr_id, [2,2], bus)\n",
    "# send_msg(0x110 + nr_id, [2], bus)\n",
    "# time.sleep(0.1)\n",
    "# send_msg(0x110 + nr_id, [3], bus)\n",
    "# time.sleep(6)"
   ]
  },
  {
   "cell_type": "code",
   "execution_count": 11,
   "id": "bdb37ed8-5cb8-4b1e-8d4f-90c03718d233",
   "metadata": {},
   "outputs": [
    {
     "ename": "KeyboardInterrupt",
     "evalue": "",
     "output_type": "error",
     "traceback": [
      "\u001b[0;31m---------------------------------------------------------------------------\u001b[0m",
      "\u001b[0;31mKeyboardInterrupt\u001b[0m                         Traceback (most recent call last)",
      "Cell \u001b[0;32mIn [11], line 11\u001b[0m\n\u001b[1;32m      8\u001b[0m start_time\u001b[38;5;241m=\u001b[39mtime\u001b[38;5;241m.\u001b[39mtime()\n\u001b[1;32m     10\u001b[0m \u001b[38;5;28;01mwhile\u001b[39;00m((time\u001b[38;5;241m.\u001b[39mtime()\u001b[38;5;241m-\u001b[39mstart_time)\u001b[38;5;241m<\u001b[39m(run_time)):\n\u001b[0;32m---> 11\u001b[0m     data\u001b[38;5;241m=\u001b[39m\u001b[43mset_speed\u001b[49m\u001b[43m(\u001b[49m\u001b[38;5;241;43m0.12\u001b[39;49m\u001b[43m,\u001b[49m\u001b[43mbus\u001b[49m\u001b[43m,\u001b[49m\u001b[43mnr_id\u001b[49m\u001b[43m)\u001b[49m\n\u001b[1;32m     12\u001b[0m     position_data\u001b[38;5;241m.\u001b[39mappend(data\u001b[38;5;241m.\u001b[39mposition)\n\u001b[1;32m     13\u001b[0m     speed_data\u001b[38;5;241m.\u001b[39mappend(data\u001b[38;5;241m.\u001b[39mspeed)\n",
      "File \u001b[0;32m~/mech_diagnostics/joint_can.py:69\u001b[0m, in \u001b[0;36mset_speed\u001b[0;34m(speed, bus, id)\u001b[0m\n\u001b[1;32m     67\u001b[0m speed_data\u001b[38;5;241m=\u001b[39m(\u001b[38;5;28mint\u001b[39m)(speed\u001b[38;5;241m*\u001b[39m\u001b[38;5;241m32767\u001b[39m\u001b[38;5;241m/\u001b[39m\u001b[38;5;241m2\u001b[39m)\n\u001b[1;32m     68\u001b[0m speed_data_b\u001b[38;5;241m=\u001b[39mspeed_data\u001b[38;5;241m.\u001b[39mto_bytes(\u001b[38;5;241m2\u001b[39m,\u001b[38;5;124m'\u001b[39m\u001b[38;5;124mlittle\u001b[39m\u001b[38;5;124m'\u001b[39m,signed\u001b[38;5;241m=\u001b[39m\u001b[38;5;28;01mTrue\u001b[39;00m)\n\u001b[0;32m---> 69\u001b[0m msg \u001b[38;5;241m=\u001b[39m \u001b[43msend_msg\u001b[49m\u001b[43m(\u001b[49m\u001b[38;5;241;43m0x100\u001b[39;49m\u001b[43m \u001b[49m\u001b[38;5;241;43m+\u001b[39;49m\u001b[43m \u001b[49m\u001b[38;5;28;43mid\u001b[39;49m\u001b[43m,\u001b[49m\u001b[43mspeed_data_b\u001b[49m\u001b[43m,\u001b[49m\u001b[43m \u001b[49m\u001b[43mbus\u001b[49m\u001b[43m)\u001b[49m\n\u001b[1;32m     70\u001b[0m \u001b[38;5;28;01mreturn\u001b[39;00m get_data(msg)\n",
      "File \u001b[0;32m~/mech_diagnostics/joint_can.py:26\u001b[0m, in \u001b[0;36msend_msg\u001b[0;34m(adr, data, bus)\u001b[0m\n\u001b[1;32m     23\u001b[0m \u001b[38;5;28;01mexcept\u001b[39;00m can\u001b[38;5;241m.\u001b[39mCanError:\n\u001b[1;32m     24\u001b[0m     \u001b[38;5;28mprint\u001b[39m(\u001b[38;5;124m\"\u001b[39m\u001b[38;5;124mMessage NOT sent\u001b[39m\u001b[38;5;124m\"\u001b[39m)\n\u001b[0;32m---> 26\u001b[0m \u001b[38;5;28;01mreturn\u001b[39;00m \u001b[43mbus\u001b[49m\u001b[38;5;241;43m.\u001b[39;49m\u001b[43mrecv\u001b[49m\u001b[43m(\u001b[49m\u001b[38;5;241;43m1\u001b[39;49m\u001b[43m)\u001b[49m\n",
      "File \u001b[0;32m~/.local/lib/python3.9/site-packages/can/bus.py:94\u001b[0m, in \u001b[0;36mBusABC.recv\u001b[0;34m(self, timeout)\u001b[0m\n\u001b[1;32m     89\u001b[0m time_left \u001b[38;5;241m=\u001b[39m timeout\n\u001b[1;32m     91\u001b[0m \u001b[38;5;28;01mwhile\u001b[39;00m \u001b[38;5;28;01mTrue\u001b[39;00m:\n\u001b[1;32m     92\u001b[0m \n\u001b[1;32m     93\u001b[0m     \u001b[38;5;66;03m# try to get a message\u001b[39;00m\n\u001b[0;32m---> 94\u001b[0m     msg, already_filtered \u001b[38;5;241m=\u001b[39m \u001b[38;5;28;43mself\u001b[39;49m\u001b[38;5;241;43m.\u001b[39;49m\u001b[43m_recv_internal\u001b[49m\u001b[43m(\u001b[49m\u001b[43mtimeout\u001b[49m\u001b[38;5;241;43m=\u001b[39;49m\u001b[43mtime_left\u001b[49m\u001b[43m)\u001b[49m\n\u001b[1;32m     96\u001b[0m     \u001b[38;5;66;03m# return it, if it matches\u001b[39;00m\n\u001b[1;32m     97\u001b[0m     \u001b[38;5;28;01mif\u001b[39;00m msg \u001b[38;5;129;01mand\u001b[39;00m (already_filtered \u001b[38;5;129;01mor\u001b[39;00m \u001b[38;5;28mself\u001b[39m\u001b[38;5;241m.\u001b[39m_matches_filters(msg)):\n",
      "File \u001b[0;32m~/.local/lib/python3.9/site-packages/can/interfaces/socketcan/socketcan.py:716\u001b[0m, in \u001b[0;36mSocketcanBus._recv_internal\u001b[0;34m(self, timeout)\u001b[0m\n\u001b[1;32m    710\u001b[0m \u001b[38;5;28;01mdef\u001b[39;00m \u001b[38;5;21m_recv_internal\u001b[39m(\n\u001b[1;32m    711\u001b[0m     \u001b[38;5;28mself\u001b[39m, timeout: Optional[\u001b[38;5;28mfloat\u001b[39m]\n\u001b[1;32m    712\u001b[0m ) \u001b[38;5;241m-\u001b[39m\u001b[38;5;241m>\u001b[39m Tuple[Optional[Message], \u001b[38;5;28mbool\u001b[39m]:\n\u001b[1;32m    713\u001b[0m     \u001b[38;5;28;01mtry\u001b[39;00m:\n\u001b[1;32m    714\u001b[0m         \u001b[38;5;66;03m# get all sockets that are ready (can be a list with a single value\u001b[39;00m\n\u001b[1;32m    715\u001b[0m         \u001b[38;5;66;03m# being self.socket or an empty list if self.socket is not ready)\u001b[39;00m\n\u001b[0;32m--> 716\u001b[0m         ready_receive_sockets, _, _ \u001b[38;5;241m=\u001b[39m \u001b[43mselect\u001b[49m\u001b[38;5;241;43m.\u001b[39;49m\u001b[43mselect\u001b[49m\u001b[43m(\u001b[49m\u001b[43m[\u001b[49m\u001b[38;5;28;43mself\u001b[39;49m\u001b[38;5;241;43m.\u001b[39;49m\u001b[43msocket\u001b[49m\u001b[43m]\u001b[49m\u001b[43m,\u001b[49m\u001b[43m \u001b[49m\u001b[43m[\u001b[49m\u001b[43m]\u001b[49m\u001b[43m,\u001b[49m\u001b[43m \u001b[49m\u001b[43m[\u001b[49m\u001b[43m]\u001b[49m\u001b[43m,\u001b[49m\u001b[43m \u001b[49m\u001b[43mtimeout\u001b[49m\u001b[43m)\u001b[49m\n\u001b[1;32m    717\u001b[0m     \u001b[38;5;28;01mexcept\u001b[39;00m socket\u001b[38;5;241m.\u001b[39merror \u001b[38;5;28;01mas\u001b[39;00m error:\n\u001b[1;32m    718\u001b[0m         \u001b[38;5;66;03m# something bad happened (e.g. the interface went down)\u001b[39;00m\n\u001b[1;32m    719\u001b[0m         \u001b[38;5;28;01mraise\u001b[39;00m can\u001b[38;5;241m.\u001b[39mCanOperationError(\n\u001b[1;32m    720\u001b[0m             \u001b[38;5;124mf\u001b[39m\u001b[38;5;124m\"\u001b[39m\u001b[38;5;124mFailed to receive: \u001b[39m\u001b[38;5;132;01m{\u001b[39;00merror\u001b[38;5;241m.\u001b[39mstrerror\u001b[38;5;132;01m}\u001b[39;00m\u001b[38;5;124m\"\u001b[39m, error\u001b[38;5;241m.\u001b[39merrno\n\u001b[1;32m    721\u001b[0m         )\n",
      "\u001b[0;31mKeyboardInterrupt\u001b[0m: "
     ]
    }
   ],
   "source": [
    "# position_data=[]\n",
    "# speed_data=[]\n",
    "\n",
    "# set_speed(0.1,bus,nr_id)\n",
    "# time.sleep(1)\n",
    "\n",
    "# run_time=60\n",
    "# start_time=time.time()\n",
    "\n",
    "# while((time.time()-start_time)<(run_time)):\n",
    "#     data=set_speed(0.12,bus,nr_id)\n",
    "#     position_data.append(data.position)\n",
    "#     speed_data.append(data.speed)\n",
    "# set_speed(0,bus, nr_id)"
   ]
  },
  {
   "cell_type": "code",
   "execution_count": 13,
   "id": "54901fa0-6fdf-44df-a970-1faf34e2dc2a",
   "metadata": {
    "tags": []
   },
   "outputs": [
    {
     "data": {
      "application/vnd.jupyter.widget-view+json": {
       "model_id": "27cd0e51ca09485fb9b71d433e4d045a",
       "version_major": 2,
       "version_minor": 0
      },
      "image/png": "[encoded data removed]",
      "text/html": [
       "\n",
       "            <div style=\"display: inline-block;\">\n",
       "                <div class=\"jupyter-widgets widget-label\" style=\"text-align: center;\">\n",
       "                    Figure\n",
       "                </div>\n",
       "                <img src='data:image/png;base64,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' width=640.0/>\n",
       "            </div>\n",
       "        "
      ],
      "text/plain": [
       "Canvas(toolbar=Toolbar(toolitems=[('Home', 'Reset original view', 'home', 'home'), ('Back', 'Back to previous …"
      ]
     },
     "metadata": {},
     "output_type": "display_data"
    }
   ],
   "source": [
    "# plt.plot(position_data)\n",
    "# # plt.plot(speed_data)\n",
    "# plt.suptitle(serial+ '\\n' +note)\n",
    "# plt.xlabel('Ilość próbek przez {} sekund'.format(run_time))\n",
    "# plt.ylabel('Pozycja jointa od -3,14 do +3,14')\n",
    "# plt.show()\n",
    "# plt.savefig(path+'/'+serial+'/enkoder_'+serial+'_'+time.strftime('%y_%m_%d_%H_%M')+'.png', dpi=150)"
   ]
  },
  {
   "cell_type": "markdown",
   "id": "1320d5f2-52a6-4022-8ab9-fbbcf66bf506",
   "metadata": {},
   "source": [
    "# ustawienie na zerze [uruchomić komórki 1.1-1.5]"
   ]
  },
  {
   "cell_type": "code",
   "execution_count": null,
   "id": "93c9352c-6b90-49b3-9f72-e45171269ebd",
   "metadata": {},
   "outputs": [],
   "source": [
    "initialize_joint(bus,2, nr_id)"
   ]
  },
  {
   "cell_type": "code",
   "execution_count": 10,
   "id": "8b59c4b8-6848-4a6f-b910-2fe166f6e0d9",
   "metadata": {
    "tags": []
   },
   "outputs": [
    {
     "name": "stdout",
     "output_type": "stream",
     "text": [
      "0.013039234616817377\n",
      "0.00987530268773669\n"
     ]
    }
   ],
   "source": [
    "send_msg(0x1A0 + nr_id, None, bus)\n",
    "time.sleep(1)\n",
    "send_msg(0x1F0 + nr_id, [2,2], bus)\n",
    "send_msg(0x110 + nr_id, [2], bus)\n",
    "time.sleep(1)\n",
    "send_msg(0x110 + nr_id, [3], bus)\n",
    "time.sleep(2)\n",
    "\n",
    "\n",
    "data=set_speed(0,bus,nr_id)\n",
    "sgn=(int(data.position>0) - int(data.position<0))\n",
    "\n",
    "data=set_speed(sgn*0.1,bus,nr_id)\n",
    "print(data.position)\n",
    "while(abs(data.position)>0.01):\n",
    "    if (abs(data.position)>0.2):\n",
    "        data=set_speed(sgn*-0.4,bus,nr_id)\n",
    "    else:\n",
    "        data=set_speed(sgn*-0.05,bus,nr_id)\n",
    "    time.sleep(0.1)\n",
    "\n",
    "send_msg(0x110 + nr_id, [2], bus)\n",
    "print(data.position)"
   ]
  },
  {
   "cell_type": "code",
   "execution_count": 12,
   "id": "33d3c914-edf9-428e-9a9a-9fa8d3b21055",
   "metadata": {},
   "outputs": [
    {
     "data": {
      "text/plain": [
       "True"
      ]
     },
     "execution_count": 12,
     "metadata": {},
     "output_type": "execute_result"
    }
   ],
   "source": [
    "# send_msg(0x1A0 + nr_id, None, bus)\n",
    "# initialize_joint(bus,2, nr_id)"
   ]
  },
  {
   "cell_type": "markdown",
   "id": "0be9ce07-624b-4889-aafd-d8def179a522",
   "metadata": {},
   "source": [
    "# Odczytywanie w pętli bierzącej pozycji"
   ]
  },
  {
   "cell_type": "code",
   "execution_count": 11,
   "id": "bc81716f-d043-4d23-bca0-22a7f43529c0",
   "metadata": {},
   "outputs": [
    {
     "name": "stdout",
     "output_type": "stream",
     "text": [
      "2.7833013537464573\n",
      "2.7833013537464573\n",
      "2.7833013537464573\n",
      "2.7833013537464573\n",
      "2.7833013537464573\n",
      "2.7833013537464573\n",
      "2.7833013537464573\n",
      "2.7833013537464573\n",
      "2.7833013537464573\n",
      "2.7833013537464573\n",
      "2.7833013537464573\n",
      "2.7833013537464573\n",
      "2.7833013537464573\n",
      "2.7833013537464573\n",
      "2.7833013537464573\n",
      "2.7833013537464573\n",
      "2.7833013537464573\n",
      "2.7833013537464573\n",
      "2.7833013537464573\n",
      "2.7833013537464573\n",
      "2.7833013537464573\n",
      "2.7833013537464573\n",
      "2.7833013537464573\n",
      "2.7833013537464573\n",
      "2.7833013537464573\n",
      "2.7833013537464573\n",
      "2.7833013537464573\n",
      "2.7833013537464573\n",
      "2.7833013537464573\n",
      "2.7833013537464573\n",
      "2.7833013537464573\n",
      "2.7833013537464573\n",
      "2.7833013537464573\n",
      "2.7833013537464573\n",
      "2.7833013537464573\n",
      "2.7833013537464573\n",
      "2.7833013537464573\n",
      "2.7833013537464573\n",
      "2.7833013537464573\n",
      "2.7833013537464573\n",
      "2.7833013537464573\n",
      "2.7833013537464573\n",
      "2.7833013537464573\n",
      "2.7833013537464573\n",
      "2.7833013537464573\n",
      "2.7833013537464573\n",
      "2.7833013537464573\n",
      "2.7833013537464573\n",
      "2.7833013537464573\n"
     ]
    }
   ],
   "source": [
    "# spin = 1\n",
    "# while (spin < 50):\n",
    "#     data=set_torque(0,bus,nr_id)\n",
    "#     # print(f'\\r {abs(data.position)}' , end='')\n",
    "#     print(f'{abs(data.position)}\\n' , end='')\n",
    "#     spin += 1"
   ]
  },
  {
   "cell_type": "code",
   "execution_count": null,
   "id": "352d7b31-2654-4316-932e-4aa3fe57ce44",
   "metadata": {},
   "outputs": [],
   "source": []
  }
 ],
 "metadata": {
  "kernelspec": {
   "display_name": "Python 3 (ipykernel)",
   "language": "python",
   "name": "python3"
  },
  "language_info": {
   "codemirror_mode": {
    "name": "ipython",
    "version": 3
   },
   "file_extension": ".py",
   "mimetype": "text/x-python",
   "name": "python",
   "nbconvert_exporter": "python",
   "pygments_lexer": "ipython3",
   "version": "3.9.2"
  }
 },
 "nbformat": 4,
 "nbformat_minor": 5
}
