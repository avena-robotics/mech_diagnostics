{
 "cells": [
  {
   "cell_type": "markdown",
   "id": "5826fd0a-f840-4a3c-80f9-1f164cc800bd",
   "metadata": {},
   "source": [
    "# Inicjalizacja kontrolera"
   ]
  },
  {
   "cell_type": "code",
   "execution_count": 1,
   "id": "b035e35f-c206-42c4-8294-ea7c0adca636",
   "metadata": {},
   "outputs": [],
   "source": [
    "import can\n",
    "import matplotlib.pyplot as plt\n",
    "from matplotlib import interactive\n",
    "import numpy as np\n",
    "import os\n",
    "import time\n",
    "import math\n",
    "from IPython.display import display, clear_output\n",
    "from joint_can import *\n",
    "%matplotlib widget"
   ]
  },
  {
   "cell_type": "code",
   "execution_count": 2,
   "id": "ad7c80c1-8bc2-46b5-a2e0-d7fdecfbe6d3",
   "metadata": {},
   "outputs": [],
   "source": [
    "def calibrate_joint(cmd,bus):\n",
    "    send_msg(0x0A0, None, bus)\n",
    "    time.sleep(2)\n",
    "    \n",
    "    if (send_msg(0x010, None, bus).data[0] == 1):\n",
    "        send_msg(0x010, [cmd]*6, bus)\n",
    "        time.sleep(1)\n",
    "        return True\n",
    "    else:\n",
    "        return False\n",
    "        # print(send_msg(0x010, [3], bus).data[0])\n",
    "        # time.sleep(5)        "
   ]
  },
  {
   "cell_type": "code",
   "execution_count": 3,
   "id": "473b81b5-d519-4f30-b61c-3dc44c89a758",
   "metadata": {},
   "outputs": [],
   "source": [
    "serial=\"JANUSZ_3_RI80_21414849\" #musi byc min jedna litera w numerze\n",
    "note=\"joint J3 dodatkowy, pcb 3_4\" #póki co musi być cokolwiek\n",
    "path = \"/home/ubuntu/joint_diagnostic/diagnostic_data\""
   ]
  },
  {
   "cell_type": "code",
   "execution_count": 4,
   "id": "abffa421-5f90-41cc-92d0-9ab0813f533c",
   "metadata": {},
   "outputs": [],
   "source": [
    "try: \n",
    "    os.mkdir(path+'/'+serial) \n",
    "except OSError as error: \n",
    "    pass"
   ]
  },
  {
   "cell_type": "code",
   "execution_count": 5,
   "id": "a304a872-2f14-4cb9-aa58-c5aed8e9feb5",
   "metadata": {},
   "outputs": [],
   "source": [
    "os.popen('/home/ubuntu/can_down.sh')\n",
    "time.sleep(1)\n",
    "os.popen('/home/ubuntu/can_up.sh')\n",
    "time.sleep(1)\n",
    "\n",
    "\n",
    "bus = can.interface.Bus(bustype='socketcan', channel='can0', bitrate=1000000, data_bitrate=5000000, fd=True)"
   ]
  },
  {
   "cell_type": "markdown",
   "id": "a1b3b11a-4f89-48fb-aa8a-24fafd212e51",
   "metadata": {},
   "source": [
    "# Reset adresów CAN"
   ]
  },
  {
   "cell_type": "code",
   "execution_count": 6,
   "id": "7803ba81-952b-4db1-a4f8-276643e3c325",
   "metadata": {},
   "outputs": [],
   "source": [
    "send_msg(0x030, [64,1,0,0,0,0,0,0], bus)\n",
    "time.sleep(0.1)\n",
    "send_msg(0x040, None, bus)\n",
    "time.sleep(0.1)\n",
    "send_msg(0x0a0, None, bus)\n",
    "time.sleep(1)"
   ]
  },
  {
   "cell_type": "markdown",
   "id": "298a0571-333a-411e-9af4-e7a63734ec4a",
   "metadata": {
    "tags": []
   },
   "source": [
    "# Kalibracja enkodera absolutnego"
   ]
  },
  {
   "cell_type": "code",
   "execution_count": 7,
   "id": "afabb2c0-3b1c-4211-b92e-a4982cc0fbcb",
   "metadata": {},
   "outputs": [
    {
     "name": "stdout",
     "output_type": "stream",
     "text": [
      "1/2 Calibration done          "
     ]
    }
   ],
   "source": [
    "while not calibrate_joint(131,bus):\n",
    "    time.sleep(1)\n",
    "    \n",
    "while(get_data(send_msg(0x000,None,bus),bus).FSM != 1):\n",
    "\n",
    "\n",
    "    print(f'Calibration in progress\\r', end='')\n",
    "    time.sleep(1)\n",
    "print('                              \\r',end='')\n",
    "\n",
    "send_msg(0x010, [2], bus)\n",
    "time.sleep(0.1)\n",
    "send_msg(0x010, [1], bus)\n",
    "time.sleep(0.1)\n",
    "send_msg(0x040, None, bus)\n",
    "time.sleep(1)\n",
    "\n",
    "print(f'1/2 Calibration done', end='')"
   ]
  },
  {
   "cell_type": "markdown",
   "id": "bafc02c3-91df-443b-8078-c90e83698ea9",
   "metadata": {},
   "source": [
    "# Kalibracja zera"
   ]
  },
  {
   "cell_type": "code",
   "execution_count": 8,
   "id": "81d3bdff-d4b7-4028-b69d-33faa89945ed",
   "metadata": {},
   "outputs": [
    {
     "name": "stdout",
     "output_type": "stream",
     "text": [
      "2/2 Calibration done          "
     ]
    }
   ],
   "source": [
    "while not calibrate_joint(161,bus):\n",
    "    time.sleep(1)\n",
    "    \n",
    "while(get_data(send_msg(0x000,None,bus),bus).FSM != 1):\n",
    "\n",
    "\n",
    "    print(f'Calibration in progress\\r', end='')\n",
    "    time.sleep(1)\n",
    "print('                              \\r',end='')\n",
    "\n",
    "send_msg(0x010, [2], bus)\n",
    "time.sleep(0.1)\n",
    "send_msg(0x010, [1], bus)\n",
    "time.sleep(0.1)\n",
    "send_msg(0x040, None, bus)\n",
    "time.sleep(1)\n",
    "\n",
    "print(f'2/2 Calibration done', end='')"
   ]
  },
  {
   "cell_type": "markdown",
   "id": "e0cc2f43-a22d-49f2-8dd5-1d7b985900fc",
   "metadata": {},
   "source": [
    "# Test enkoderów"
   ]
  },
  {
   "cell_type": "code",
   "execution_count": 9,
   "id": "94cd5a8e-a7db-4d7e-8912-9212b09b22c4",
   "metadata": {},
   "outputs": [],
   "source": [
    "# do sprawdzenia enkodera nie uruchamiać bloków sekcji 1\n",
    "send_msg(0x0A0, None, bus)\n",
    "time.sleep(1)\n",
    "send_msg(0x0F0, [2,2], bus)\n",
    "send_msg(0x010, [2], bus)\n",
    "time.sleep(0.1)\n",
    "send_msg(0x010, [3], bus)\n",
    "time.sleep(6)"
   ]
  },
  {
   "cell_type": "code",
   "execution_count": 10,
   "id": "bdb37ed8-5cb8-4b1e-8d4f-90c03718d233",
   "metadata": {},
   "outputs": [
    {
     "ename": "AttributeError",
     "evalue": "'NoneType' object has no attribute 'data'",
     "output_type": "error",
     "traceback": [
      "\u001b[0;31m---------------------------------------------------------------------------\u001b[0m",
      "\u001b[0;31mAttributeError\u001b[0m                            Traceback (most recent call last)",
      "Input \u001b[0;32mIn [10]\u001b[0m, in \u001b[0;36m<module>\u001b[0;34m\u001b[0m\n\u001b[1;32m      8\u001b[0m start_time\u001b[38;5;241m=\u001b[39mtime\u001b[38;5;241m.\u001b[39mtime()\n\u001b[1;32m     10\u001b[0m \u001b[38;5;28;01mwhile\u001b[39;00m((time\u001b[38;5;241m.\u001b[39mtime()\u001b[38;5;241m-\u001b[39mstart_time)\u001b[38;5;241m<\u001b[39m(run_time)):\n\u001b[0;32m---> 11\u001b[0m     data\u001b[38;5;241m=\u001b[39m\u001b[43mset_speed\u001b[49m\u001b[43m(\u001b[49m\u001b[38;5;241;43m0.1\u001b[39;49m\u001b[43m,\u001b[49m\u001b[43mbus\u001b[49m\u001b[43m)\u001b[49m\n\u001b[1;32m     12\u001b[0m     position_data\u001b[38;5;241m.\u001b[39mappend(data\u001b[38;5;241m.\u001b[39mposition)\n\u001b[1;32m     13\u001b[0m     speed_data\u001b[38;5;241m.\u001b[39mappend(data\u001b[38;5;241m.\u001b[39mspeed)\n",
      "File \u001b[0;32m~/joint_diagnostic/joint_can.py:50\u001b[0m, in \u001b[0;36mset_speed\u001b[0;34m(speed, bus)\u001b[0m\n\u001b[1;32m     48\u001b[0m speed_data\u001b[38;5;241m=\u001b[39m(\u001b[38;5;28mint\u001b[39m)(speed\u001b[38;5;241m*\u001b[39m\u001b[38;5;241m32767\u001b[39m\u001b[38;5;241m/\u001b[39m\u001b[38;5;241m2\u001b[39m)\n\u001b[1;32m     49\u001b[0m speed_data\u001b[38;5;241m=\u001b[39mspeed_data\u001b[38;5;241m.\u001b[39mto_bytes(\u001b[38;5;241m2\u001b[39m,\u001b[38;5;124m'\u001b[39m\u001b[38;5;124mbig\u001b[39m\u001b[38;5;124m'\u001b[39m,signed\u001b[38;5;241m=\u001b[39m\u001b[38;5;28;01mTrue\u001b[39;00m)\n\u001b[0;32m---> 50\u001b[0m \u001b[38;5;28;01mreturn\u001b[39;00m \u001b[43mget_data\u001b[49m\u001b[43m(\u001b[49m\u001b[43msend_msg\u001b[49m\u001b[43m(\u001b[49m\u001b[38;5;241;43m0x000\u001b[39;49m\u001b[43m,\u001b[49m\u001b[43mspeed_data\u001b[49m\u001b[43m,\u001b[49m\u001b[43mbus\u001b[49m\u001b[43m)\u001b[49m\u001b[43m,\u001b[49m\u001b[43mbus\u001b[49m\u001b[43m)\u001b[49m\n",
      "File \u001b[0;32m~/joint_diagnostic/joint_can.py:29\u001b[0m, in \u001b[0;36mget_data\u001b[0;34m(rcv_msg, bus)\u001b[0m\n\u001b[1;32m     28\u001b[0m \u001b[38;5;28;01mdef\u001b[39;00m \u001b[38;5;21mget_data\u001b[39m(rcv_msg,bus):\n\u001b[0;32m---> 29\u001b[0m     data\u001b[38;5;241m=\u001b[39m\u001b[43mrcv_msg\u001b[49m\u001b[38;5;241;43m.\u001b[39;49m\u001b[43mdata\u001b[49m\n\u001b[1;32m     30\u001b[0m     \u001b[38;5;28;01mif\u001b[39;00m \u001b[38;5;28mlen\u001b[39m(data)\u001b[38;5;241m<\u001b[39m\u001b[38;5;241m16\u001b[39m:\n\u001b[1;32m     31\u001b[0m         \u001b[38;5;28;01mreturn\u001b[39;00m JointData()\n",
      "\u001b[0;31mAttributeError\u001b[0m: 'NoneType' object has no attribute 'data'"
     ]
    }
   ],
   "source": [
    "position_data=[]\n",
    "speed_data=[]\n",
    "\n",
    "set_speed(0.1,bus)\n",
    "time.sleep(1)\n",
    "\n",
    "run_time=60\n",
    "start_time=time.time()\n",
    "\n",
    "while((time.time()-start_time)<(run_time)):\n",
    "    data=set_speed(0.1,bus)\n",
    "    position_data.append(data.position)\n",
    "    speed_data.append(data.speed)\n",
    "set_speed(0.,bus)"
   ]
  },
  {
   "cell_type": "code",
   "execution_count": null,
   "id": "54901fa0-6fdf-44df-a970-1faf34e2dc2a",
   "metadata": {
    "tags": []
   },
   "outputs": [],
   "source": [
    "plt.plot(position_data)\n",
    "# plt.plot(speed_data)\n",
    "plt.suptitle(serial+ '\\n' +note)\n",
    "plt.show()\n",
    "plt.savefig(path+'/'+serial+'/enkoder_'+time.strftime('%y_%m_%d_%H_%M')+'.png', dpi=150)"
   ]
  },
  {
   "cell_type": "markdown",
   "id": "1320d5f2-52a6-4022-8ab9-fbbcf66bf506",
   "metadata": {},
   "source": [
    "# ustawienie na zerze [uruchomić komórki 1.1-1.5]"
   ]
  },
  {
   "cell_type": "code",
   "execution_count": null,
   "id": "8b59c4b8-6848-4a6f-b910-2fe166f6e0d9",
   "metadata": {
    "tags": []
   },
   "outputs": [],
   "source": [
    "send_msg(0x0A0, None, bus)\n",
    "time.sleep(1)\n",
    "send_msg(0x0F0, [2,2], bus)\n",
    "send_msg(0x010, [2], bus)\n",
    "time.sleep(0.1)\n",
    "send_msg(0x010, [3], bus)\n",
    "time.sleep(6)\n",
    "\n",
    "\n",
    "data=set_speed(0,bus)\n",
    "\n",
    "sgn=(int(data.position>0) - int(data.position<0))\n",
    "\n",
    "data=set_speed(sgn*0.1,bus)\n",
    "\n",
    "while(abs(data.position)>0.01):\n",
    "    if (abs(data.position)>0.2):\n",
    "        data=set_speed(sgn*0.2,bus)\n",
    "    else:\n",
    "        data=set_speed(sgn*0.05,bus)\n",
    "    time.sleep(0.1)\n",
    "\n",
    "send_msg(0x010, [2], bus)\n",
    "print(data.position)"
   ]
  },
  {
   "cell_type": "code",
   "execution_count": null,
   "id": "c98c4e9f-9083-4ab5-9071-22ffc4d7600c",
   "metadata": {},
   "outputs": [],
   "source": []
  }
 ],
 "metadata": {
  "kernelspec": {
   "display_name": "Python 3 (ipykernel)",
   "language": "python",
   "name": "python3"
  },
  "language_info": {
   "codemirror_mode": {
    "name": "ipython",
    "version": 3
   },
   "file_extension": ".py",
   "mimetype": "text/x-python",
   "name": "python",
   "nbconvert_exporter": "python",
   "pygments_lexer": "ipython3",
   "version": "3.8.10"
  }
 },
 "nbformat": 4,
 "nbformat_minor": 5
}
