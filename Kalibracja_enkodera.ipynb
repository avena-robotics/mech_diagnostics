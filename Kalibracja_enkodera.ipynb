{
 "cells": [
  {
   "cell_type": "markdown",
   "id": "5826fd0a-f840-4a3c-80f9-1f164cc800bd",
   "metadata": {},
   "source": [
    "# Inicjalizacja kontrolera"
   ]
  },
  {
   "cell_type": "code",
   "execution_count": 1,
   "id": "b035e35f-c206-42c4-8294-ea7c0adca636",
   "metadata": {},
   "outputs": [],
   "source": [
    "import can\n",
    "import matplotlib.pyplot as plt\n",
    "from matplotlib import interactive\n",
    "import numpy as np\n",
    "import os\n",
    "import time\n",
    "import math\n",
    "from IPython.display import display, clear_output\n",
    "from joint_can import *\n",
    "%matplotlib widget"
   ]
  },
  {
   "cell_type": "code",
   "execution_count": 2,
   "id": "ad7c80c1-8bc2-46b5-a2e0-d7fdecfbe6d3",
   "metadata": {},
   "outputs": [],
   "source": [
    "def calibrate_joint(cmd,bus,nr_id):\n",
    "    send_msg(0x1A0 + nr_id, None, bus)\n",
    "    time.sleep(2)\n",
    "    send_msg(0x1F0 + nr_id, [1,6], bus)\n",
    "    send_msg(0x110 + nr_id, [1], bus)\n",
    "    \n",
    "    if (send_msg(0x110 + nr_id, None, bus).data[0] == 1):\n",
    "        send_msg(0x110 + nr_id, [cmd], bus)\n",
    "        time.sleep(1)\n",
    "        return True\n",
    "    else:\n",
    "        return False\n",
    "        # print(send_msg(0x010, [3], bus).data[0])\n",
    "        # time.sleep(5)        "
   ]
  },
  {
   "cell_type": "code",
   "execution_count": 3,
   "id": "a304a872-2f14-4cb9-aa58-c5aed8e9feb5",
   "metadata": {
    "tags": []
   },
   "outputs": [],
   "source": [
    "os.popen('/home/pi/mech_diagnostics/can_down.sh')\n",
    "time.sleep(1)\n",
    "os.popen('/home/pi/mech_diagnostics/can_up.sh')\n",
    "time.sleep(1)\n",
    "\n",
    "bus = can.interface.Bus(bustype='socketcan', channel='can0', bitrate=1000000, data_bitrate=5000000, fd=False)"
   ]
  },
  {
   "cell_type": "markdown",
   "id": "a9bbb96f-03be-41c9-9d25-c6d60bbe41f1",
   "metadata": {},
   "source": [
    "# Parametry kalibracji"
   ]
  },
  {
   "cell_type": "code",
   "execution_count": 4,
   "id": "473b81b5-d519-4f30-b61c-3dc44c89a758",
   "metadata": {},
   "outputs": [],
   "source": [
    "serial=\"JANUSZ_4_RI70_21209057\" #musi byc min jedna litera w numerze\n",
    "note=\"joint J4, pcb 3_4\" #póki co musi być cokolwiek\n",
    "nr_id = get_can_id(bus)"
   ]
  },
  {
   "cell_type": "code",
   "execution_count": 5,
   "id": "abffa421-5f90-41cc-92d0-9ab0813f533c",
   "metadata": {},
   "outputs": [],
   "source": [
    "path = \"/home/pi/mech_diagnostics/diagnostic_data\"\n",
    "try: \n",
    "    os.mkdir(path+'/'+serial) \n",
    "except OSError as error: \n",
    "    pass"
   ]
  },
  {
   "cell_type": "markdown",
   "id": "a1b3b11a-4f89-48fb-aa8a-24fafd212e51",
   "metadata": {},
   "source": [
    "# Reset adresów CAN"
   ]
  },
  {
   "cell_type": "code",
   "execution_count": 6,
   "id": "7803ba81-952b-4db1-a4f8-276643e3c325",
   "metadata": {},
   "outputs": [],
   "source": [
    "# send_msg(0x130 + nr_id, [64,1,0,nr_id], bus)\n",
    "# time.sleep(0.1)\n",
    "# send_msg(0x140 + nr_id, None, bus)\n",
    "# time.sleep(0.1)\n",
    "# send_msg(0x1a0 + nr_id, None, bus)\n",
    "# time.sleep(1)"
   ]
  },
  {
   "cell_type": "markdown",
   "id": "298a0571-333a-411e-9af4-e7a63734ec4a",
   "metadata": {
    "tags": []
   },
   "source": [
    "# Kalibracja enkodera absolutnego"
   ]
  },
  {
   "cell_type": "code",
   "execution_count": 7,
   "id": "afabb2c0-3b1c-4211-b92e-a4982cc0fbcb",
   "metadata": {},
   "outputs": [
    {
     "name": "stdout",
     "output_type": "stream",
     "text": [
      "1/2 Calibration done          "
     ]
    }
   ],
   "source": [
    "while not calibrate_joint(131,bus,nr_id): # 131 uruchomienie kalibracji enk absolutnego\n",
    "    time.sleep(1)\n",
    "    \n",
    "while(get_data_t(send_msg(0x180 + nr_id,None,bus)).FSM != 1):\n",
    "\n",
    "\n",
    "    print(f'Calibration in progress\\r', end='')\n",
    "    time.sleep(1)\n",
    "print('                              \\r',end='')\n",
    "\n",
    "send_msg(0x110 + nr_id, [2], bus)\n",
    "time.sleep(0.1)\n",
    "send_msg(0x110 + nr_id, [1], bus)\n",
    "time.sleep(0.1)\n",
    "send_msg(0x140 + nr_id, None, bus)\n",
    "time.sleep(1)\n",
    "\n",
    "print(f'1/2 Calibration done', end='')"
   ]
  },
  {
   "cell_type": "markdown",
   "id": "bafc02c3-91df-443b-8078-c90e83698ea9",
   "metadata": {},
   "source": [
    "# Kalibracja zera"
   ]
  },
  {
   "cell_type": "code",
   "execution_count": 8,
   "id": "81d3bdff-d4b7-4028-b69d-33faa89945ed",
   "metadata": {},
   "outputs": [
    {
     "name": "stdout",
     "output_type": "stream",
     "text": [
      "2/2 Calibration done          "
     ]
    }
   ],
   "source": [
    "while not calibrate_joint(161,bus,nr_id): # 161 uruchomienie kalibracji zera\n",
    "    time.sleep(1)\n",
    "    \n",
    "while(get_data_t(send_msg(0x180 + nr_id,None,bus)).FSM != 1):\n",
    "\n",
    "\n",
    "    print(f'Calibration in progress\\r', end='')\n",
    "    time.sleep(1)\n",
    "print('                              \\r',end='')\n",
    "\n",
    "send_msg(0x110 + nr_id, [2], bus)\n",
    "time.sleep(0.1)\n",
    "send_msg(0x110 + nr_id, [1], bus)\n",
    "time.sleep(0.1)\n",
    "send_msg(0x140 + nr_id, None, bus)\n",
    "time.sleep(1)\n",
    "\n",
    "print(f'2/2 Calibration done', end='')"
   ]
  },
  {
   "cell_type": "markdown",
   "id": "e0cc2f43-a22d-49f2-8dd5-1d7b985900fc",
   "metadata": {},
   "source": [
    "# Test enkoderów"
   ]
  },
  {
   "cell_type": "code",
   "execution_count": 9,
   "id": "94cd5a8e-a7db-4d7e-8912-9212b09b22c4",
   "metadata": {},
   "outputs": [],
   "source": [
    "# do sprawdzenia enkodera nie uruchamiać bloków sekcji 1\n",
    "send_msg(0x1A0 + nr_id, None, bus)\n",
    "time.sleep(1)\n",
    "send_msg(0x1F0 + nr_id, [2,2], bus)\n",
    "send_msg(0x110 + nr_id, [2], bus)\n",
    "time.sleep(0.1)\n",
    "send_msg(0x110 + nr_id, [3], bus)\n",
    "time.sleep(6)"
   ]
  },
  {
   "cell_type": "code",
   "execution_count": 10,
   "id": "bdb37ed8-5cb8-4b1e-8d4f-90c03718d233",
   "metadata": {},
   "outputs": [
    {
     "data": {
      "text/plain": [
       "<joint_can.JointData at 0xac8a0fe8>"
      ]
     },
     "execution_count": 10,
     "metadata": {},
     "output_type": "execute_result"
    }
   ],
   "source": [
    "position_data=[]\n",
    "speed_data=[]\n",
    "\n",
    "set_speed(0.1,bus,nr_id)\n",
    "time.sleep(1)\n",
    "\n",
    "run_time=63\n",
    "start_time=time.time()\n",
    "\n",
    "while((time.time()-start_time)<(run_time)):\n",
    "    data=set_speed(0.1,bus,nr_id)\n",
    "    position_data.append(data.position)\n",
    "    speed_data.append(data.speed)\n",
    "set_speed(0,bus, nr_id)"
   ]
  },
  {
   "cell_type": "code",
   "execution_count": 11,
   "id": "54901fa0-6fdf-44df-a970-1faf34e2dc2a",
   "metadata": {
    "tags": []
   },
   "outputs": [
    {
     "data": {
      "application/vnd.jupyter.widget-view+json": {
       "model_id": "6666d6a26e5440b284e93f5ca3ffd6b4",
       "version_major": 2,
       "version_minor": 0
      },
      "image/png": "[encoded data removed]",
      "text/html": [
       "\n",
       "            <div style=\"display: inline-block;\">\n",
       "                <div class=\"jupyter-widgets widget-label\" style=\"text-align: center;\">\n",
       "                    Figure\n",
       "                </div>\n",
       "                <img src='data:image/png;base64,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' width=640.0/>\n",
       "            </div>\n",
       "        "
      ],
      "text/plain": [
       "Canvas(toolbar=Toolbar(toolitems=[('Home', 'Reset original view', 'home', 'home'), ('Back', 'Back to previous …"
      ]
     },
     "metadata": {},
     "output_type": "display_data"
    }
   ],
   "source": [
    "plt.plot(position_data)\n",
    "# plt.plot(speed_data)\n",
    "plt.suptitle(serial+ '\\n' +note)\n",
    "plt.show()\n",
    "plt.savefig(path+'/'+serial+'/enkoder_'+time.strftime('%y_%m_%d_%H_%M')+'.png', dpi=150)"
   ]
  },
  {
   "cell_type": "markdown",
   "id": "1320d5f2-52a6-4022-8ab9-fbbcf66bf506",
   "metadata": {},
   "source": [
    "# ustawienie na zerze [uruchomić komórki 1.1-1.5]"
   ]
  },
  {
   "cell_type": "code",
   "execution_count": 12,
   "id": "8b59c4b8-6848-4a6f-b910-2fe166f6e0d9",
   "metadata": {
    "tags": []
   },
   "outputs": [
    {
     "name": "stdout",
     "output_type": "stream",
     "text": [
      "0.008820524122913105\n"
     ]
    }
   ],
   "source": [
    "send_msg(0x1A0 + nr_id, None, bus)\n",
    "time.sleep(1)\n",
    "send_msg(0x1F0 + nr_id, [2,2], bus)\n",
    "send_msg(0x110 + nr_id, [2], bus)\n",
    "time.sleep(0.1)\n",
    "send_msg(0x110 + nr_id, [3], bus)\n",
    "time.sleep(6)\n",
    "\n",
    "\n",
    "data=set_speed(0,bus,nr_id)\n",
    "\n",
    "sgn=(int(data.position>0) - int(data.position<0))\n",
    "\n",
    "data=set_speed(sgn*0.1,bus,nr_id)\n",
    "\n",
    "while(abs(data.position)>0.01):\n",
    "    if (abs(data.position)>0.2):\n",
    "        data=set_speed(sgn*-0.2,bus,nr_id)\n",
    "    else:\n",
    "        data=set_speed(sgn*-0.05,bus,nr_id)\n",
    "    time.sleep(0.1)\n",
    "\n",
    "send_msg(0x110 + nr_id, [2], bus)\n",
    "print(data.position)"
   ]
  },
  {
   "cell_type": "code",
   "execution_count": null,
   "id": "c98c4e9f-9083-4ab5-9071-22ffc4d7600c",
   "metadata": {},
   "outputs": [],
   "source": []
  }
 ],
 "metadata": {
  "kernelspec": {
   "display_name": "Python 3 (ipykernel)",
   "language": "python",
   "name": "python3"
  },
  "language_info": {
   "codemirror_mode": {
    "name": "ipython",
    "version": 3
   },
   "file_extension": ".py",
   "mimetype": "text/x-python",
   "name": "python",
   "nbconvert_exporter": "python",
   "pygments_lexer": "ipython3",
   "version": "3.9.2"
  }
 },
 "nbformat": 4,
 "nbformat_minor": 5
}
