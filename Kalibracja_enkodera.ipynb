{
 "cells": [
  {
   "cell_type": "markdown",
   "id": "5826fd0a-f840-4a3c-80f9-1f164cc800bd",
   "metadata": {
    "tags": []
   },
   "source": [
    "# Inicjalizacja kontrolera"
   ]
  },
  {
   "cell_type": "code",
   "execution_count": 1,
   "id": "b035e35f-c206-42c4-8294-ea7c0adca636",
   "metadata": {},
   "outputs": [],
   "source": [
    "import can\n",
    "import matplotlib.pyplot as plt\n",
    "from matplotlib import interactive\n",
    "import numpy as np\n",
    "import os\n",
    "import time\n",
    "import math\n",
    "from IPython.display import display, clear_output\n",
    "from joint_can import *\n",
    "%matplotlib widget"
   ]
  },
  {
   "cell_type": "code",
   "execution_count": 2,
   "id": "ad7c80c1-8bc2-46b5-a2e0-d7fdecfbe6d3",
   "metadata": {},
   "outputs": [],
   "source": [
    "def calibrate_joint(cmd,bus,nr_id):\n",
    "    send_msg(0x1A0 + nr_id, None, bus)\n",
    "    time.sleep(2)\n",
    "    send_msg(0x1F0 + nr_id, [1,6], bus)\n",
    "    send_msg(0x110 + nr_id, [1], bus)\n",
    "    \n",
    "    if (send_msg(0x110 + nr_id, None, bus).data[0] == 1):\n",
    "        send_msg(0x110 + nr_id, [cmd], bus)\n",
    "        time.sleep(1)\n",
    "        return True\n",
    "    else:\n",
    "        return False\n",
    "        # print(send_msg(0x010, [3], bus).data[0])\n",
    "        # time.sleep(5)        "
   ]
  },
  {
   "cell_type": "code",
   "execution_count": 3,
   "id": "c693a3df-3b75-4b48-9012-4611cb0abc3c",
   "metadata": {},
   "outputs": [],
   "source": [
    "# Ustawienie adresu CAN na \"nr_id\"\n",
    "\n",
    "def initialize_joint(bus, mode: int, nr_id):\n",
    "    send_msg(0x1A0 + nr_id, None, bus)\n",
    "    time.sleep(1)\n",
    "    \n",
    "    send_msg(0x1b0 + nr_id, [0,0,0,0,0,0], bus)\n",
    "    time.sleep(0.1)\n",
    "    send_msg(0x140 + nr_id, None, bus)\n",
    "    time.sleep(0.1)\n",
    "    send_msg(0x1a0 + nr_id, None, bus)\n",
    "    time.sleep(1)\n",
    "    \n",
    "    if (send_msg(0x1F0 + nr_id, [mode, 2], bus).data[0] == 1):\n",
    "        send_msg(0x110 + nr_id, [2], bus)\n",
    "        time.sleep(1)\n",
    "        send_msg(0x110 + nr_id, [3], bus).data[0]\n",
    "        time.sleep(5)\n",
    "        return True\n",
    "    else:\n",
    "        return False\n",
    "      "
   ]
  },
  {
   "cell_type": "code",
   "execution_count": 4,
   "id": "a304a872-2f14-4cb9-aa58-c5aed8e9feb5",
   "metadata": {
    "tags": []
   },
   "outputs": [],
   "source": [
    "os.popen('/home/pi/mech_diagnostics/can_down.sh')\n",
    "time.sleep(1)\n",
    "os.popen('/home/pi/mech_diagnostics/can_up.sh')\n",
    "time.sleep(1)\n",
    "\n"
   ]
  },
  {
   "cell_type": "code",
   "execution_count": 5,
   "id": "aefa4f0c-a1df-4ac1-897d-9bc6225cfb39",
   "metadata": {},
   "outputs": [],
   "source": [
    "bus = can.interface.Bus(bustype='socketcan', channel='can0', bitrate=1000000, data_bitrate=5000000, fd=False)"
   ]
  },
  {
   "cell_type": "markdown",
   "id": "a9bbb96f-03be-41c9-9d25-c6d60bbe41f1",
   "metadata": {},
   "source": [
    "# Parametry kalibracji"
   ]
  },
  {
   "cell_type": "code",
   "execution_count": 6,
   "id": "9a1269cb-6b25-4080-b3a3-63ffb9dd250e",
   "metadata": {},
   "outputs": [],
   "source": [
    "nr_id = get_can_id(bus)"
   ]
  },
  {
   "cell_type": "code",
   "execution_count": 7,
   "id": "473b81b5-d519-4f30-b61c-3dc44c89a758",
   "metadata": {},
   "outputs": [],
   "source": [
    "serial=\"JANUSZ_5_RI80_21414850\" #musi byc min jedna litera w numerze\n",
    "note=\"J5 Z HATEM\" #póki co musi być cokolwiek"
   ]
  },
  {
   "cell_type": "code",
   "execution_count": 8,
   "id": "abffa421-5f90-41cc-92d0-9ab0813f533c",
   "metadata": {},
   "outputs": [],
   "source": [
    "path = \"/home/pi/mech_diagnostics/diagnostic_data\"\n",
    "try: \n",
    "    os.mkdir(path+'/'+serial) \n",
    "except OSError as error: \n",
    "    pass"
   ]
  },
  {
   "cell_type": "code",
   "execution_count": null,
   "id": "c6b9cb45-6846-4139-b384-fc8ab4499faf",
   "metadata": {},
   "outputs": [],
   "source": [
    "initialize_joint(bus,2, nr_id)"
   ]
  },
  {
   "cell_type": "markdown",
   "id": "298a0571-333a-411e-9af4-e7a63734ec4a",
   "metadata": {
    "tags": []
   },
   "source": [
    "# Kalibracja enkodera inkrementalnego"
   ]
  },
  {
   "cell_type": "code",
   "execution_count": 10,
   "id": "afabb2c0-3b1c-4211-b92e-a4982cc0fbcb",
   "metadata": {},
   "outputs": [
    {
     "name": "stdout",
     "output_type": "stream",
     "text": [
      "1/2 Calibration done          "
     ]
    }
   ],
   "source": [
    "while not calibrate_joint(131,bus,nr_id): # 131 uruchomienie kalibracji enk absolutnego\n",
    "    time.sleep(1)\n",
    "    \n",
    "while(get_data_t(send_msg(0x180 + nr_id,None,bus)).FSM != 1):\n",
    "\n",
    "\n",
    "    print(f'Calibration in progress\\r', end='')\n",
    "    time.sleep(1)\n",
    "print('                              \\r',end='')\n",
    "\n",
    "send_msg(0x110 + nr_id, [2], bus)\n",
    "time.sleep(0.1)\n",
    "send_msg(0x110 + nr_id, [1], bus)\n",
    "time.sleep(0.1)\n",
    "send_msg(0x140 + nr_id, None, bus)\n",
    "time.sleep(1)\n",
    "\n",
    "print(f'1/2 Calibration done', end='')"
   ]
  },
  {
   "cell_type": "markdown",
   "id": "bafc02c3-91df-443b-8078-c90e83698ea9",
   "metadata": {},
   "source": [
    "# Kalibracja Absolutnego (zera)"
   ]
  },
  {
   "cell_type": "code",
   "execution_count": 11,
   "id": "81d3bdff-d4b7-4028-b69d-33faa89945ed",
   "metadata": {},
   "outputs": [
    {
     "name": "stdout",
     "output_type": "stream",
     "text": [
      "2/2 Calibration done          "
     ]
    }
   ],
   "source": [
    "while not calibrate_joint(161,bus,nr_id): # 161 uruchomienie kalibracji zera\n",
    "    time.sleep(0.5)\n",
    "    \n",
    "while(get_data_t(send_msg(0x180 + nr_id,None,bus)).FSM != 1):\n",
    "\n",
    "\n",
    "    print(f'Calibration in progress\\r', end='')\n",
    "    time.sleep(1)\n",
    "print('                              \\r',end='')\n",
    "\n",
    "send_msg(0x110 + nr_id, [2], bus)\n",
    "time.sleep(0.1)\n",
    "send_msg(0x110 + nr_id, [1], bus)\n",
    "time.sleep(0.1)\n",
    "send_msg(0x140 + nr_id, None, bus)\n",
    "time.sleep(1)\n",
    "\n",
    "print(f'2/2 Calibration done', end='')"
   ]
  },
  {
   "cell_type": "markdown",
   "id": "e0cc2f43-a22d-49f2-8dd5-1d7b985900fc",
   "metadata": {},
   "source": [
    "# Test enkoderów"
   ]
  },
  {
   "cell_type": "code",
   "execution_count": 13,
   "id": "94cd5a8e-a7db-4d7e-8912-9212b09b22c4",
   "metadata": {},
   "outputs": [],
   "source": [
    "# do sprawdzenia enkodera nie uruchamiać bloków sekcji 1\n",
    "send_msg(0x1A0 + nr_id, None, bus)\n",
    "time.sleep(1)\n",
    "send_msg(0x1F0 + nr_id, [2,2], bus)\n",
    "send_msg(0x110 + nr_id, [2], bus)\n",
    "time.sleep(0.1)\n",
    "send_msg(0x110 + nr_id, [3], bus)\n",
    "time.sleep(6)"
   ]
  },
  {
   "cell_type": "code",
   "execution_count": 11,
   "id": "bdb37ed8-5cb8-4b1e-8d4f-90c03718d233",
   "metadata": {},
   "outputs": [
    {
     "ename": "KeyboardInterrupt",
     "evalue": "",
     "output_type": "error",
     "traceback": [
      "\u001b[0;31m---------------------------------------------------------------------------\u001b[0m",
      "\u001b[0;31mKeyboardInterrupt\u001b[0m                         Traceback (most recent call last)",
      "Cell \u001b[0;32mIn [11], line 11\u001b[0m\n\u001b[1;32m      8\u001b[0m start_time\u001b[38;5;241m=\u001b[39mtime\u001b[38;5;241m.\u001b[39mtime()\n\u001b[1;32m     10\u001b[0m \u001b[38;5;28;01mwhile\u001b[39;00m((time\u001b[38;5;241m.\u001b[39mtime()\u001b[38;5;241m-\u001b[39mstart_time)\u001b[38;5;241m<\u001b[39m(run_time)):\n\u001b[0;32m---> 11\u001b[0m     data\u001b[38;5;241m=\u001b[39m\u001b[43mset_speed\u001b[49m\u001b[43m(\u001b[49m\u001b[38;5;241;43m0.1\u001b[39;49m\u001b[43m,\u001b[49m\u001b[43mbus\u001b[49m\u001b[43m,\u001b[49m\u001b[43mnr_id\u001b[49m\u001b[43m)\u001b[49m\n\u001b[1;32m     12\u001b[0m     position_data\u001b[38;5;241m.\u001b[39mappend(data\u001b[38;5;241m.\u001b[39mposition)\n\u001b[1;32m     13\u001b[0m     speed_data\u001b[38;5;241m.\u001b[39mappend(data\u001b[38;5;241m.\u001b[39mspeed)\n",
      "File \u001b[0;32m~/mech_diagnostics/joint_can.py:69\u001b[0m, in \u001b[0;36mset_speed\u001b[0;34m(speed, bus, id)\u001b[0m\n\u001b[1;32m     67\u001b[0m speed_data\u001b[38;5;241m=\u001b[39m(\u001b[38;5;28mint\u001b[39m)(speed\u001b[38;5;241m*\u001b[39m\u001b[38;5;241m32767\u001b[39m\u001b[38;5;241m/\u001b[39m\u001b[38;5;241m2\u001b[39m)\n\u001b[1;32m     68\u001b[0m speed_data_b\u001b[38;5;241m=\u001b[39mspeed_data\u001b[38;5;241m.\u001b[39mto_bytes(\u001b[38;5;241m2\u001b[39m,\u001b[38;5;124m'\u001b[39m\u001b[38;5;124mlittle\u001b[39m\u001b[38;5;124m'\u001b[39m,signed\u001b[38;5;241m=\u001b[39m\u001b[38;5;28;01mTrue\u001b[39;00m)\n\u001b[0;32m---> 69\u001b[0m msg \u001b[38;5;241m=\u001b[39m \u001b[43msend_msg\u001b[49m\u001b[43m(\u001b[49m\u001b[38;5;241;43m0x100\u001b[39;49m\u001b[43m \u001b[49m\u001b[38;5;241;43m+\u001b[39;49m\u001b[43m \u001b[49m\u001b[38;5;28;43mid\u001b[39;49m\u001b[43m,\u001b[49m\u001b[43mspeed_data_b\u001b[49m\u001b[43m,\u001b[49m\u001b[43m \u001b[49m\u001b[43mbus\u001b[49m\u001b[43m)\u001b[49m\n\u001b[1;32m     70\u001b[0m \u001b[38;5;28;01mreturn\u001b[39;00m get_data(msg)\n",
      "File \u001b[0;32m~/mech_diagnostics/joint_can.py:26\u001b[0m, in \u001b[0;36msend_msg\u001b[0;34m(adr, data, bus)\u001b[0m\n\u001b[1;32m     23\u001b[0m \u001b[38;5;28;01mexcept\u001b[39;00m can\u001b[38;5;241m.\u001b[39mCanError:\n\u001b[1;32m     24\u001b[0m     \u001b[38;5;28mprint\u001b[39m(\u001b[38;5;124m\"\u001b[39m\u001b[38;5;124mMessage NOT sent\u001b[39m\u001b[38;5;124m\"\u001b[39m)\n\u001b[0;32m---> 26\u001b[0m \u001b[38;5;28;01mreturn\u001b[39;00m \u001b[43mbus\u001b[49m\u001b[38;5;241;43m.\u001b[39;49m\u001b[43mrecv\u001b[49m\u001b[43m(\u001b[49m\u001b[38;5;241;43m1\u001b[39;49m\u001b[43m)\u001b[49m\n",
      "File \u001b[0;32m~/.local/lib/python3.9/site-packages/can/bus.py:94\u001b[0m, in \u001b[0;36mBusABC.recv\u001b[0;34m(self, timeout)\u001b[0m\n\u001b[1;32m     89\u001b[0m time_left \u001b[38;5;241m=\u001b[39m timeout\n\u001b[1;32m     91\u001b[0m \u001b[38;5;28;01mwhile\u001b[39;00m \u001b[38;5;28;01mTrue\u001b[39;00m:\n\u001b[1;32m     92\u001b[0m \n\u001b[1;32m     93\u001b[0m     \u001b[38;5;66;03m# try to get a message\u001b[39;00m\n\u001b[0;32m---> 94\u001b[0m     msg, already_filtered \u001b[38;5;241m=\u001b[39m \u001b[38;5;28;43mself\u001b[39;49m\u001b[38;5;241;43m.\u001b[39;49m\u001b[43m_recv_internal\u001b[49m\u001b[43m(\u001b[49m\u001b[43mtimeout\u001b[49m\u001b[38;5;241;43m=\u001b[39;49m\u001b[43mtime_left\u001b[49m\u001b[43m)\u001b[49m\n\u001b[1;32m     96\u001b[0m     \u001b[38;5;66;03m# return it, if it matches\u001b[39;00m\n\u001b[1;32m     97\u001b[0m     \u001b[38;5;28;01mif\u001b[39;00m msg \u001b[38;5;129;01mand\u001b[39;00m (already_filtered \u001b[38;5;129;01mor\u001b[39;00m \u001b[38;5;28mself\u001b[39m\u001b[38;5;241m.\u001b[39m_matches_filters(msg)):\n",
      "File \u001b[0;32m~/.local/lib/python3.9/site-packages/can/interfaces/socketcan/socketcan.py:716\u001b[0m, in \u001b[0;36mSocketcanBus._recv_internal\u001b[0;34m(self, timeout)\u001b[0m\n\u001b[1;32m    710\u001b[0m \u001b[38;5;28;01mdef\u001b[39;00m \u001b[38;5;21m_recv_internal\u001b[39m(\n\u001b[1;32m    711\u001b[0m     \u001b[38;5;28mself\u001b[39m, timeout: Optional[\u001b[38;5;28mfloat\u001b[39m]\n\u001b[1;32m    712\u001b[0m ) \u001b[38;5;241m-\u001b[39m\u001b[38;5;241m>\u001b[39m Tuple[Optional[Message], \u001b[38;5;28mbool\u001b[39m]:\n\u001b[1;32m    713\u001b[0m     \u001b[38;5;28;01mtry\u001b[39;00m:\n\u001b[1;32m    714\u001b[0m         \u001b[38;5;66;03m# get all sockets that are ready (can be a list with a single value\u001b[39;00m\n\u001b[1;32m    715\u001b[0m         \u001b[38;5;66;03m# being self.socket or an empty list if self.socket is not ready)\u001b[39;00m\n\u001b[0;32m--> 716\u001b[0m         ready_receive_sockets, _, _ \u001b[38;5;241m=\u001b[39m \u001b[43mselect\u001b[49m\u001b[38;5;241;43m.\u001b[39;49m\u001b[43mselect\u001b[49m\u001b[43m(\u001b[49m\u001b[43m[\u001b[49m\u001b[38;5;28;43mself\u001b[39;49m\u001b[38;5;241;43m.\u001b[39;49m\u001b[43msocket\u001b[49m\u001b[43m]\u001b[49m\u001b[43m,\u001b[49m\u001b[43m \u001b[49m\u001b[43m[\u001b[49m\u001b[43m]\u001b[49m\u001b[43m,\u001b[49m\u001b[43m \u001b[49m\u001b[43m[\u001b[49m\u001b[43m]\u001b[49m\u001b[43m,\u001b[49m\u001b[43m \u001b[49m\u001b[43mtimeout\u001b[49m\u001b[43m)\u001b[49m\n\u001b[1;32m    717\u001b[0m     \u001b[38;5;28;01mexcept\u001b[39;00m socket\u001b[38;5;241m.\u001b[39merror \u001b[38;5;28;01mas\u001b[39;00m error:\n\u001b[1;32m    718\u001b[0m         \u001b[38;5;66;03m# something bad happened (e.g. the interface went down)\u001b[39;00m\n\u001b[1;32m    719\u001b[0m         \u001b[38;5;28;01mraise\u001b[39;00m can\u001b[38;5;241m.\u001b[39mCanOperationError(\n\u001b[1;32m    720\u001b[0m             \u001b[38;5;124mf\u001b[39m\u001b[38;5;124m\"\u001b[39m\u001b[38;5;124mFailed to receive: \u001b[39m\u001b[38;5;132;01m{\u001b[39;00merror\u001b[38;5;241m.\u001b[39mstrerror\u001b[38;5;132;01m}\u001b[39;00m\u001b[38;5;124m\"\u001b[39m, error\u001b[38;5;241m.\u001b[39merrno\n\u001b[1;32m    721\u001b[0m         )\n",
      "\u001b[0;31mKeyboardInterrupt\u001b[0m: "
     ]
    }
   ],
   "source": [
    "position_data=[]\n",
    "speed_data=[]\n",
    "\n",
    "set_speed(0.1,bus,nr_id)\n",
    "time.sleep(1)\n",
    "\n",
    "run_time=68\n",
    "start_time=time.time()\n",
    "\n",
    "while((time.time()-start_time)<(run_time)):\n",
    "    data=set_speed(0.1,bus,nr_id)\n",
    "    position_data.append(data.position)\n",
    "    speed_data.append(data.speed)\n",
    "set_speed(0,bus, nr_id)"
   ]
  },
  {
   "cell_type": "code",
   "execution_count": null,
   "id": "54901fa0-6fdf-44df-a970-1faf34e2dc2a",
   "metadata": {
    "tags": []
   },
   "outputs": [],
   "source": [
    "plt.plot(position_data)\n",
    "# plt.plot(speed_data)\n",
    "plt.suptitle(serial+ '\\n' +note)\n",
    "plt.show()\n",
    "plt.savefig(path+'/'+serial+'/enkoder_'+time.strftime('%y_%m_%d_%H_%M')+'.png', dpi=150)"
   ]
  },
  {
   "cell_type": "markdown",
   "id": "1320d5f2-52a6-4022-8ab9-fbbcf66bf506",
   "metadata": {},
   "source": [
    "# ustawienie na zerze [uruchomić komórki 1.1-1.5]"
   ]
  },
  {
   "cell_type": "code",
   "execution_count": 12,
   "id": "8b59c4b8-6848-4a6f-b910-2fe166f6e0d9",
   "metadata": {
    "tags": []
   },
   "outputs": [
    {
     "name": "stdout",
     "output_type": "stream",
     "text": [
      "0.7930922497420392\n"
     ]
    },
    {
     "ename": "KeyboardInterrupt",
     "evalue": "",
     "output_type": "error",
     "traceback": [
      "\u001b[0;31m---------------------------------------------------------------------------\u001b[0m",
      "\u001b[0;31mKeyboardInterrupt\u001b[0m                         Traceback (most recent call last)",
      "Cell \u001b[0;32mIn [12], line 20\u001b[0m\n\u001b[1;32m     18\u001b[0m     \u001b[38;5;28;01melse\u001b[39;00m:\n\u001b[1;32m     19\u001b[0m         data\u001b[38;5;241m=\u001b[39mset_speed(sgn\u001b[38;5;241m*\u001b[39m\u001b[38;5;241m-\u001b[39m\u001b[38;5;241m0.05\u001b[39m,bus,nr_id)\n\u001b[0;32m---> 20\u001b[0m     \u001b[43mtime\u001b[49m\u001b[38;5;241;43m.\u001b[39;49m\u001b[43msleep\u001b[49m\u001b[43m(\u001b[49m\u001b[38;5;241;43m0.1\u001b[39;49m\u001b[43m)\u001b[49m\n\u001b[1;32m     22\u001b[0m send_msg(\u001b[38;5;241m0x110\u001b[39m \u001b[38;5;241m+\u001b[39m nr_id, [\u001b[38;5;241m2\u001b[39m], bus)\n\u001b[1;32m     23\u001b[0m \u001b[38;5;28mprint\u001b[39m(data\u001b[38;5;241m.\u001b[39mposition)\n",
      "\u001b[0;31mKeyboardInterrupt\u001b[0m: "
     ]
    }
   ],
   "source": [
    "send_msg(0x1A0 + nr_id, None, bus)\n",
    "time.sleep(1)\n",
    "send_msg(0x1F0 + nr_id, [2,2], bus)\n",
    "send_msg(0x110 + nr_id, [2], bus)\n",
    "time.sleep(1)\n",
    "send_msg(0x110 + nr_id, [3], bus)\n",
    "time.sleep(2)\n",
    "\n",
    "\n",
    "data=set_speed(0,bus,nr_id)\n",
    "sgn=(int(data.position>0) - int(data.position<0))\n",
    "\n",
    "data=set_speed(sgn*0.1,bus,nr_id)\n",
    "print(data.position)\n",
    "while(abs(data.position)>0.01):\n",
    "    if (abs(data.position)>0.2):\n",
    "        data=set_speed(sgn*-0.25,bus,nr_id)\n",
    "    else:\n",
    "        data=set_speed(sgn*-0.05,bus,nr_id)\n",
    "    time.sleep(0.1)\n",
    "\n",
    "send_msg(0x110 + nr_id, [2], bus)\n",
    "print(data.position)"
   ]
  },
  {
   "cell_type": "code",
   "execution_count": null,
   "id": "49c6c276-d85a-4f40-865e-49bf7d2b08e3",
   "metadata": {},
   "outputs": [],
   "source": []
  }
 ],
 "metadata": {
  "kernelspec": {
   "display_name": "Python 3 (ipykernel)",
   "language": "python",
   "name": "python3"
  },
  "language_info": {
   "codemirror_mode": {
    "name": "ipython",
    "version": 3
   },
   "file_extension": ".py",
   "mimetype": "text/x-python",
   "name": "python",
   "nbconvert_exporter": "python",
   "pygments_lexer": "ipython3",
   "version": "3.9.2"
  }
 },
 "nbformat": 4,
 "nbformat_minor": 5
}
