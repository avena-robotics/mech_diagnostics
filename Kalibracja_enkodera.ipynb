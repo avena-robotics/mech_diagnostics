{
 "cells": [
  {
   "cell_type": "markdown",
   "id": "5826fd0a-f840-4a3c-80f9-1f164cc800bd",
   "metadata": {},
   "source": [
    "# Inicjalizacja kontrolera"
   ]
  },
  {
   "cell_type": "code",
   "execution_count": 15,
   "id": "b035e35f-c206-42c4-8294-ea7c0adca636",
   "metadata": {},
   "outputs": [],
   "source": [
    "import can\n",
    "import matplotlib.pyplot as plt\n",
    "from matplotlib import interactive\n",
    "import numpy as np\n",
    "import os\n",
    "import time\n",
    "import math\n",
    "from IPython.display import display, clear_output\n",
    "from joint_can import *\n",
    "%matplotlib widget"
   ]
  },
  {
   "cell_type": "code",
   "execution_count": 16,
   "id": "ad7c80c1-8bc2-46b5-a2e0-d7fdecfbe6d3",
   "metadata": {},
   "outputs": [],
   "source": [
    "def calibrate_joint(cmd,bus,nr_id):\n",
    "    send_msg(0x1A0 + nr_id, None, bus)\n",
    "    time.sleep(2)\n",
    "    send_msg(0x1F0 + nr_id, [1,6], bus)\n",
    "    send_msg(0x110 + nr_id, [1], bus)\n",
    "    \n",
    "    if (send_msg(0x110 + nr_id, None, bus).data[0] == 1):\n",
    "        send_msg(0x110 + nr_id, [cmd], bus)\n",
    "        time.sleep(1)\n",
    "        return True\n",
    "    else:\n",
    "        return False\n",
    "        # print(send_msg(0x010, [3], bus).data[0])\n",
    "        # time.sleep(5)        "
   ]
  },
  {
   "cell_type": "code",
   "execution_count": 17,
   "id": "c693a3df-3b75-4b48-9012-4611cb0abc3c",
   "metadata": {},
   "outputs": [],
   "source": [
    "# Ustawienie adresu CAN na \"nr_id\"\n",
    "\n",
    "def initialize_joint(bus, mode: int, nr_id):\n",
    "    send_msg(0x1A0 + nr_id, None, bus)\n",
    "    time.sleep(1)\n",
    "    \n",
    "    send_msg(0x1b0 + nr_id, [0,0,0,0,0,0], bus)\n",
    "    time.sleep(0.1)\n",
    "    send_msg(0x140 + nr_id, None, bus)\n",
    "    time.sleep(0.1)\n",
    "    send_msg(0x1a0 + nr_id, None, bus)\n",
    "    time.sleep(1)\n",
    "    \n",
    "    if (send_msg(0x1F0 + nr_id, [mode, 2], bus).data[0] == 1):\n",
    "        send_msg(0x110 + nr_id, [2], bus)\n",
    "        time.sleep(1)\n",
    "        send_msg(0x110 + nr_id, [3], bus).data[0]\n",
    "        time.sleep(5)\n",
    "        return True\n",
    "    else:\n",
    "        return False\n",
    "      "
   ]
  },
  {
   "cell_type": "code",
   "execution_count": 18,
   "id": "a304a872-2f14-4cb9-aa58-c5aed8e9feb5",
   "metadata": {
    "tags": []
   },
   "outputs": [],
   "source": [
    "os.popen('/home/pi/mech_diagnostics/can_down.sh')\n",
    "time.sleep(1)\n",
    "os.popen('/home/pi/mech_diagnostics/can_up.sh')\n",
    "time.sleep(1)\n",
    "\n",
    "bus = can.interface.Bus(bustype='socketcan', channel='can0', bitrate=1000000, data_bitrate=5000000, fd=False)"
   ]
  },
  {
   "cell_type": "markdown",
   "id": "a9bbb96f-03be-41c9-9d25-c6d60bbe41f1",
   "metadata": {},
   "source": [
    "# Parametry kalibracji"
   ]
  },
  {
   "cell_type": "code",
   "execution_count": 19,
   "id": "9a1269cb-6b25-4080-b3a3-63ffb9dd250e",
   "metadata": {},
   "outputs": [],
   "source": [
    "nr_id = get_can_id(bus)"
   ]
  },
  {
   "cell_type": "code",
   "execution_count": 6,
   "id": "473b81b5-d519-4f30-b61c-3dc44c89a758",
   "metadata": {},
   "outputs": [],
   "source": [
    "serial=\"JANUSZ_4_RI70_21414863\" #musi byc min jedna litera w numerze\n",
    "note=\"J4\" #póki co musi być cokolwiek"
   ]
  },
  {
   "cell_type": "code",
   "execution_count": 7,
   "id": "abffa421-5f90-41cc-92d0-9ab0813f533c",
   "metadata": {},
   "outputs": [],
   "source": [
    "path = \"/home/pi/mech_diagnostics/diagnostic_data\"\n",
    "try: \n",
    "    os.mkdir(path+'/'+serial) \n",
    "except OSError as error: \n",
    "    pass"
   ]
  },
  {
   "cell_type": "code",
   "execution_count": 20,
   "id": "c6b9cb45-6846-4139-b384-fc8ab4499faf",
   "metadata": {},
   "outputs": [
    {
     "data": {
      "text/plain": [
       "True"
      ]
     },
     "execution_count": 20,
     "metadata": {},
     "output_type": "execute_result"
    }
   ],
   "source": [
    "initialize_joint(bus,2, nr_id)"
   ]
  },
  {
   "cell_type": "markdown",
   "id": "298a0571-333a-411e-9af4-e7a63734ec4a",
   "metadata": {
    "tags": []
   },
   "source": [
    "# Kalibracja enkodera absolutnego"
   ]
  },
  {
   "cell_type": "code",
   "execution_count": 9,
   "id": "afabb2c0-3b1c-4211-b92e-a4982cc0fbcb",
   "metadata": {},
   "outputs": [
    {
     "name": "stdout",
     "output_type": "stream",
     "text": [
      "1/2 Calibration done          "
     ]
    }
   ],
   "source": [
    "while not calibrate_joint(131,bus,nr_id): # 131 uruchomienie kalibracji enk absolutnego\n",
    "    time.sleep(1)\n",
    "    \n",
    "while(get_data_t(send_msg(0x180 + nr_id,None,bus)).FSM != 1):\n",
    "\n",
    "\n",
    "    print(f'Calibration in progress\\r', end='')\n",
    "    time.sleep(1)\n",
    "print('                              \\r',end='')\n",
    "\n",
    "send_msg(0x110 + nr_id, [2], bus)\n",
    "time.sleep(0.1)\n",
    "send_msg(0x110 + nr_id, [1], bus)\n",
    "time.sleep(0.1)\n",
    "send_msg(0x140 + nr_id, None, bus)\n",
    "time.sleep(1)\n",
    "\n",
    "print(f'1/2 Calibration done', end='')"
   ]
  },
  {
   "cell_type": "markdown",
   "id": "bafc02c3-91df-443b-8078-c90e83698ea9",
   "metadata": {},
   "source": [
    "# Kalibracja zera"
   ]
  },
  {
   "cell_type": "code",
   "execution_count": 10,
   "id": "81d3bdff-d4b7-4028-b69d-33faa89945ed",
   "metadata": {},
   "outputs": [
    {
     "name": "stdout",
     "output_type": "stream",
     "text": [
      "Calibration in progress\r"
     ]
    },
    {
     "ename": "AttributeError",
     "evalue": "'NoneType' object has no attribute 'data'",
     "output_type": "error",
     "traceback": [
      "\u001b[0;31m---------------------------------------------------------------------------\u001b[0m",
      "\u001b[0;31mAttributeError\u001b[0m                            Traceback (most recent call last)",
      "Cell \u001b[0;32mIn [10], line 4\u001b[0m\n\u001b[1;32m      1\u001b[0m \u001b[38;5;28;01mwhile\u001b[39;00m \u001b[38;5;129;01mnot\u001b[39;00m calibrate_joint(\u001b[38;5;241m161\u001b[39m,bus,nr_id): \u001b[38;5;66;03m# 161 uruchomienie kalibracji zera\u001b[39;00m\n\u001b[1;32m      2\u001b[0m     time\u001b[38;5;241m.\u001b[39msleep(\u001b[38;5;241m0.5\u001b[39m)\n\u001b[0;32m----> 4\u001b[0m \u001b[38;5;28;01mwhile\u001b[39;00m(\u001b[43mget_data_t\u001b[49m\u001b[43m(\u001b[49m\u001b[43msend_msg\u001b[49m\u001b[43m(\u001b[49m\u001b[38;5;241;43m0x180\u001b[39;49m\u001b[43m \u001b[49m\u001b[38;5;241;43m+\u001b[39;49m\u001b[43m \u001b[49m\u001b[43mnr_id\u001b[49m\u001b[43m,\u001b[49m\u001b[38;5;28;43;01mNone\u001b[39;49;00m\u001b[43m,\u001b[49m\u001b[43mbus\u001b[49m\u001b[43m)\u001b[49m\u001b[43m)\u001b[49m\u001b[38;5;241m.\u001b[39mFSM \u001b[38;5;241m!=\u001b[39m \u001b[38;5;241m1\u001b[39m):\n\u001b[1;32m      7\u001b[0m     \u001b[38;5;28mprint\u001b[39m(\u001b[38;5;124mf\u001b[39m\u001b[38;5;124m'\u001b[39m\u001b[38;5;124mCalibration in progress\u001b[39m\u001b[38;5;130;01m\\r\u001b[39;00m\u001b[38;5;124m'\u001b[39m, end\u001b[38;5;241m=\u001b[39m\u001b[38;5;124m'\u001b[39m\u001b[38;5;124m'\u001b[39m)\n\u001b[1;32m      8\u001b[0m     time\u001b[38;5;241m.\u001b[39msleep(\u001b[38;5;241m1\u001b[39m)\n",
      "File \u001b[0;32m~/mech_diagnostics/joint_can.py:47\u001b[0m, in \u001b[0;36mget_data_t\u001b[0;34m(rcv_msg)\u001b[0m\n\u001b[1;32m     46\u001b[0m \u001b[38;5;28;01mdef\u001b[39;00m \u001b[38;5;21mget_data_t\u001b[39m(rcv_msg):\n\u001b[0;32m---> 47\u001b[0m     data\u001b[38;5;241m=\u001b[39m\u001b[43mrcv_msg\u001b[49m\u001b[38;5;241;43m.\u001b[39;49m\u001b[43mdata\u001b[49m\n\u001b[1;32m     48\u001b[0m     \u001b[38;5;28;01mif\u001b[39;00m \u001b[38;5;28mlen\u001b[39m(data)\u001b[38;5;241m<\u001b[39m\u001b[38;5;241m6\u001b[39m:\n\u001b[1;32m     49\u001b[0m         \u001b[38;5;28;01mreturn\u001b[39;00m JointData()\n",
      "\u001b[0;31mAttributeError\u001b[0m: 'NoneType' object has no attribute 'data'"
     ]
    }
   ],
   "source": [
    "while not calibrate_joint(161,bus,nr_id): # 161 uruchomienie kalibracji zera\n",
    "    time.sleep(0.5)\n",
    "    \n",
    "while(get_data_t(send_msg(0x180 + nr_id,None,bus)).FSM != 1):\n",
    "\n",
    "\n",
    "    print(f'Calibration in progress\\r', end='')\n",
    "    time.sleep(1)\n",
    "print('                              \\r',end='')\n",
    "\n",
    "send_msg(0x110 + nr_id, [2], bus)\n",
    "time.sleep(0.1)\n",
    "send_msg(0x110 + nr_id, [1], bus)\n",
    "time.sleep(0.1)\n",
    "send_msg(0x140 + nr_id, None, bus)\n",
    "time.sleep(1)\n",
    "\n",
    "print(f'2/2 Calibration done', end='')"
   ]
  },
  {
   "cell_type": "markdown",
   "id": "e0cc2f43-a22d-49f2-8dd5-1d7b985900fc",
   "metadata": {},
   "source": [
    "# Test enkoderów"
   ]
  },
  {
   "cell_type": "code",
   "execution_count": 6,
   "id": "94cd5a8e-a7db-4d7e-8912-9212b09b22c4",
   "metadata": {},
   "outputs": [],
   "source": [
    "# do sprawdzenia enkodera nie uruchamiać bloków sekcji 1\n",
    "send_msg(0x1A0 + nr_id, None, bus)\n",
    "time.sleep(1)\n",
    "send_msg(0x1F0 + nr_id, [2,2], bus)\n",
    "send_msg(0x110 + nr_id, [2], bus)\n",
    "time.sleep(0.1)\n",
    "send_msg(0x110 + nr_id, [3], bus)\n",
    "time.sleep(6)"
   ]
  },
  {
   "cell_type": "code",
   "execution_count": 7,
   "id": "bdb37ed8-5cb8-4b1e-8d4f-90c03718d233",
   "metadata": {},
   "outputs": [
    {
     "data": {
      "text/plain": [
       "<joint_can.JointData at 0xb2eda8e0>"
      ]
     },
     "execution_count": 7,
     "metadata": {},
     "output_type": "execute_result"
    }
   ],
   "source": [
    "position_data=[]\n",
    "speed_data=[]\n",
    "\n",
    "set_speed(0.1,bus,nr_id)\n",
    "time.sleep(1)\n",
    "\n",
    "run_time=65\n",
    "start_time=time.time()\n",
    "\n",
    "while((time.time()-start_time)<(run_time)):\n",
    "    data=set_speed(0.1,bus,nr_id)\n",
    "    position_data.append(data.position)\n",
    "    speed_data.append(data.speed)\n",
    "set_speed(0,bus, nr_id)"
   ]
  },
  {
   "cell_type": "code",
   "execution_count": 8,
   "id": "54901fa0-6fdf-44df-a970-1faf34e2dc2a",
   "metadata": {
    "tags": []
   },
   "outputs": [
    {
     "ename": "NameError",
     "evalue": "name 'serial' is not defined",
     "output_type": "error",
     "traceback": [
      "\u001b[0;31m---------------------------------------------------------------------------\u001b[0m",
      "\u001b[0;31mNameError\u001b[0m                                 Traceback (most recent call last)",
      "Cell \u001b[0;32mIn [8], line 3\u001b[0m\n\u001b[1;32m      1\u001b[0m plt\u001b[38;5;241m.\u001b[39mplot(position_data)\n\u001b[1;32m      2\u001b[0m \u001b[38;5;66;03m# plt.plot(speed_data)\u001b[39;00m\n\u001b[0;32m----> 3\u001b[0m plt\u001b[38;5;241m.\u001b[39msuptitle(\u001b[43mserial\u001b[49m\u001b[38;5;241m+\u001b[39m \u001b[38;5;124m'\u001b[39m\u001b[38;5;130;01m\\n\u001b[39;00m\u001b[38;5;124m'\u001b[39m \u001b[38;5;241m+\u001b[39mnote)\n\u001b[1;32m      4\u001b[0m plt\u001b[38;5;241m.\u001b[39mshow()\n\u001b[1;32m      5\u001b[0m plt\u001b[38;5;241m.\u001b[39msavefig(path\u001b[38;5;241m+\u001b[39m\u001b[38;5;124m'\u001b[39m\u001b[38;5;124m/\u001b[39m\u001b[38;5;124m'\u001b[39m\u001b[38;5;241m+\u001b[39mserial\u001b[38;5;241m+\u001b[39m\u001b[38;5;124m'\u001b[39m\u001b[38;5;124m/enkoder_\u001b[39m\u001b[38;5;124m'\u001b[39m\u001b[38;5;241m+\u001b[39mtime\u001b[38;5;241m.\u001b[39mstrftime(\u001b[38;5;124m'\u001b[39m\u001b[38;5;124m%\u001b[39m\u001b[38;5;124my_\u001b[39m\u001b[38;5;124m%\u001b[39m\u001b[38;5;124mm_\u001b[39m\u001b[38;5;132;01m%d\u001b[39;00m\u001b[38;5;124m_\u001b[39m\u001b[38;5;124m%\u001b[39m\u001b[38;5;124mH_\u001b[39m\u001b[38;5;124m%\u001b[39m\u001b[38;5;124mM\u001b[39m\u001b[38;5;124m'\u001b[39m)\u001b[38;5;241m+\u001b[39m\u001b[38;5;124m'\u001b[39m\u001b[38;5;124m.png\u001b[39m\u001b[38;5;124m'\u001b[39m, dpi\u001b[38;5;241m=\u001b[39m\u001b[38;5;241m150\u001b[39m)\n",
      "\u001b[0;31mNameError\u001b[0m: name 'serial' is not defined"
     ]
    },
    {
     "data": {
      "application/vnd.jupyter.widget-view+json": {
       "model_id": "1d27375af98e4030acc0da3aaf8a8788",
       "version_major": 2,
       "version_minor": 0
      },
      "image/png": "[encoded data removed]",
      "text/html": [
       "\n",
       "            <div style=\"display: inline-block;\">\n",
       "                <div class=\"jupyter-widgets widget-label\" style=\"text-align: center;\">\n",
       "                    Figure\n",
       "                </div>\n",
       "                <img src='data:image/png;base64,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' width=640.0/>\n",
       "            </div>\n",
       "        "
      ],
      "text/plain": [
       "Canvas(toolbar=Toolbar(toolitems=[('Home', 'Reset original view', 'home', 'home'), ('Back', 'Back to previous …"
      ]
     },
     "metadata": {},
     "output_type": "display_data"
    }
   ],
   "source": [
    "plt.plot(position_data)\n",
    "# plt.plot(speed_data)\n",
    "plt.suptitle(serial+ '\\n' +note)\n",
    "plt.show()\n",
    "plt.savefig(path+'/'+serial+'/enkoder_'+time.strftime('%y_%m_%d_%H_%M')+'.png', dpi=150)"
   ]
  },
  {
   "cell_type": "markdown",
   "id": "1320d5f2-52a6-4022-8ab9-fbbcf66bf506",
   "metadata": {},
   "source": [
    "# ustawienie na zerze [uruchomić komórki 1.1-1.5]"
   ]
  },
  {
   "cell_type": "code",
   "execution_count": 21,
   "id": "8b59c4b8-6848-4a6f-b910-2fe166f6e0d9",
   "metadata": {
    "tags": []
   },
   "outputs": [
    {
     "name": "stdout",
     "output_type": "stream",
     "text": [
      "-0.20508031503950272\n",
      "-0.0057526035074194305\n"
     ]
    }
   ],
   "source": [
    "send_msg(0x1A0 + nr_id, None, bus)\n",
    "time.sleep(1)\n",
    "send_msg(0x1F0 + nr_id, [2,2], bus)\n",
    "send_msg(0x110 + nr_id, [2], bus)\n",
    "time.sleep(1)\n",
    "send_msg(0x110 + nr_id, [3], bus)\n",
    "time.sleep(2)\n",
    "\n",
    "\n",
    "data=set_speed(0,bus,nr_id)\n",
    "sgn=(int(data.position>0) - int(data.position<0))\n",
    "\n",
    "data=set_speed(sgn*0.1,bus,nr_id)\n",
    "print(data.position)\n",
    "while(abs(data.position)>0.01):\n",
    "    if (abs(data.position)>0.2):\n",
    "        data=set_speed(sgn*-0.25,bus,nr_id)\n",
    "    else:\n",
    "        data=set_speed(sgn*-0.05,bus,nr_id)\n",
    "    time.sleep(0.1)\n",
    "\n",
    "send_msg(0x110 + nr_id, [2], bus)\n",
    "print(data.position)"
   ]
  },
  {
   "cell_type": "code",
   "execution_count": null,
   "id": "c98c4e9f-9083-4ab5-9071-22ffc4d7600c",
   "metadata": {},
   "outputs": [],
   "source": []
  }
 ],
 "metadata": {
  "kernelspec": {
   "display_name": "Python 3 (ipykernel)",
   "language": "python",
   "name": "python3"
  },
  "language_info": {
   "codemirror_mode": {
    "name": "ipython",
    "version": 3
   },
   "file_extension": ".py",
   "mimetype": "text/x-python",
   "name": "python",
   "nbconvert_exporter": "python",
   "pygments_lexer": "ipython3",
   "version": "3.9.2"
  }
 },
 "nbformat": 4,
 "nbformat_minor": 5
}
