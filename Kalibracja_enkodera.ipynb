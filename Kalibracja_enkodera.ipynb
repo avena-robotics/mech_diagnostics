{
 "cells": [
  {
   "cell_type": "markdown",
   "id": "5826fd0a-f840-4a3c-80f9-1f164cc800bd",
   "metadata": {},
   "source": [
    "# Inicjalizacja kontrolera"
   ]
  },
  {
   "cell_type": "code",
   "execution_count": 1,
   "id": "b035e35f-c206-42c4-8294-ea7c0adca636",
   "metadata": {},
   "outputs": [],
   "source": [
    "import can\n",
    "import matplotlib.pyplot as plt\n",
    "from matplotlib import interactive\n",
    "import numpy as np\n",
    "import os\n",
    "import time\n",
    "import math\n",
    "from IPython.display import display, clear_output\n",
    "from joint_can import *\n",
    "%matplotlib widget"
   ]
  },
  {
   "cell_type": "code",
   "execution_count": 2,
   "id": "ad7c80c1-8bc2-46b5-a2e0-d7fdecfbe6d3",
   "metadata": {},
   "outputs": [],
   "source": [
    "def calibrate_joint(cmd,bus):\n",
    "    send_msg(0x0A0, None, bus)\n",
    "    time.sleep(2)\n",
    "    \n",
    "    if (send_msg(0x010, None, bus).data[0] == 1):\n",
    "        send_msg(0x010, [cmd]*6, bus)\n",
    "        time.sleep(1)\n",
    "        return True\n",
    "    else:\n",
    "        return False\n",
    "        # print(send_msg(0x010, [3], bus).data[0])\n",
    "        # time.sleep(5)        "
   ]
  },
  {
   "cell_type": "markdown",
   "id": "a9bbb96f-03be-41c9-9d25-c6d60bbe41f1",
   "metadata": {},
   "source": [
    "# Parametry kalibracji"
   ]
  },
  {
   "cell_type": "code",
   "execution_count": 3,
   "id": "473b81b5-d519-4f30-b61c-3dc44c89a758",
   "metadata": {},
   "outputs": [],
   "source": [
    "serial=\"JANUSZ_4_RI80_21414847\" #musi byc min jedna litera w numerze\n",
    "note=\"joint J4, pcb 3_4\" #póki co musi być cokolwiek"
   ]
  },
  {
   "cell_type": "code",
   "execution_count": 4,
   "id": "abffa421-5f90-41cc-92d0-9ab0813f533c",
   "metadata": {},
   "outputs": [],
   "source": [
    "path = \"/home/pi/mech_diagnostics/diagnostic_data\"\n",
    "try: \n",
    "    os.mkdir(path+'/'+serial) \n",
    "except OSError as error: \n",
    "    pass"
   ]
  },
  {
   "cell_type": "code",
   "execution_count": 5,
   "id": "a304a872-2f14-4cb9-aa58-c5aed8e9feb5",
   "metadata": {
    "tags": []
   },
   "outputs": [],
   "source": [
    "os.popen('/home/pi/mech_diagnostics/can_down.sh')\n",
    "time.sleep(1)\n",
    "os.popen('/home/pi/mech_diagnostics/can_up.sh')\n",
    "time.sleep(1)\n",
    "\n",
    "\n",
    "bus = can.interface.Bus(bustype='socketcan', channel='can0', bitrate=1000000, data_bitrate=5000000, fd=True)"
   ]
  },
  {
   "cell_type": "markdown",
   "id": "a1b3b11a-4f89-48fb-aa8a-24fafd212e51",
   "metadata": {},
   "source": [
    "# Reset adresów CAN"
   ]
  },
  {
   "cell_type": "code",
   "execution_count": 6,
   "id": "7803ba81-952b-4db1-a4f8-276643e3c325",
   "metadata": {},
   "outputs": [],
   "source": [
    "send_msg(0x030, [64,1,0,0,0,0,0,0], bus)\n",
    "time.sleep(0.1)\n",
    "send_msg(0x040, None, bus)\n",
    "time.sleep(0.1)\n",
    "send_msg(0x0a0, None, bus)\n",
    "time.sleep(1)"
   ]
  },
  {
   "cell_type": "markdown",
   "id": "298a0571-333a-411e-9af4-e7a63734ec4a",
   "metadata": {
    "tags": []
   },
   "source": [
    "# Kalibracja enkodera absolutnego"
   ]
  },
  {
   "cell_type": "code",
   "execution_count": 7,
   "id": "afabb2c0-3b1c-4211-b92e-a4982cc0fbcb",
   "metadata": {},
   "outputs": [
    {
     "name": "stdout",
     "output_type": "stream",
     "text": [
      "1/2 Calibration done          "
     ]
    }
   ],
   "source": [
    "while not calibrate_joint(131,bus):\n",
    "    time.sleep(1)\n",
    "    \n",
    "while(get_data(send_msg(0x000,None,bus),bus).FSM != 1):\n",
    "\n",
    "\n",
    "    print(f'Calibration in progress\\r', end='')\n",
    "    time.sleep(1)\n",
    "print('                              \\r',end='')\n",
    "\n",
    "send_msg(0x010, [2], bus)\n",
    "time.sleep(0.1)\n",
    "send_msg(0x010, [1], bus)\n",
    "time.sleep(0.1)\n",
    "send_msg(0x040, None, bus)\n",
    "time.sleep(1)\n",
    "\n",
    "print(f'1/2 Calibration done', end='')"
   ]
  },
  {
   "cell_type": "markdown",
   "id": "bafc02c3-91df-443b-8078-c90e83698ea9",
   "metadata": {},
   "source": [
    "# Kalibracja zera"
   ]
  },
  {
   "cell_type": "code",
   "execution_count": 8,
   "id": "81d3bdff-d4b7-4028-b69d-33faa89945ed",
   "metadata": {},
   "outputs": [
    {
     "name": "stdout",
     "output_type": "stream",
     "text": [
      "2/2 Calibration done          "
     ]
    }
   ],
   "source": [
    "while not calibrate_joint(161,bus):\n",
    "    time.sleep(1)\n",
    "    \n",
    "while(get_data(send_msg(0x000,None,bus),bus).FSM != 1):\n",
    "\n",
    "\n",
    "    print(f'Calibration in progress\\r', end='')\n",
    "    time.sleep(1)\n",
    "print('                              \\r',end='')\n",
    "\n",
    "send_msg(0x010, [2], bus)\n",
    "time.sleep(0.1)\n",
    "send_msg(0x010, [1], bus)\n",
    "time.sleep(0.1)\n",
    "send_msg(0x040, None, bus)\n",
    "time.sleep(1)\n",
    "\n",
    "print(f'2/2 Calibration done', end='')"
   ]
  },
  {
   "cell_type": "markdown",
   "id": "e0cc2f43-a22d-49f2-8dd5-1d7b985900fc",
   "metadata": {},
   "source": [
    "# Test enkoderów"
   ]
  },
  {
   "cell_type": "code",
   "execution_count": 9,
   "id": "94cd5a8e-a7db-4d7e-8912-9212b09b22c4",
   "metadata": {},
   "outputs": [],
   "source": [
    "# do sprawdzenia enkodera nie uruchamiać bloków sekcji 1\n",
    "send_msg(0x0A0, None, bus)\n",
    "time.sleep(1)\n",
    "send_msg(0x0F0, [2,2], bus)\n",
    "send_msg(0x010, [2], bus)\n",
    "time.sleep(0.1)\n",
    "send_msg(0x010, [3], bus)\n",
    "time.sleep(6)"
   ]
  },
  {
   "cell_type": "code",
   "execution_count": 10,
   "id": "bdb37ed8-5cb8-4b1e-8d4f-90c03718d233",
   "metadata": {},
   "outputs": [
    {
     "data": {
      "text/plain": [
       "<joint_can.JointData at 0xac89d6e8>"
      ]
     },
     "execution_count": 10,
     "metadata": {},
     "output_type": "execute_result"
    }
   ],
   "source": [
    "position_data=[]\n",
    "speed_data=[]\n",
    "\n",
    "set_speed(0.1,bus)\n",
    "time.sleep(1)\n",
    "\n",
    "run_time=60\n",
    "start_time=time.time()\n",
    "\n",
    "while((time.time()-start_time)<(run_time)):\n",
    "    data=set_speed(0.1,bus)\n",
    "    position_data.append(data.position)\n",
    "    speed_data.append(data.speed)\n",
    "set_speed(0.,bus)"
   ]
  },
  {
   "cell_type": "code",
   "execution_count": 11,
   "id": "54901fa0-6fdf-44df-a970-1faf34e2dc2a",
   "metadata": {
    "tags": []
   },
   "outputs": [
    {
     "data": {
      "application/vnd.jupyter.widget-view+json": {
       "model_id": "5e1826450d5c43048709cb826ecbef59",
       "version_major": 2,
       "version_minor": 0
      },
      "image/png": "[encoded data removed]",
      "text/html": [
       "\n",
       "            <div style=\"display: inline-block;\">\n",
       "                <div class=\"jupyter-widgets widget-label\" style=\"text-align: center;\">\n",
       "                    Figure\n",
       "                </div>\n",
       "                <img src='data:image/png;base64,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' width=640.0/>\n",
       "            </div>\n",
       "        "
      ],
      "text/plain": [
       "Canvas(toolbar=Toolbar(toolitems=[('Home', 'Reset original view', 'home', 'home'), ('Back', 'Back to previous …"
      ]
     },
     "metadata": {},
     "output_type": "display_data"
    }
   ],
   "source": [
    "plt.plot(position_data)\n",
    "# plt.plot(speed_data)\n",
    "plt.suptitle(serial+ '\\n' +note)\n",
    "plt.show()\n",
    "plt.savefig(path+'/'+serial+'/enkoder_'+time.strftime('%y_%m_%d_%H_%M')+'.png', dpi=150)"
   ]
  },
  {
   "cell_type": "markdown",
   "id": "1320d5f2-52a6-4022-8ab9-fbbcf66bf506",
   "metadata": {},
   "source": [
    "# ustawienie na zerze [uruchomić komórki 1.1-1.5]"
   ]
  },
  {
   "cell_type": "code",
   "execution_count": 12,
   "id": "8b59c4b8-6848-4a6f-b910-2fe166f6e0d9",
   "metadata": {
    "tags": []
   },
   "outputs": [
    {
     "name": "stdout",
     "output_type": "stream",
     "text": [
      "0.006903017415883481\n"
     ]
    }
   ],
   "source": [
    "send_msg(0x0A0, None, bus)\n",
    "time.sleep(1)\n",
    "send_msg(0x0F0, [2,2], bus)\n",
    "send_msg(0x010, [2], bus)\n",
    "time.sleep(0.1)\n",
    "send_msg(0x010, [3], bus)\n",
    "time.sleep(6)\n",
    "\n",
    "\n",
    "data=set_speed(0,bus)\n",
    "\n",
    "sgn=(int(data.position>0) - int(data.position<0))\n",
    "\n",
    "data=set_speed(sgn*0.1,bus)\n",
    "\n",
    "while(abs(data.position)>0.01):\n",
    "    if (abs(data.position)>0.2):\n",
    "        data=set_speed(sgn*0.2,bus)\n",
    "    else:\n",
    "        data=set_speed(sgn*0.05,bus)\n",
    "    time.sleep(0.1)\n",
    "\n",
    "send_msg(0x010, [2], bus)\n",
    "print(data.position)"
   ]
  },
  {
   "cell_type": "code",
   "execution_count": null,
   "id": "c98c4e9f-9083-4ab5-9071-22ffc4d7600c",
   "metadata": {},
   "outputs": [],
   "source": []
  }
 ],
 "metadata": {
  "kernelspec": {
   "display_name": "Python 3 (ipykernel)",
   "language": "python",
   "name": "python3"
  },
  "language_info": {
   "codemirror_mode": {
    "name": "ipython",
    "version": 3
   },
   "file_extension": ".py",
   "mimetype": "text/x-python",
   "name": "python",
   "nbconvert_exporter": "python",
   "pygments_lexer": "ipython3",
   "version": "3.9.2"
  }
 },
 "nbformat": 4,
 "nbformat_minor": 5
}
