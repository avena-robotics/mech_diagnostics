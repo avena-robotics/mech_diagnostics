{
 "cells": [
  {
   "cell_type": "markdown",
   "id": "5826fd0a-f840-4a3c-80f9-1f164cc800bd",
   "metadata": {
    "tags": []
   },
   "source": [
    "# Inicjalizacja kontrolera"
   ]
  },
  {
   "cell_type": "code",
   "execution_count": 1,
   "id": "b035e35f-c206-42c4-8294-ea7c0adca636",
   "metadata": {},
   "outputs": [],
   "source": [
    "import can\n",
    "import matplotlib.pyplot as plt\n",
    "from matplotlib import interactive\n",
    "import numpy as np\n",
    "import os\n",
    "import time\n",
    "import math\n",
    "from IPython.display import display, clear_output\n",
    "from joint_can import *\n",
    "%matplotlib widget"
   ]
  },
  {
   "cell_type": "code",
   "execution_count": 2,
   "id": "ad7c80c1-8bc2-46b5-a2e0-d7fdecfbe6d3",
   "metadata": {},
   "outputs": [],
   "source": [
    "def calibrate_joint(cmd,bus,nr_id):\n",
    "    send_msg(0x1A0 + nr_id, None, bus)\n",
    "    time.sleep(2)\n",
    "    send_msg(0x1F0 + nr_id, [1,6], bus)\n",
    "    send_msg(0x110 + nr_id, [1], bus)\n",
    "    \n",
    "    if (send_msg(0x110 + nr_id, None, bus).data[0] == 1):\n",
    "        send_msg(0x110 + nr_id, [cmd], bus)\n",
    "        time.sleep(1)\n",
    "        return True\n",
    "    else:\n",
    "        return False\n",
    "        # print(send_msg(0x010, [3], bus).data[0])\n",
    "        # time.sleep(5)        "
   ]
  },
  {
   "cell_type": "code",
   "execution_count": 3,
   "id": "c693a3df-3b75-4b48-9012-4611cb0abc3c",
   "metadata": {},
   "outputs": [],
   "source": [
    "# Ustawienie adresu CAN na \"nr_id\"\n",
    "\n",
    "def initialize_joint(bus, mode: int, nr_id):\n",
    "    send_msg(0x1A0 + nr_id, None, bus)\n",
    "    time.sleep(1)\n",
    "    \n",
    "    send_msg(0x1b0 + nr_id, [0,0,0,0,0,0], bus)\n",
    "    time.sleep(0.1)\n",
    "    send_msg(0x140 + nr_id, None, bus)\n",
    "    time.sleep(0.1)\n",
    "    send_msg(0x1a0 + nr_id, None, bus)\n",
    "    time.sleep(1)\n",
    "    \n",
    "    if (send_msg(0x1F0 + nr_id, [mode, 2], bus).data[0] == 1):\n",
    "        send_msg(0x110 + nr_id, [2], bus)\n",
    "        time.sleep(1)\n",
    "        send_msg(0x110 + nr_id, [3], bus).data[0]\n",
    "        time.sleep(5)\n",
    "        return True\n",
    "    else:\n",
    "        return False\n",
    "      "
   ]
  },
  {
   "cell_type": "code",
   "execution_count": 4,
   "id": "a304a872-2f14-4cb9-aa58-c5aed8e9feb5",
   "metadata": {
    "tags": []
   },
   "outputs": [],
   "source": [
    "# os.popen('/home/pi/mech_diagnostics/can_down.sh')\n",
    "# time.sleep(1)\n",
    "# os.popen('/home/pi/mech_diagnostics/can_up.sh')\n",
    "# time.sleep(1)\n"
   ]
  },
  {
   "cell_type": "code",
   "execution_count": 5,
   "id": "aefa4f0c-a1df-4ac1-897d-9bc6225cfb39",
   "metadata": {},
   "outputs": [],
   "source": [
    "bus = can.interface.Bus(bustype='socketcan', channel='can0', bitrate=1000000, data_bitrate=5000000, fd=True)"
   ]
  },
  {
   "cell_type": "markdown",
   "id": "a9bbb96f-03be-41c9-9d25-c6d60bbe41f1",
   "metadata": {
    "tags": []
   },
   "source": [
    "# Parametry kalibracji"
   ]
  },
  {
   "cell_type": "code",
   "execution_count": 6,
   "id": "9a1269cb-6b25-4080-b3a3-63ffb9dd250e",
   "metadata": {},
   "outputs": [],
   "source": [
    "nr_id = get_can_id(bus)"
   ]
  },
  {
   "cell_type": "code",
   "execution_count": 7,
   "id": "473b81b5-d519-4f30-b61c-3dc44c89a758",
   "metadata": {},
   "outputs": [],
   "source": [
    "# serial=\"JANUSZ_3_RI70_TESTY\" #musi byc min jedna litera w numerze\n",
    "# note=\"Janusz 6 - joint 2\"  #póki co musi być cokolwiek"
   ]
  },
  {
   "cell_type": "code",
   "execution_count": 8,
   "id": "abffa421-5f90-41cc-92d0-9ab0813f533c",
   "metadata": {},
   "outputs": [],
   "source": [
    "# path = \"/home/pi/mech_diagnostics/diagnostic_data\"\n",
    "# try: \n",
    "#     os.mkdir(path+'/'+serial) \n",
    "# except OSError as error: \n",
    "#     pass"
   ]
  },
  {
   "cell_type": "code",
   "execution_count": 9,
   "id": "c6b9cb45-6846-4139-b384-fc8ab4499faf",
   "metadata": {},
   "outputs": [
    {
     "data": {
      "text/plain": [
       "True"
      ]
     },
     "execution_count": 9,
     "metadata": {},
     "output_type": "execute_result"
    }
   ],
   "source": [
    "initialize_joint(bus,2, nr_id)"
   ]
  },
  {
   "cell_type": "markdown",
   "id": "298a0571-333a-411e-9af4-e7a63734ec4a",
   "metadata": {
    "tags": []
   },
   "source": [
    "# Kalibracja enkodera absolutnego"
   ]
  },
  {
   "cell_type": "code",
   "execution_count": 10,
   "id": "afabb2c0-3b1c-4211-b92e-a4982cc0fbcb",
   "metadata": {
    "tags": []
   },
   "outputs": [],
   "source": [
    "# while not calibrate_joint(131,bus,nr_id): # 131 uruchomienie kalibracji enk absolutnego\n",
    "#     time.sleep(1)\n",
    "    \n",
    "# while(get_data_t(send_msg(0x180 + nr_id,None,bus)).FSM != 1):\n",
    "\n",
    "\n",
    "#     print(f'Calibration in progress\\r', end='')\n",
    "#     time.sleep(1)\n",
    "# print('                              \\r',end='')\n",
    "\n",
    "# send_msg(0x110 + nr_id, [2], bus)\n",
    "# time.sleep(0.1)\n",
    "# send_msg(0x110 + nr_id, [1], bus)\n",
    "# time.sleep(0.1)\n",
    "# send_msg(0x140 + nr_id, None, bus)\n",
    "# time.sleep(1)\n",
    "\n",
    "# print(f'1/2 Calibration done', end='')"
   ]
  },
  {
   "cell_type": "markdown",
   "id": "bafc02c3-91df-443b-8078-c90e83698ea9",
   "metadata": {},
   "source": [
    "# Kalibracja miejsca zerowego"
   ]
  },
  {
   "cell_type": "code",
   "execution_count": 11,
   "id": "81d3bdff-d4b7-4028-b69d-33faa89945ed",
   "metadata": {},
   "outputs": [],
   "source": [
    "# while not calibrate_joint(161,bus,nr_id): # 161 uruchomienie kalibracji zera\n",
    "#     time.sleep(0.5)\n",
    "    \n",
    "# while(get_data_t(send_msg(0x180 + nr_id,None,bus)).FSM != 1):\n",
    "\n",
    "\n",
    "#     print(f'Calibration in progress\\r', end='')\n",
    "#     time.sleep(1)\n",
    "# print('                              \\r',end='')\n",
    "\n",
    "# send_msg(0x110 + nr_id, [2], bus)\n",
    "# time.sleep(0.1)\n",
    "# send_msg(0x110 + nr_id, [1], bus)\n",
    "# time.sleep(0.1)\n",
    "# send_msg(0x140 + nr_id, None, bus)\n",
    "# time.sleep(1)\n",
    "\n",
    "# print(f'2/2 Calibration done', end='')"
   ]
  },
  {
   "cell_type": "markdown",
   "id": "165258fb-9b13-4d54-ac3a-61a27b2b4993",
   "metadata": {},
   "source": [
    "# Sprawdzenie zapisanej pozycji zerowej jointa i aktualnej"
   ]
  },
  {
   "cell_type": "code",
   "execution_count": 12,
   "id": "33b2d39b-0095-4a49-97eb-8f449738e913",
   "metadata": {},
   "outputs": [
    {
     "name": "stdout",
     "output_type": "stream",
     "text": [
      "zapisana pozycja zerowa: 0x58 = 143, 10\n",
      "aktualna pozycja jointa: 0xC1 = 142, 220\n"
     ]
    }
   ],
   "source": [
    "send_msg(0x1A0 + nr_id, None, bus)\n",
    "## pozycja zpisana w rejestrze 58(zapisana pozycja zerowa jointa)\n",
    "msg = send_msg(0x120 + nr_id, [0x58, 1], bus)\n",
    "data = msg.data\n",
    "print(f\"zapisana pozycja zerowa: 0x58 = {data[1]}, {data[2]}\")\n",
    "\n",
    "act_pos = send_msg(0x120 + nr_id, [0xC1, 1], bus)\n",
    "data_pos = act_pos.data\n",
    "print(f'aktualna pozycja jointa: 0xC1 = {data_pos[1]}, {data_pos[2]}')\n",
    "\n"
   ]
  },
  {
   "cell_type": "markdown",
   "id": "517962c1-86ae-49de-b8a2-f70aae9bd895",
   "metadata": {},
   "source": [
    "# Zapisanie miejsca zerowego jointa w aktualnej pozycji, uruchomić wcześniej komórkę wyżej"
   ]
  },
  {
   "cell_type": "code",
   "execution_count": 13,
   "id": "5e998da6-66bc-4332-9d1a-99ffa7bfcdbc",
   "metadata": {},
   "outputs": [
    {
     "name": "stdout",
     "output_type": "stream",
     "text": [
      "zapis do 0x58\n",
      "Save to flash\n"
     ]
    }
   ],
   "source": [
    "# 2) zapisanie odczytanej wartości do rejestru 0x58\n",
    "print('zapis do 0x58')\n",
    "send_msg(0x130 + nr_id, [0x58, 0x01, data_pos[1], data_pos[2]], bus)\n",
    "time.sleep(2)\n",
    "# 3) zapis fo flasha\n",
    "print('Save to flash')\n",
    "send_msg(0x140 + nr_id, [], bus)\n",
    "time.sleep(2)"
   ]
  },
  {
   "cell_type": "markdown",
   "id": "e0cc2f43-a22d-49f2-8dd5-1d7b985900fc",
   "metadata": {},
   "source": [
    "# Test enkoderów"
   ]
  },
  {
   "cell_type": "code",
   "execution_count": 14,
   "id": "94cd5a8e-a7db-4d7e-8912-9212b09b22c4",
   "metadata": {},
   "outputs": [],
   "source": [
    "# # do sprawdzenia enkodera nie uruchamiać bloków sekcji 1\n",
    "# send_msg(0x1A0 + nr_id, None, bus)\n",
    "# time.sleep(1)\n",
    "# send_msg(0x1F0 + nr_id, [2,2], bus)\n",
    "# send_msg(0x110 + nr_id, [2], bus)\n",
    "# time.sleep(0.1)\n",
    "# send_msg(0x110 + nr_id, [3], bus)\n",
    "# time.sleep(6)"
   ]
  },
  {
   "cell_type": "code",
   "execution_count": 15,
   "id": "bdb37ed8-5cb8-4b1e-8d4f-90c03718d233",
   "metadata": {},
   "outputs": [],
   "source": [
    "# position_data=[]\n",
    "# speed_data=[]\n",
    "\n",
    "# set_speed(0.1,bus,nr_id)\n",
    "# time.sleep(1)\n",
    "\n",
    "# run_time=20\n",
    "# start_time=time.time()\n",
    "\n",
    "# while((time.time()-start_time)<(run_time)):\n",
    "#     data=set_speed(1,bus,nr_id)\n",
    "#     position_data.append(data.position)\n",
    "#     speed_data.append(data.speed)\n",
    "# set_speed(0,bus, nr_id)"
   ]
  },
  {
   "cell_type": "code",
   "execution_count": 16,
   "id": "54901fa0-6fdf-44df-a970-1faf34e2dc2a",
   "metadata": {
    "tags": []
   },
   "outputs": [],
   "source": [
    "# plt.plot(position_data)\n",
    "# # plt.plot(speed_data)\n",
    "# plt.suptitle(serial+ '\\n' +note)\n",
    "# plt.xlabel('Ilość próbek przez {} sekund'.format(run_time))\n",
    "# plt.ylabel('Pozycja jointa od -3,14 do +3,14')\n",
    "# plt.show()\n",
    "# plt.savefig(path+'/'+serial+'/enkoder_'+serial+'_'+time.strftime('%y_%m_%d_%H_%M')+'.png', dpi=1200)"
   ]
  },
  {
   "cell_type": "markdown",
   "id": "1320d5f2-52a6-4022-8ab9-fbbcf66bf506",
   "metadata": {},
   "source": [
    "# ustawienie na zerze [uruchomić komórki 1.1-1.5]"
   ]
  },
  {
   "cell_type": "code",
   "execution_count": 17,
   "id": "93c9352c-6b90-49b3-9f72-e45171269ebd",
   "metadata": {},
   "outputs": [],
   "source": [
    "# initialize_joint(bus,2, nr_id)"
   ]
  },
  {
   "cell_type": "code",
   "execution_count": 18,
   "id": "8b59c4b8-6848-4a6f-b910-2fe166f6e0d9",
   "metadata": {
    "tags": []
   },
   "outputs": [],
   "source": [
    "# send_msg(0x1A0 + nr_id, None, bus)\n",
    "# time.sleep(1)\n",
    "# send_msg(0x1F0 + nr_id, [2,2], bus)\n",
    "# send_msg(0x110 + nr_id, [2], bus)\n",
    "# time.sleep(1)\n",
    "# send_msg(0x110 + nr_id, [3], bus)\n",
    "# time.sleep(2)\n",
    "\n",
    "\n",
    "# data=set_speed(0,bus,nr_id)\n",
    "# sgn=(int(data.position>0) - int(data.position<0))\n",
    "\n",
    "# data=set_speed(sgn*0.1,bus,nr_id)\n",
    "# print(data.position)\n",
    "# while(abs(data.position)>0.01):\n",
    "#     if (abs(data.position)>0.2):\n",
    "#         data=set_speed(sgn*-0.4,bus,nr_id)\n",
    "#     else:\n",
    "#         data=set_speed(sgn*-0.05,bus,nr_id)\n",
    "#     time.sleep(0.1)\n",
    "\n",
    "# send_msg(0x110 + nr_id, [2], bus)\n",
    "# print(data.position)"
   ]
  },
  {
   "cell_type": "code",
   "execution_count": 19,
   "id": "33d3c914-edf9-428e-9a9a-9fa8d3b21055",
   "metadata": {},
   "outputs": [],
   "source": [
    "# while True:\n",
    "#     send_msg(0x180 + nr_id, None, bus)\n",
    "#     time.sleep(0.5)\n",
    "# # initialize_joint(bus,2, nr_id)"
   ]
  },
  {
   "cell_type": "markdown",
   "id": "0be9ce07-624b-4889-aafd-d8def179a522",
   "metadata": {},
   "source": [
    "# Odczytywanie w pętli bierzącej pozycji"
   ]
  },
  {
   "cell_type": "code",
   "execution_count": 20,
   "id": "bc81716f-d043-4d23-bca0-22a7f43529c0",
   "metadata": {},
   "outputs": [],
   "source": [
    "# spin = 1\n",
    "# while (spin < 50):\n",
    "#     data=set_torque(0,bus,nr_id)\n",
    "#     # print(f'\\r {abs(data.position)}' , end='')\n",
    "#     print(f'{abs(data.position)}\\n' , end='')\n",
    "#     spin += 1"
   ]
  },
  {
   "cell_type": "code",
   "execution_count": null,
   "id": "352d7b31-2654-4316-932e-4aa3fe57ce44",
   "metadata": {},
   "outputs": [],
   "source": []
  },
  {
   "cell_type": "code",
   "execution_count": null,
   "id": "512777ee-9ab4-466c-99b2-595444a92db8",
   "metadata": {},
   "outputs": [],
   "source": []
  }
 ],
 "metadata": {
  "kernelspec": {
   "display_name": "Python 3 (ipykernel)",
   "language": "python",
   "name": "python3"
  },
  "language_info": {
   "codemirror_mode": {
    "name": "ipython",
    "version": 3
   },
   "file_extension": ".py",
   "mimetype": "text/x-python",
   "name": "python",
   "nbconvert_exporter": "python",
   "pygments_lexer": "ipython3",
   "version": "3.9.2"
  }
 },
 "nbformat": 4,
 "nbformat_minor": 5
}
