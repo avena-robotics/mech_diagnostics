{
 "cells": [
  {
   "cell_type": "markdown",
   "id": "5826fd0a-f840-4a3c-80f9-1f164cc800bd",
   "metadata": {},
   "source": [
    "# Inicjalizacja kontrolera"
   ]
  },
  {
   "cell_type": "code",
   "execution_count": 1,
   "id": "b035e35f-c206-42c4-8294-ea7c0adca636",
   "metadata": {},
   "outputs": [],
   "source": [
    "import can\n",
    "import matplotlib.pyplot as plt\n",
    "from matplotlib import interactive\n",
    "import numpy as np\n",
    "import os\n",
    "import time\n",
    "import math\n",
    "from IPython.display import display, clear_output\n",
    "from joint_can import *\n",
    "%matplotlib widget"
   ]
  },
  {
   "cell_type": "code",
   "execution_count": 2,
   "id": "ad7c80c1-8bc2-46b5-a2e0-d7fdecfbe6d3",
   "metadata": {},
   "outputs": [],
   "source": [
    "def calibrate_joint(cmd,bus,nr_id):\n",
    "    send_msg(0x1A0 + nr_id, None, bus)\n",
    "    time.sleep(2)\n",
    "    send_msg(0x1F0 + nr_id, [1,6], bus)\n",
    "    send_msg(0x110 + nr_id, [1], bus)\n",
    "    \n",
    "    if (send_msg(0x110 + nr_id, None, bus).data[0] == 1):\n",
    "        send_msg(0x110 + nr_id, [cmd], bus)\n",
    "        time.sleep(1)\n",
    "        return True\n",
    "    else:\n",
    "        return False\n",
    "        # print(send_msg(0x010, [3], bus).data[0])\n",
    "        # time.sleep(5)        "
   ]
  },
  {
   "cell_type": "code",
   "execution_count": 3,
   "id": "c693a3df-3b75-4b48-9012-4611cb0abc3c",
   "metadata": {},
   "outputs": [],
   "source": [
    "# Ustawienie adresu CAN na \"nr_id\"\n",
    "\n",
    "def initialize_joint(bus, mode: int, nr_id):\n",
    "    send_msg(0x1A0 + nr_id, None, bus)\n",
    "    time.sleep(1)\n",
    "    \n",
    "    send_msg(0x1b0 + nr_id, [0,0,0,0,0,0], bus)\n",
    "    time.sleep(0.1)\n",
    "    send_msg(0x140 + nr_id, None, bus)\n",
    "    time.sleep(0.1)\n",
    "    send_msg(0x1a0 + nr_id, None, bus)\n",
    "    time.sleep(1)\n",
    "    \n",
    "    if (send_msg(0x1F0 + nr_id, [mode, 2], bus).data[0] == 1):\n",
    "        send_msg(0x110 + nr_id, [2], bus)\n",
    "        time.sleep(1)\n",
    "        send_msg(0x110 + nr_id, [3], bus).data[0]\n",
    "        time.sleep(5)\n",
    "        return True\n",
    "    else:\n",
    "        return False\n",
    "      "
   ]
  },
  {
   "cell_type": "code",
   "execution_count": 4,
   "id": "a304a872-2f14-4cb9-aa58-c5aed8e9feb5",
   "metadata": {
    "tags": []
   },
   "outputs": [],
   "source": [
    "os.popen('/home/pi/mech_diagnostics/can_down.sh')\n",
    "time.sleep(1)\n",
    "os.popen('/home/pi/mech_diagnostics/can_up.sh')\n",
    "time.sleep(1)\n",
    "\n",
    "bus = can.interface.Bus(bustype='socketcan', channel='can0', bitrate=1000000, data_bitrate=5000000, fd=False)"
   ]
  },
  {
   "cell_type": "markdown",
   "id": "a9bbb96f-03be-41c9-9d25-c6d60bbe41f1",
   "metadata": {},
   "source": [
    "# Parametry kalibracji"
   ]
  },
  {
   "cell_type": "code",
   "execution_count": 5,
   "id": "473b81b5-d519-4f30-b61c-3dc44c89a758",
   "metadata": {},
   "outputs": [],
   "source": [
    "serial=\"JANUSZ_5_RI80_21414844\" #musi byc min jedna litera w numerze\n",
    "note=\"joint J5, pcb 3_4\" #póki co musi być cokolwiek\n",
    "nr_id = get_can_id(bus)"
   ]
  },
  {
   "cell_type": "code",
   "execution_count": 6,
   "id": "abffa421-5f90-41cc-92d0-9ab0813f533c",
   "metadata": {},
   "outputs": [],
   "source": [
    "path = \"/home/pi/mech_diagnostics/diagnostic_data\"\n",
    "try: \n",
    "    os.mkdir(path+'/'+serial) \n",
    "except OSError as error: \n",
    "    pass"
   ]
  },
  {
   "cell_type": "code",
   "execution_count": 7,
   "id": "c6b9cb45-6846-4139-b384-fc8ab4499faf",
   "metadata": {},
   "outputs": [
    {
     "data": {
      "text/plain": [
       "True"
      ]
     },
     "execution_count": 7,
     "metadata": {},
     "output_type": "execute_result"
    }
   ],
   "source": [
    "initialize_joint(bus,2, nr_id)"
   ]
  },
  {
   "cell_type": "markdown",
   "id": "a1b3b11a-4f89-48fb-aa8a-24fafd212e51",
   "metadata": {},
   "source": [
    "# Reset adresów CAN"
   ]
  },
  {
   "cell_type": "code",
   "execution_count": 8,
   "id": "7803ba81-952b-4db1-a4f8-276643e3c325",
   "metadata": {},
   "outputs": [],
   "source": [
    "# send_msg(0x130 + nr_id, [64,1,0,nr_id], bus)\n",
    "# time.sleep(0.1)\n",
    "# send_msg(0x140 + nr_id, None, bus)\n",
    "# time.sleep(0.1)\n",
    "# send_msg(0x1a0 + nr_id, None, bus)\n",
    "# time.sleep(1)"
   ]
  },
  {
   "cell_type": "markdown",
   "id": "298a0571-333a-411e-9af4-e7a63734ec4a",
   "metadata": {
    "tags": []
   },
   "source": [
    "# Kalibracja enkodera absolutnego"
   ]
  },
  {
   "cell_type": "code",
   "execution_count": 9,
   "id": "afabb2c0-3b1c-4211-b92e-a4982cc0fbcb",
   "metadata": {},
   "outputs": [
    {
     "name": "stdout",
     "output_type": "stream",
     "text": [
      "1/2 Calibration done          "
     ]
    }
   ],
   "source": [
    "while not calibrate_joint(131,bus,nr_id): # 131 uruchomienie kalibracji enk absolutnego\n",
    "    time.sleep(1)\n",
    "    \n",
    "while(get_data_t(send_msg(0x180 + nr_id,None,bus)).FSM != 1):\n",
    "\n",
    "\n",
    "    print(f'Calibration in progress\\r', end='')\n",
    "    time.sleep(1)\n",
    "print('                              \\r',end='')\n",
    "\n",
    "send_msg(0x110 + nr_id, [2], bus)\n",
    "time.sleep(0.1)\n",
    "send_msg(0x110 + nr_id, [1], bus)\n",
    "time.sleep(0.1)\n",
    "send_msg(0x140 + nr_id, None, bus)\n",
    "time.sleep(1)\n",
    "\n",
    "print(f'1/2 Calibration done', end='')"
   ]
  },
  {
   "cell_type": "markdown",
   "id": "bafc02c3-91df-443b-8078-c90e83698ea9",
   "metadata": {},
   "source": [
    "# Kalibracja zera"
   ]
  },
  {
   "cell_type": "code",
   "execution_count": 10,
   "id": "81d3bdff-d4b7-4028-b69d-33faa89945ed",
   "metadata": {},
   "outputs": [
    {
     "name": "stdout",
     "output_type": "stream",
     "text": [
      "2/2 Calibration done          "
     ]
    }
   ],
   "source": [
    "while not calibrate_joint(161,bus,nr_id): # 161 uruchomienie kalibracji zera\n",
    "    time.sleep(0.5)\n",
    "    \n",
    "while(get_data_t(send_msg(0x180 + nr_id,None,bus)).FSM != 1):\n",
    "\n",
    "\n",
    "    print(f'Calibration in progress\\r', end='')\n",
    "    time.sleep(1)\n",
    "print('                              \\r',end='')\n",
    "\n",
    "send_msg(0x110 + nr_id, [2], bus)\n",
    "time.sleep(0.1)\n",
    "send_msg(0x110 + nr_id, [1], bus)\n",
    "time.sleep(0.1)\n",
    "send_msg(0x140 + nr_id, None, bus)\n",
    "time.sleep(1)\n",
    "\n",
    "print(f'2/2 Calibration done', end='')"
   ]
  },
  {
   "cell_type": "markdown",
   "id": "e0cc2f43-a22d-49f2-8dd5-1d7b985900fc",
   "metadata": {},
   "source": [
    "# Test enkoderów"
   ]
  },
  {
   "cell_type": "code",
   "execution_count": 11,
   "id": "94cd5a8e-a7db-4d7e-8912-9212b09b22c4",
   "metadata": {},
   "outputs": [],
   "source": [
    "# do sprawdzenia enkodera nie uruchamiać bloków sekcji 1\n",
    "send_msg(0x1A0 + nr_id, None, bus)\n",
    "time.sleep(1)\n",
    "send_msg(0x1F0 + nr_id, [2,2], bus)\n",
    "send_msg(0x110 + nr_id, [2], bus)\n",
    "time.sleep(0.1)\n",
    "send_msg(0x110 + nr_id, [3], bus)\n",
    "time.sleep(6)"
   ]
  },
  {
   "cell_type": "code",
   "execution_count": 12,
   "id": "bdb37ed8-5cb8-4b1e-8d4f-90c03718d233",
   "metadata": {},
   "outputs": [
    {
     "data": {
      "text/plain": [
       "<joint_can.JointData at 0xac81ea00>"
      ]
     },
     "execution_count": 12,
     "metadata": {},
     "output_type": "execute_result"
    }
   ],
   "source": [
    "position_data=[]\n",
    "speed_data=[]\n",
    "\n",
    "set_speed(0.1,bus,nr_id)\n",
    "time.sleep(1)\n",
    "\n",
    "run_time=65\n",
    "start_time=time.time()\n",
    "\n",
    "while((time.time()-start_time)<(run_time)):\n",
    "    data=set_speed(0.1,bus,nr_id)\n",
    "    position_data.append(data.position)\n",
    "    speed_data.append(data.speed)\n",
    "set_speed(0,bus, nr_id)"
   ]
  },
  {
   "cell_type": "code",
   "execution_count": 13,
   "id": "54901fa0-6fdf-44df-a970-1faf34e2dc2a",
   "metadata": {
    "tags": []
   },
   "outputs": [
    {
     "data": {
      "application/vnd.jupyter.widget-view+json": {
       "model_id": "a77db373706d412cba39614842e76940",
       "version_major": 2,
       "version_minor": 0
      },
      "image/png": "[encoded data removed]",
      "text/html": [
       "\n",
       "            <div style=\"display: inline-block;\">\n",
       "                <div class=\"jupyter-widgets widget-label\" style=\"text-align: center;\">\n",
       "                    Figure\n",
       "                </div>\n",
       "                <img src='data:image/png;base64,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' width=640.0/>\n",
       "            </div>\n",
       "        "
      ],
      "text/plain": [
       "Canvas(toolbar=Toolbar(toolitems=[('Home', 'Reset original view', 'home', 'home'), ('Back', 'Back to previous …"
      ]
     },
     "metadata": {},
     "output_type": "display_data"
    }
   ],
   "source": [
    "plt.plot(position_data)\n",
    "# plt.plot(speed_data)\n",
    "plt.suptitle(serial+ '\\n' +note)\n",
    "plt.show()\n",
    "plt.savefig(path+'/'+serial+'/enkoder_'+time.strftime('%y_%m_%d_%H_%M')+'.png', dpi=150)"
   ]
  },
  {
   "cell_type": "markdown",
   "id": "1320d5f2-52a6-4022-8ab9-fbbcf66bf506",
   "metadata": {},
   "source": [
    "# ustawienie na zerze [uruchomić komórki 1.1-1.5]"
   ]
  },
  {
   "cell_type": "code",
   "execution_count": 14,
   "id": "8b59c4b8-6848-4a6f-b910-2fe166f6e0d9",
   "metadata": {
    "tags": []
   },
   "outputs": [
    {
     "name": "stdout",
     "output_type": "stream",
     "text": [
      "0.3325963609168848\n",
      "0.007957768185263546\n"
     ]
    }
   ],
   "source": [
    "send_msg(0x1A0 + nr_id, None, bus)\n",
    "time.sleep(1)\n",
    "send_msg(0x1F0 + nr_id, [2,2], bus)\n",
    "send_msg(0x110 + nr_id, [2], bus)\n",
    "time.sleep(1)\n",
    "send_msg(0x110 + nr_id, [3], bus)\n",
    "time.sleep(2)\n",
    "\n",
    "\n",
    "data=set_speed(0,bus,nr_id)\n",
    "sgn=(int(data.position>0) - int(data.position<0))\n",
    "\n",
    "data=set_speed(sgn*0.1,bus,nr_id)\n",
    "print(data.position)\n",
    "while(abs(data.position)>0.01):\n",
    "    if (abs(data.position)>0.2):\n",
    "        data=set_speed(sgn*-0.25,bus,nr_id)\n",
    "    else:\n",
    "        data=set_speed(sgn*-0.05,bus,nr_id)\n",
    "    time.sleep(0.1)\n",
    "\n",
    "send_msg(0x110 + nr_id, [2], bus)\n",
    "print(data.position)"
   ]
  },
  {
   "cell_type": "code",
   "execution_count": null,
   "id": "c98c4e9f-9083-4ab5-9071-22ffc4d7600c",
   "metadata": {},
   "outputs": [],
   "source": []
  }
 ],
 "metadata": {
  "kernelspec": {
   "display_name": "Python 3 (ipykernel)",
   "language": "python",
   "name": "python3"
  },
  "language_info": {
   "codemirror_mode": {
    "name": "ipython",
    "version": 3
   },
   "file_extension": ".py",
   "mimetype": "text/x-python",
   "name": "python",
   "nbconvert_exporter": "python",
   "pygments_lexer": "ipython3",
   "version": "3.9.2"
  }
 },
 "nbformat": 4,
 "nbformat_minor": 5
}
