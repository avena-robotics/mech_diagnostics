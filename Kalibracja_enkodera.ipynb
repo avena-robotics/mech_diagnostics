{
 "cells": [
  {
   "cell_type": "markdown",
   "id": "5826fd0a-f840-4a3c-80f9-1f164cc800bd",
   "metadata": {
    "tags": []
   },
   "source": [
    "# Inicjalizacja kontrolera"
   ]
  },
  {
   "cell_type": "code",
   "execution_count": 1,
   "id": "b035e35f-c206-42c4-8294-ea7c0adca636",
   "metadata": {},
   "outputs": [],
   "source": [
    "import can\n",
    "import matplotlib.pyplot as plt\n",
    "from matplotlib import interactive\n",
    "import numpy as np\n",
    "import os\n",
    "import time\n",
    "import math\n",
    "from IPython.display import display, clear_output\n",
    "from joint_can import *\n",
    "%matplotlib widget"
   ]
  },
  {
   "cell_type": "code",
   "execution_count": 2,
   "id": "ad7c80c1-8bc2-46b5-a2e0-d7fdecfbe6d3",
   "metadata": {},
   "outputs": [],
   "source": [
    "def calibrate_joint(cmd,bus,nr_id):\n",
    "    send_msg(0x1A0 + nr_id, None, bus)\n",
    "    time.sleep(2)\n",
    "    send_msg(0x1F0 + nr_id, [1,6], bus)\n",
    "    send_msg(0x110 + nr_id, [1], bus)\n",
    "    \n",
    "    if (send_msg(0x110 + nr_id, None, bus).data[0] == 1):\n",
    "        send_msg(0x110 + nr_id, [cmd], bus)\n",
    "        time.sleep(1)\n",
    "        return True\n",
    "    else:\n",
    "        return False\n",
    "        # print(send_msg(0x010, [3], bus).data[0])\n",
    "        # time.sleep(5)        "
   ]
  },
  {
   "cell_type": "code",
   "execution_count": 3,
   "id": "c693a3df-3b75-4b48-9012-4611cb0abc3c",
   "metadata": {},
   "outputs": [],
   "source": [
    "# Ustawienie adresu CAN na \"nr_id\"\n",
    "\n",
    "def initialize_joint(bus, mode: int, nr_id):\n",
    "    send_msg(0x1A0 + nr_id, None, bus)\n",
    "    time.sleep(1)\n",
    "    \n",
    "    send_msg(0x1b0 + nr_id, [0,0,0,0,0,0], bus)\n",
    "    time.sleep(0.1)\n",
    "    send_msg(0x140 + nr_id, None, bus)\n",
    "    time.sleep(0.1)\n",
    "    send_msg(0x1a0 + nr_id, None, bus)\n",
    "    time.sleep(1)\n",
    "    \n",
    "    if (send_msg(0x1F0 + nr_id, [mode, 2], bus).data[0] == 1):\n",
    "        send_msg(0x110 + nr_id, [2], bus)\n",
    "        time.sleep(1)\n",
    "        send_msg(0x110 + nr_id, [3], bus).data[0]\n",
    "        time.sleep(5)\n",
    "        return True\n",
    "    else:\n",
    "        return False\n",
    "      "
   ]
  },
  {
   "cell_type": "code",
   "execution_count": 4,
   "id": "a304a872-2f14-4cb9-aa58-c5aed8e9feb5",
   "metadata": {
    "tags": []
   },
   "outputs": [],
   "source": [
    "# os.popen('/home/pi/mech_diagnostics/can_down.sh')\n",
    "# time.sleep(1)\n",
    "# os.popen('/home/pi/mech_diagnostics/can_up.sh')\n",
    "# time.sleep(1)\n"
   ]
  },
  {
   "cell_type": "code",
   "execution_count": 5,
   "id": "aefa4f0c-a1df-4ac1-897d-9bc6225cfb39",
   "metadata": {},
   "outputs": [],
   "source": [
    "bus = can.interface.Bus(bustype='socketcan', channel='can0', bitrate=1000000, data_bitrate=5000000, fd=True)"
   ]
  },
  {
   "cell_type": "markdown",
   "id": "a9bbb96f-03be-41c9-9d25-c6d60bbe41f1",
   "metadata": {
    "tags": []
   },
   "source": [
    "# Parametry kalibracji"
   ]
  },
  {
   "cell_type": "code",
   "execution_count": 6,
   "id": "9a1269cb-6b25-4080-b3a3-63ffb9dd250e",
   "metadata": {},
   "outputs": [],
   "source": [
    "nr_id = get_can_id(bus)"
   ]
  },
  {
   "cell_type": "code",
   "execution_count": 13,
   "id": "473b81b5-d519-4f30-b61c-3dc44c89a758",
   "metadata": {},
   "outputs": [],
   "source": [
    "# serial=\"JANUSZ_3_RI70_TESTY\" #musi byc min jedna litera w numerze\n",
    "# note=\"Janusz 6 - joint 2\"  #póki co musi być cokolwiek"
   ]
  },
  {
   "cell_type": "code",
   "execution_count": 14,
   "id": "abffa421-5f90-41cc-92d0-9ab0813f533c",
   "metadata": {},
   "outputs": [],
   "source": [
    "# path = \"/home/pi/mech_diagnostics/diagnostic_data\"\n",
    "# try: \n",
    "#     os.mkdir(path+'/'+serial) \n",
    "# except OSError as error: \n",
    "#     pass"
   ]
  },
  {
   "cell_type": "code",
   "execution_count": 12,
   "id": "c6b9cb45-6846-4139-b384-fc8ab4499faf",
   "metadata": {},
   "outputs": [
    {
     "data": {
      "text/plain": [
       "True"
      ]
     },
     "execution_count": 12,
     "metadata": {},
     "output_type": "execute_result"
    }
   ],
   "source": [
    "initialize_joint(bus,2, nr_id)"
   ]
  },
  {
   "cell_type": "markdown",
   "id": "298a0571-333a-411e-9af4-e7a63734ec4a",
   "metadata": {
    "tags": []
   },
   "source": [
    "# Kalibracja enkodera absolutnego"
   ]
  },
  {
   "cell_type": "code",
   "execution_count": 10,
   "id": "afabb2c0-3b1c-4211-b92e-a4982cc0fbcb",
   "metadata": {
    "tags": []
   },
   "outputs": [],
   "source": [
    "# while not calibrate_joint(131,bus,nr_id): # 131 uruchomienie kalibracji enk absolutnego\n",
    "#     time.sleep(1)\n",
    "    \n",
    "# while(get_data_t(send_msg(0x180 + nr_id,None,bus)).FSM != 1):\n",
    "\n",
    "\n",
    "#     print(f'Calibration in progress\\r', end='')\n",
    "#     time.sleep(1)\n",
    "# print('                              \\r',end='')\n",
    "\n",
    "# send_msg(0x110 + nr_id, [2], bus)\n",
    "# time.sleep(0.1)\n",
    "# send_msg(0x110 + nr_id, [1], bus)\n",
    "# time.sleep(0.1)\n",
    "# send_msg(0x140 + nr_id, None, bus)\n",
    "# time.sleep(1)\n",
    "\n",
    "# print(f'1/2 Calibration done', end='')"
   ]
  },
  {
   "cell_type": "markdown",
   "id": "bafc02c3-91df-443b-8078-c90e83698ea9",
   "metadata": {},
   "source": [
    "# Kalibracja miejsca zerowego"
   ]
  },
  {
   "cell_type": "code",
   "execution_count": 11,
   "id": "81d3bdff-d4b7-4028-b69d-33faa89945ed",
   "metadata": {},
   "outputs": [
    {
     "name": "stdout",
     "output_type": "stream",
     "text": [
      "2/2 Calibration done          "
     ]
    }
   ],
   "source": [
    "while not calibrate_joint(161,bus,nr_id): # 161 uruchomienie kalibracji zera\n",
    "    time.sleep(0.5)\n",
    "    \n",
    "while(get_data_t(send_msg(0x180 + nr_id,None,bus)).FSM != 1):\n",
    "\n",
    "\n",
    "    print(f'Calibration in progress\\r', end='')\n",
    "    time.sleep(1)\n",
    "print('                              \\r',end='')\n",
    "\n",
    "send_msg(0x110 + nr_id, [2], bus)\n",
    "time.sleep(0.1)\n",
    "send_msg(0x110 + nr_id, [1], bus)\n",
    "time.sleep(0.1)\n",
    "send_msg(0x140 + nr_id, None, bus)\n",
    "time.sleep(1)\n",
    "\n",
    "print(f'2/2 Calibration done', end='')"
   ]
  },
  {
   "cell_type": "markdown",
   "id": "165258fb-9b13-4d54-ac3a-61a27b2b4993",
   "metadata": {},
   "source": [
    "# Ustawienie zera ręcznie"
   ]
  },
  {
   "cell_type": "code",
   "execution_count": 8,
   "id": "33b2d39b-0095-4a49-97eb-8f449738e913",
   "metadata": {},
   "outputs": [
    {
     "name": "stdout",
     "output_type": "stream",
     "text": [
      "zapisana pozycja zerowa: 0x58 = 108, 63\n",
      "aktualna pozycja jointa: 0xC1 = 108, 63\n"
     ]
    }
   ],
   "source": [
    "send_msg(0x1A0 + nr_id, None, bus)\n",
    "## pozycja zpisana w rejestrze 58(zapisana pozycja zerowa jointa)\n",
    "msg = send_msg(0x120 + nr_id, [0x58, 1], bus)\n",
    "data = msg.data\n",
    "print(f\"zapisana pozycja zerowa: 0x58 = {data[1]}, {data[2]}\")\n",
    "\n",
    "act_pos = send_msg(0x120 + nr_id, [0xC1, 1], bus)\n",
    "data_pos = act_pos.data\n",
    "print(f'aktualna pozycja jointa: 0xC1 = {data_pos[1]}, {data_pos[2]}')\n",
    "\n",
    "# # 2) zapisanie odczytanej wartości do rejestru 0x58\n",
    "# print('zapis do 0x58')\n",
    "# send_msg(0x130 + nr_id, [0x58, 0x01, data_pos[1], data_pos[2]], bus)\n",
    "# time.sleep(2)\n",
    "# # 3) zapis fo flasha\n",
    "# print('Save to flash')\n",
    "# send_msg(0x140 + nr_id, [], bus)\n",
    "# time.sleep(2)"
   ]
  },
  {
   "cell_type": "markdown",
   "id": "e0cc2f43-a22d-49f2-8dd5-1d7b985900fc",
   "metadata": {},
   "source": [
    "# Test enkoderów"
   ]
  },
  {
   "cell_type": "code",
   "execution_count": 13,
   "id": "94cd5a8e-a7db-4d7e-8912-9212b09b22c4",
   "metadata": {},
   "outputs": [],
   "source": [
    "# do sprawdzenia enkodera nie uruchamiać bloków sekcji 1\n",
    "send_msg(0x1A0 + nr_id, None, bus)\n",
    "time.sleep(1)\n",
    "send_msg(0x1F0 + nr_id, [2,2], bus)\n",
    "send_msg(0x110 + nr_id, [2], bus)\n",
    "time.sleep(0.1)\n",
    "send_msg(0x110 + nr_id, [3], bus)\n",
    "time.sleep(6)"
   ]
  },
  {
   "cell_type": "code",
   "execution_count": 16,
   "id": "bdb37ed8-5cb8-4b1e-8d4f-90c03718d233",
   "metadata": {},
   "outputs": [
    {
     "data": {
      "text/plain": [
       "<joint_can.JointData at 0xac691a60>"
      ]
     },
     "execution_count": 16,
     "metadata": {},
     "output_type": "execute_result"
    }
   ],
   "source": [
    "position_data=[]\n",
    "speed_data=[]\n",
    "\n",
    "set_speed(0.1,bus,nr_id)\n",
    "time.sleep(1)\n",
    "\n",
    "run_time=20\n",
    "start_time=time.time()\n",
    "\n",
    "while((time.time()-start_time)<(run_time)):\n",
    "    data=set_speed(1,bus,nr_id)\n",
    "    position_data.append(data.position)\n",
    "    speed_data.append(data.speed)\n",
    "set_speed(0,bus, nr_id)"
   ]
  },
  {
   "cell_type": "code",
   "execution_count": 18,
   "id": "54901fa0-6fdf-44df-a970-1faf34e2dc2a",
   "metadata": {
    "tags": []
   },
   "outputs": [
    {
     "data": {
      "application/vnd.jupyter.widget-view+json": {
       "model_id": "0759fb0928e94cd09dbddd93ff1bed5e",
       "version_major": 2,
       "version_minor": 0
      },
      "image/png": "[encoded data removed]",
      "text/html": [
       "\n",
       "            <div style=\"display: inline-block;\">\n",
       "                <div class=\"jupyter-widgets widget-label\" style=\"text-align: center;\">\n",
       "                    Figure 1\n",
       "                </div>\n",
       "                <img src='data:image/png;base64,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' width=640.0/>\n",
       "            </div>\n",
       "        "
      ],
      "text/plain": [
       "Canvas(toolbar=Toolbar(toolitems=[('Home', 'Reset original view', 'home', 'home'), ('Back', 'Back to previous …"
      ]
     },
     "metadata": {},
     "output_type": "display_data"
    }
   ],
   "source": [
    "plt.plot(position_data)\n",
    "# plt.plot(speed_data)\n",
    "plt.suptitle(serial+ '\\n' +note)\n",
    "plt.xlabel('Ilość próbek przez {} sekund'.format(run_time))\n",
    "plt.ylabel('Pozycja jointa od -3,14 do +3,14')\n",
    "plt.show()\n",
    "plt.savefig(path+'/'+serial+'/enkoder_'+serial+'_'+time.strftime('%y_%m_%d_%H_%M')+'.png', dpi=1200)"
   ]
  },
  {
   "cell_type": "markdown",
   "id": "1320d5f2-52a6-4022-8ab9-fbbcf66bf506",
   "metadata": {},
   "source": [
    "# ustawienie na zerze [uruchomić komórki 1.1-1.5]"
   ]
  },
  {
   "cell_type": "code",
   "execution_count": 19,
   "id": "93c9352c-6b90-49b3-9f72-e45171269ebd",
   "metadata": {},
   "outputs": [
    {
     "data": {
      "text/plain": [
       "True"
      ]
     },
     "execution_count": 19,
     "metadata": {},
     "output_type": "execute_result"
    }
   ],
   "source": [
    "initialize_joint(bus,2, nr_id)"
   ]
  },
  {
   "cell_type": "code",
   "execution_count": 17,
   "id": "8b59c4b8-6848-4a6f-b910-2fe166f6e0d9",
   "metadata": {
    "tags": []
   },
   "outputs": [
    {
     "name": "stdout",
     "output_type": "stream",
     "text": [
      "0.060402336827904024\n",
      "0.0065196173084086885\n"
     ]
    }
   ],
   "source": [
    "send_msg(0x1A0 + nr_id, None, bus)\n",
    "time.sleep(1)\n",
    "send_msg(0x1F0 + nr_id, [2,2], bus)\n",
    "send_msg(0x110 + nr_id, [2], bus)\n",
    "time.sleep(1)\n",
    "send_msg(0x110 + nr_id, [3], bus)\n",
    "time.sleep(2)\n",
    "\n",
    "\n",
    "data=set_speed(0,bus,nr_id)\n",
    "sgn=(int(data.position>0) - int(data.position<0))\n",
    "\n",
    "data=set_speed(sgn*0.1,bus,nr_id)\n",
    "print(data.position)\n",
    "while(abs(data.position)>0.01):\n",
    "    if (abs(data.position)>0.2):\n",
    "        data=set_speed(sgn*-0.4,bus,nr_id)\n",
    "    else:\n",
    "        data=set_speed(sgn*-0.05,bus,nr_id)\n",
    "    time.sleep(0.1)\n",
    "\n",
    "send_msg(0x110 + nr_id, [2], bus)\n",
    "print(data.position)"
   ]
  },
  {
   "cell_type": "code",
   "execution_count": null,
   "id": "33d3c914-edf9-428e-9a9a-9fa8d3b21055",
   "metadata": {},
   "outputs": [],
   "source": [
    "while True:\n",
    "    send_msg(0x180 + nr_id, None, bus)\n",
    "    time.sleep(0.5)\n",
    "# initialize_joint(bus,2, nr_id)"
   ]
  },
  {
   "cell_type": "markdown",
   "id": "0be9ce07-624b-4889-aafd-d8def179a522",
   "metadata": {},
   "source": [
    "# Odczytywanie w pętli bierzącej pozycji"
   ]
  },
  {
   "cell_type": "code",
   "execution_count": 18,
   "id": "bc81716f-d043-4d23-bca0-22a7f43529c0",
   "metadata": {},
   "outputs": [],
   "source": [
    "# spin = 1\n",
    "# while (spin < 50):\n",
    "#     data=set_torque(0,bus,nr_id)\n",
    "#     # print(f'\\r {abs(data.position)}' , end='')\n",
    "#     print(f'{abs(data.position)}\\n' , end='')\n",
    "#     spin += 1"
   ]
  },
  {
   "cell_type": "code",
   "execution_count": null,
   "id": "352d7b31-2654-4316-932e-4aa3fe57ce44",
   "metadata": {},
   "outputs": [],
   "source": []
  }
 ],
 "metadata": {
  "kernelspec": {
   "display_name": "Python 3 (ipykernel)",
   "language": "python",
   "name": "python3"
  },
  "language_info": {
   "codemirror_mode": {
    "name": "ipython",
    "version": 3
   },
   "file_extension": ".py",
   "mimetype": "text/x-python",
   "name": "python",
   "nbconvert_exporter": "python",
   "pygments_lexer": "ipython3",
   "version": "3.9.2"
  }
 },
 "nbformat": 4,
 "nbformat_minor": 5
}
