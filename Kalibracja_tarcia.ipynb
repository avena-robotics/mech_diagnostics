{
 "cells": [
  {
   "cell_type": "code",
   "execution_count": 1,
   "id": "94348343-ad08-4eaf-956b-60c76a4066b9",
   "metadata": {},
   "outputs": [],
   "source": [
    "import numpy as np\n",
    "import os, subprocess\n",
    "from matplotlib import pyplot as plt\n",
    "from scipy.optimize import least_squares\n",
    "from struct import *\n",
    "\n",
    "import can\n",
    "import time\n",
    "import math\n",
    "from IPython.display import display, clear_output\n",
    "from joint_can import *\n",
    "%matplotlib inline\n"
   ]
  },
  {
   "cell_type": "markdown",
   "id": "9f6ee026-6d72-4a2b-a5bc-4d02654c61e8",
   "metadata": {},
   "source": [
    "# Ustawienie temperatury"
   ]
  },
  {
   "cell_type": "code",
   "execution_count": 2,
   "id": "38d98223-8228-4b57-8bae-df28475eeff1",
   "metadata": {},
   "outputs": [],
   "source": [
    "def initialize_joint(bus):\n",
    "    send_msg(0x0A0, None, bus)\n",
    "    time.sleep(1)\n",
    "    \n",
    "    send_msg(0x0b0, [0,0,0,0,0,0], bus)\n",
    "    time.sleep(0.1)\n",
    "    send_msg(0x040, None, bus)\n",
    "    time.sleep(0.1)\n",
    "    send_msg(0x0a0, None, bus)\n",
    "    time.sleep(1)\n",
    "    \n",
    "    if (send_msg(0x0F0, [2, 2], bus).data[0] == 1):\n",
    "        send_msg(0x010, [2], bus)\n",
    "        time.sleep(1)\n",
    "        print(send_msg(0x010, [3], bus).data[0])\n",
    "        time.sleep(5)\n",
    "        return True\n",
    "    else:\n",
    "        return False\n",
    "     "
   ]
  },
  {
   "cell_type": "code",
   "execution_count": 3,
   "id": "d1395534-e029-4784-ab4a-b53331d0c803",
   "metadata": {},
   "outputs": [
    {
     "name": "stdout",
     "output_type": "stream",
     "text": [
      "2\n"
     ]
    },
    {
     "data": {
      "text/plain": [
       "True"
      ]
     },
     "execution_count": 3,
     "metadata": {},
     "output_type": "execute_result"
    }
   ],
   "source": [
    "bus = can.interface.Bus(bustype='socketcan', channel='can0', bitrate=1000000, data_bitrate=5000000, fd=True)\n",
    "initialize_joint(bus)"
   ]
  },
  {
   "cell_type": "markdown",
   "id": "5b237c93-5f83-489f-bf58-42b45dddce7b",
   "metadata": {},
   "source": [
    "parametry temperatury"
   ]
  },
  {
   "cell_type": "code",
   "execution_count": 4,
   "id": "01c601c7-c9da-4c73-bb23-94341ecc81db",
   "metadata": {},
   "outputs": [],
   "source": [
    "min_temp = 30\n",
    "max_temp = 31\n",
    "speed = 1. #predkosc na ktorej joint jest rozgrzewany"
   ]
  },
  {
   "cell_type": "code",
   "execution_count": 5,
   "id": "49c89938-ed67-41aa-8a34-d94f36839b26",
   "metadata": {},
   "outputs": [
    {
     "name": "stdout",
     "output_type": "stream",
     "text": [
      " tq: 11.657\tm_temp: 31.000\tb_temp: 30.000"
     ]
    }
   ],
   "source": [
    "c_speed=0.\n",
    "j_data=set_speed(c_speed,bus)\n",
    "\n",
    "while(j_data.bearing_temp<min_temp or j_data.bearing_temp>max_temp):\n",
    "    if j_data.bearing_temp<min_temp:\n",
    "        c_speed=speed\n",
    "    else:\n",
    "        c_speed=0.\n",
    "    j_data=set_speed(c_speed,bus)\n",
    "    print(f'\\r tq: {j_data.torque:.3f}\\tm_temp: {j_data.motor_temp:.3f}\\tb_temp: {j_data.bearing_temp:.3f}', end='')\n",
    "    time.sleep(1)\n",
    "send_msg(0x0A0, None, bus)"
   ]
  },
  {
   "cell_type": "markdown",
   "id": "51971998-cbe3-483e-bb00-996b9cc2bb6a",
   "metadata": {},
   "source": [
    "# Kalibracja tarcia"
   ]
  },
  {
   "cell_type": "code",
   "execution_count": 6,
   "id": "7d0c3336-d918-4bfd-bf9f-e858fdd8dd57",
   "metadata": {
    "tags": []
   },
   "outputs": [],
   "source": [
    "serial=\"JANUSZ_3_RI70_21414871\" #musi byc min jedna litera w numerze"
   ]
  },
  {
   "cell_type": "code",
   "execution_count": 7,
   "id": "c0532e7b-fed4-4c4b-90a5-6e04e6268dd7",
   "metadata": {
    "tags": []
   },
   "outputs": [],
   "source": [
    "path = \"/home/ubuntu/joint_diagnostic/friction_data\""
   ]
  },
  {
   "cell_type": "code",
   "execution_count": 8,
   "id": "540ce920-661f-4271-a6d1-cf5308a047e1",
   "metadata": {},
   "outputs": [],
   "source": [
    "try: \n",
    "    os.mkdir(path+'/'+serial) \n",
    "except OSError as error: \n",
    "    pass"
   ]
  },
  {
   "cell_type": "code",
   "execution_count": 9,
   "id": "3c99bc42-6689-4c8c-965d-15060e27a54a",
   "metadata": {
    "tags": []
   },
   "outputs": [
    {
     "name": "stdout",
     "output_type": "stream",
     "text": [
      "launching friction calibration\n",
      "[INFO] [launch]: All log files can be found below /home/ubuntu/.ros/log/2022-07-20-12-59-51-882439-ubuntu-9763\n",
      "[INFO] [launch]: Default logging verbosity is set to INFO\n",
      "[INFO] [hw_interface-1]: process started with pid [9765]\n",
      "[INFO] [friction_calibration-2]: process started with pid [9767]\n",
      "[hw_interface-1] Opening CAN socket...\n",
      "[hw_interface-1] Configuring IO...\n",
      "[hw_interface-1] Successfully configured IO.\n",
      "[hw_interface-1] Clear shared memory location\n",
      "[hw_interface-1] Allocating 880 bytes\n",
      "[hw_interface-1] Create shared memory location\n",
      "[hw_interface-1] Create shared memory variables\n",
      "[friction_calibration-2] [INFO] [1658321992.303027671] [base_controller]: Initialization watchdog for module \"base_controller\"\n",
      "[hw_interface-1] Done initializing shared memory\n",
      "[hw_interface-1] 17333\n",
      "[hw_interface-1] Initializing connection with CAN.\n",
      "[hw_interface-1] Established connection with CAN\n",
      "[hw_interface-1] Arm connection initialization successfull.\n",
      "[hw_interface-1] Starting communication loop.\n",
      "[friction_calibration-2] [INFO] [1658322000.321923404] [base_controller]: Starting executor\n",
      "[friction_calibration-2] [INFO] [1658322000.322145884] [base_controller]: Getting arm state from CANDRIVER...\n",
      "[friction_calibration-2] [INFO] [1658322000.322212735] [base_controller]: Got arm state from CANDRIVER\n",
      "[friction_calibration-2] [INFO] [1658322002.322396621] [base_controller]: Joints number: 1\n",
      "[friction_calibration-2] [INFO] [1658322002.322507824] [base_controller]: Done initializing joints.\n",
      "[friction_calibration-2] [INFO] [1658322002.322547138] [base_controller]: Initializing controller variables.\n",
      "[friction_calibration-2] [INFO] [1658322002.322595619] [base_controller]: Done initializing variables.\n",
      "[friction_calibration-2] [INFO] [1658322002.322627508] [base_controller]: Initializing controller parameters.\n",
      "[friction_calibration-2] avg_samples: 25\n",
      "[friction_calibration-2] PID 0\n",
      "[friction_calibration-2] Kp: 10\n",
      "[friction_calibration-2] Ki: 5\n",
      "[friction_calibration-2] Kd: 0.1\n",
      "[friction_calibration-2] tr: 0.002\n",
      "[friction_calibration-2] smpl: 25\n",
      "[friction_calibration-2] [INFO] [1658322002.323727814] [base_controller]: Done setting PIDs\n",
      "[friction_calibration-2] [INFO] [1658322002.323855016] [base_controller]: Loading friction coeffs: /home/ubuntu/avena_ws/install/arm_controller/share/arm_controller/config/friction_coeffs_0.txt\n",
      "[friction_calibration-2] [INFO] [1658322002.323990367] [base_controller]: Could not find friction coefficients for joint number 0\n",
      "[friction_calibration-2] [INFO] [1658322002.324053718] [base_controller]: Loaded friction chart\n",
      "[friction_calibration-2] [INFO] [1658322002.324092440] [base_controller]: Initializing joint position.\n",
      "[friction_calibration-2] [INFO] [1658322002.324126236] [base_controller]: joint 0 state: 1\n",
      "[friction_calibration-2] [INFO] [1658322002.324161903] [base_controller]: Initializing joint: 0\n",
      "[friction_calibration-2] [INFO] [1658322008.324428029] [base_controller]: Done initializing robot position.\n",
      "[friction_calibration-2] [WARN] [1658322165.300067156] [base_controller]: Arm state is 5186 us old.\n",
      "[friction_calibration-2] [WARN] [1658322165.302534654] [base_controller]: Arm state is 7618 us old.\n",
      "[friction_calibration-2] [WARN] [1658322165.338761134] [base_controller]: Arm state is 4550 us old.\n",
      "[friction_calibration-2] [ERROR] [1658322165.479286628] [base_controller]: loop taking too long to execute\n",
      "[friction_calibration-2] [ERROR] [1658322165.487333451] [base_controller]: loop taking too long to execute\n",
      "[friction_calibration-2] [WARN] [1658322166.341241290] [base_controller]: Arm state is 4087 us old.\n",
      "[friction_calibration-2] [ERROR] [1658322167.688386817] [base_controller]: loop taking too long to execute\n",
      "[friction_calibration-2] [ERROR] [1658322167.696696045] [base_controller]: loop taking too long to execute\n",
      "[friction_calibration-2] [WARN] [1658322169.344222456] [base_controller]: Arm state is 5914 us old.\n",
      "[friction_calibration-2] [WARN] [1658322169.873377128] [base_controller]: Arm state is 4521 us old.\n",
      "[friction_calibration-2] [WARN] [1658322169.902637851] [base_controller]: Arm state is 4384 us old.\n",
      "[friction_calibration-2] [WARN] [1658322169.906179007] [base_controller]: Arm state is 7924 us old.\n",
      "[friction_calibration-2] [WARN] [1658322170.358391144] [base_controller]: Arm state is 4973 us old.\n",
      "[friction_calibration-2] [WARN] [1658322170.364681518] [base_controller]: Arm state is 11264 us old.\n",
      "[friction_calibration-2] [WARN] [1658322170.532206494] [base_controller]: Arm state is 4906 us old.\n",
      "[friction_calibration-2] [WARN] [1658322170.536514884] [base_controller]: Arm state is 9212 us old.\n",
      "[friction_calibration-2] [WARN] [1658322170.554230609] [base_controller]: Arm state is 4018 us old.\n",
      "[friction_calibration-2] [WARN] [1658322172.617258253] [base_controller]: Arm state is 4094 us old.\n",
      "[friction_calibration-2] [WARN] [1658322172.620504319] [base_controller]: Arm state is 7341 us old.\n",
      "[friction_calibration-2] [WARN] [1658322172.622736097] [base_controller]: Arm state is 9573 us old.\n",
      "[friction_calibration-2] [WARN] [1658322173.881176516] [base_controller]: Arm state is 4065 us old.\n",
      "[friction_calibration-2] [WARN] [1658322173.883463942] [base_controller]: Arm state is 6349 us old.\n",
      "[friction_calibration-2] [WARN] [1658322173.887371502] [base_controller]: Arm state is 10257 us old.\n",
      "[friction_calibration-2] [WARN] [1658322173.890691938] [base_controller]: Arm state is 13578 us old.\n",
      "[friction_calibration-2] [WARN] [1658322173.897243551] [base_controller]: Arm state is 6048 us old.\n",
      "[friction_calibration-2] [ERROR] [1658322174.953943239] [base_controller]: loop taking too long to execute\n",
      "[friction_calibration-2] [ERROR] [1658322176.510137414] [base_controller]: loop taking too long to execute\n",
      "[friction_calibration-2] [WARN] [1658322181.371179629] [base_controller]: Arm state is 5066 us old.\n",
      "[friction_calibration-2] [WARN] [1658322181.377149543] [base_controller]: Arm state is 5292 us old.\n",
      "[friction_calibration-2] [WARN] [1658322181.384743277] [base_controller]: Arm state is 6460 us old.\n",
      "[friction_calibration-2] [WARN] [1658322181.937653992] [base_controller]: Arm state is 4178 us old.\n",
      "[friction_calibration-2] [WARN] [1658322183.613533845] [base_controller]: Arm state is 4332 us old.\n",
      "[friction_calibration-2] [WARN] [1658322186.232258687] [base_controller]: Arm state is 5085 us old.\n",
      "[friction_calibration-2] [WARN] [1658322187.832266939] [base_controller]: Arm state is 4538 us old.\n",
      "[friction_calibration-2] [WARN] [1658322187.972096548] [base_controller]: Arm state is 6045 us old.\n",
      "[friction_calibration-2] [WARN] [1658322187.974506325] [base_controller]: Arm state is 8451 us old.\n",
      "[friction_calibration-2] [WARN] [1658322187.976797769] [base_controller]: Arm state is 10747 us old.\n",
      "[friction_calibration-2] [ERROR] [1658322192.878006113] [base_controller]: loop taking too long to execute\n",
      "[friction_calibration-2] [INFO] [1658322215.925520123] [base_controller]: Joint 0 done.\n",
      "[friction_calibration-2] /home/ubuntu/joint_diagnostic/friction_data/JANUSZ_3_RI70_21414871/6.txt\n",
      "[friction_calibration-2] writing 41 out of 22 measurements\n",
      "[friction_calibration-2] 1 out of 12 cycles done\n",
      "[friction_calibration-2] [ERROR] [1658322333.203617353] [base_controller]: loop taking too long to execute\n",
      "[friction_calibration-2] [INFO] [1658322422.760094745] [base_controller]: Joint 0 done.\n",
      "[friction_calibration-2] /home/ubuntu/joint_diagnostic/friction_data/JANUSZ_3_RI70_21414871/7.txt\n",
      "[friction_calibration-2] writing 41 out of 22 measurements\n",
      "[friction_calibration-2] 2 out of 12 cycles done\n",
      "[friction_calibration-2] [INFO] [1658322629.470506577] [base_controller]: Joint 0 done.\n",
      "[friction_calibration-2] /home/ubuntu/joint_diagnostic/friction_data/JANUSZ_3_RI70_21414871/8.txt\n",
      "[friction_calibration-2] writing 41 out of 22 measurements\n",
      "[friction_calibration-2] 3 out of 12 cycles done\n",
      "[friction_calibration-2] [WARN] [1658322670.153387426] [base_controller]: Arm state is 4357 us old.\n",
      "[friction_calibration-2] [WARN] [1658322685.403781222] [base_controller]: Arm state is 4486 us old.\n",
      "[friction_calibration-2] [WARN] [1658322685.406137710] [base_controller]: Arm state is 6841 us old.\n",
      "[friction_calibration-2] [INFO] [1658322836.233115816] [base_controller]: Joint 0 done.\n",
      "[friction_calibration-2] /home/ubuntu/joint_diagnostic/friction_data/JANUSZ_3_RI70_21414871/9.txt\n",
      "[friction_calibration-2] writing 41 out of 22 measurements\n",
      "[friction_calibration-2] 4 out of 12 cycles done\n",
      "[friction_calibration-2] [ERROR] [1658322936.504185944] [base_controller]: loop taking too long to execute\n",
      "[friction_calibration-2] [INFO] [1658323042.924187731] [base_controller]: Joint 0 done.\n",
      "[friction_calibration-2] /home/ubuntu/joint_diagnostic/friction_data/JANUSZ_3_RI70_21414871/10.txt\n",
      "[friction_calibration-2] writing 41 out of 22 measurements\n",
      "[friction_calibration-2] 5 out of 12 cycles done\n",
      "[friction_calibration-2] [ERROR] [1658323237.144418804] [base_controller]: loop taking too long to execute\n",
      "[friction_calibration-2] [INFO] [1658323249.665312534] [base_controller]: Joint 0 done.\n",
      "[friction_calibration-2] /home/ubuntu/joint_diagnostic/friction_data/JANUSZ_3_RI70_21414871/11.txt\n",
      "[friction_calibration-2] writing 41 out of 22 measurements\n",
      "[friction_calibration-2] 6 out of 12 cycles done\n",
      "[friction_calibration-2] Calibration took: 20 minutes\n",
      "[friction_calibration-2] [INFO] [1658323249.668832775] [base_controller]: Done calibrating, shutting down\n",
      "[hw_interface-1] Hardware interface received termination signal, exitting \n",
      "[hw_interface-1] Shared memory cleared\n",
      "[INFO] [hw_interface-1]: process has finished cleanly [pid 9765]\n",
      "[friction_calibration-2] [INFO] [1658323249.719048652] [base_controller]: shutting down\n",
      "[INFO] [friction_calibration-2]: process has finished cleanly [pid 9767]\n"
     ]
    }
   ],
   "source": [
    "if len(serial):\n",
    "    # stream = os.popen('/home/ubuntu/run_friction.sh '+str(serial))\n",
    "    subprocess.Popen(['/home/ubuntu/run_friction.sh',str(serial)]).communicate()[0]\n",
    "    \n",
    "    # output = stream.read()\n",
    "    # print(output)"
   ]
  },
  {
   "cell_type": "code",
   "execution_count": 10,
   "id": "12eacd1e-1954-42c3-a6ec-9ef5b3f6d796",
   "metadata": {},
   "outputs": [
    {
     "name": "stdout",
     "output_type": "stream",
     "text": [
      "2\n"
     ]
    }
   ],
   "source": [
    "if __name__ == \"__main__\":\n",
    "\n",
    "    bus = can.interface.Bus(bustype='socketcan', channel='can0', bitrate=1000000, data_bitrate=5000000, fd=True)\n",
    "    initialize_joint(bus)"
   ]
  },
  {
   "cell_type": "code",
   "execution_count": 5,
   "id": "4fac5f0a-4c12-4808-a218-a6393cfbde56",
   "metadata": {},
   "outputs": [
    {
     "name": "stdout",
     "output_type": "stream",
     "text": [
      "0.0\n"
     ]
    }
   ],
   "source": [
    "send_msg(0x0A0, None, bus)\n",
    "time.sleep(1)\n",
    "send_msg(0x0F0, [2,2], bus)\n",
    "send_msg(0x010, [2], bus)\n",
    "time.sleep(0.1)\n",
    "send_msg(0x010, [3], bus)\n",
    "time.sleep(6)\n",
    "\n",
    "\n",
    "data=set_speed(0,bus)\n",
    "\n",
    "sgn=-(int(data.position>0) - int(data.position<0))\n",
    "\n",
    "data=set_speed(sgn*0.1,bus)\n",
    "\n",
    "while(abs(data.position)>0.01):\n",
    "    if (abs(data.position)>0.2):\n",
    "        data=set_speed(sgn*0.2,bus)\n",
    "    else:\n",
    "        data=set_speed(sgn*0.05,bus)\n",
    "    time.sleep(0.1)\n",
    "\n",
    "send_msg(0x010, [2], bus)\n",
    "print(data.position)"
   ]
  },
  {
   "cell_type": "code",
   "execution_count": 12,
   "id": "9711b4c1-4881-4e62-a536-2b46e82f2cee",
   "metadata": {},
   "outputs": [],
   "source": [
    "def model(k, v, t, tq):\n",
    "    return (1 + k[4]*(t - k[5])) * (k[0] * np.sign(v) + k[1] * v + k[2] * v ** 2 * np.sign(v) + k[3] * v ** 3) - tq\n",
    "\n",
    "\n",
    "def fun(k, v, t):\n",
    "    return (1 + k[4]*(t - k[5])) * (k[0] * np.sign(v) + k[1] * v + k[2] * v ** 2 * np.sign(v) + k[3] * v ** 3)"
   ]
  },
  {
   "cell_type": "code",
   "execution_count": 13,
   "id": "fb9ce053-b724-41fe-ab71-2da9436aff8e",
   "metadata": {},
   "outputs": [],
   "source": [
    "flist=os.listdir(path+'/'+ serial)\n",
    "for file in flist:\n",
    "    if file[0] == '.':\n",
    "        flist.remove(file)"
   ]
  },
  {
   "cell_type": "code",
   "execution_count": 14,
   "id": "b1e63db4-7343-48e5-a6fa-9be9a141599a",
   "metadata": {},
   "outputs": [
    {
     "data": {
      "image/png": "[encoded data removed]",
      "text/plain": [
       "<Figure size 432x288 with 1 Axes>"
      ]
     },
     "metadata": {
      "needs_background": "light"
     },
     "output_type": "display_data"
    },
    {
     "data": {
      "text/plain": [
       "can.Message(timestamp=1658323271.7402418, arbitration_id=0x240, is_extended_id=False, channel='can0', dlc=1, data=[0x1], is_fd=True, bitrate_switch=True, error_state_indicator=False)"
      ]
     },
     "execution_count": 14,
     "metadata": {},
     "output_type": "execute_result"
    }
   ],
   "source": [
    "# for dir in dlist:\n",
    "#     data_points = []\n",
    "#     files_processed = 0\n",
    "#     flist = os.listdir(path + '/' + dir)\n",
    "flist=os.listdir(path+'/'+ serial)\n",
    "data_points=[]\n",
    "files_processed = 0\n",
    "for fname in flist:\n",
    "    if '.txt' in fname and 'coeffs' not in fname:\n",
    "        with open(path + '/' + serial + '/' + fname) as file:\n",
    "            data_points += (list(file))\n",
    "            files_processed += 1\n",
    "data_points = [point.split() for point in data_points]\n",
    "data_points = np.array(data_points, dtype=float)\n",
    "\n",
    "tq_train = data_points[:, 1]\n",
    "v_train = data_points[:, 0]\n",
    "t_train = data_points[:, 2]\n",
    "k0 = [5., 15., 0., -5., -0.1, 20.]\n",
    "res_lsq = least_squares(model, k0, args=(v_train, t_train, tq_train), jac='3-point', loss='cauchy',\n",
    "                        max_nfev=10000000, gtol=1e-10, ftol=1e-12)\n",
    "\n",
    "plt.plot(v_train, tq_train, 'o')\n",
    "v_test = np.linspace(-1, 1, 1000)\n",
    "\n",
    "y_lsq = fun(res_lsq.x, v_test, 20)\n",
    "plt.plot(v_test, y_lsq)\n",
    "\n",
    "y_lsq = fun(res_lsq.x, v_test, 30)\n",
    "plt.plot(v_test, y_lsq)\n",
    "\n",
    "plt.show()\n",
    "\n",
    "friction_data=[96,12]\n",
    "\n",
    "with open(path + '/' + serial + '/' + 'friction_coeffs' + '.txt', 'w') as file:\n",
    "    for c in res_lsq.x:\n",
    "        friction_data.append(float(c))\n",
    "        file.write(str(c) + '\\n')\n",
    "friction_data_b=pack('>BBffffff',*friction_data)\n",
    "send_msg(0x030, friction_data_b, bus)\n",
    "send_msg(0x040, None, bus)\n"
   ]
  }
 ],
 "metadata": {
  "kernelspec": {
   "display_name": "Python 3 (ipykernel)",
   "language": "python",
   "name": "python3"
  },
  "language_info": {
   "codemirror_mode": {
    "name": "ipython",
    "version": 3
   },
   "file_extension": ".py",
   "mimetype": "text/x-python",
   "name": "python",
   "nbconvert_exporter": "python",
   "pygments_lexer": "ipython3",
   "version": "3.8.10"
  },
  "toc-autonumbering": true,
  "toc-showcode": true,
  "toc-showmarkdowntxt": true,
  "toc-showtags": true
 },
 "nbformat": 4,
 "nbformat_minor": 5
}
