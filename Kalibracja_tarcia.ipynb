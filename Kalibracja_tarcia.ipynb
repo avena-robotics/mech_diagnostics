{
 "cells": [
  {
   "cell_type": "markdown",
   "id": "8ba5a713-b29e-42a5-8d89-31846033336c",
   "metadata": {},
   "source": [
    "# 1. Inicjalizacja"
   ]
  },
  {
   "cell_type": "code",
   "execution_count": 1,
   "id": "94348343-ad08-4eaf-956b-60c76a4066b9",
   "metadata": {},
   "outputs": [],
   "source": [
    "import numpy as np\n",
    "import os, subprocess\n",
    "from matplotlib import pyplot as plt\n",
    "from scipy.optimize import least_squares\n",
    "from struct import *\n",
    "\n",
    "import can\n",
    "import time\n",
    "import math\n",
    "from IPython.display import display, clear_output\n",
    "from joint_can import *\n",
    "%matplotlib inline\n"
   ]
  },
  {
   "cell_type": "code",
   "execution_count": 2,
   "id": "38d98223-8228-4b57-8bae-df28475eeff1",
   "metadata": {},
   "outputs": [],
   "source": [
    "def initialize_joint(bus, mode: int, nr_id):\n",
    "    send_msg(0x1A0 + nr_id, None, bus)\n",
    "    time.sleep(1)\n",
    "    \n",
    "    send_msg(0x1b0 + nr_id, [0,0,0,0,0,0], bus)\n",
    "    time.sleep(0.1)\n",
    "    send_msg(0x140 + nr_id, None, bus)\n",
    "    time.sleep(0.1)\n",
    "    send_msg(0x1a0 + nr_id, None, bus)\n",
    "    time.sleep(1)\n",
    "    \n",
    "    if (send_msg(0x1F0 + nr_id, [mode, 2], bus).data[0] == 1):\n",
    "        send_msg(0x110 + nr_id, [2], bus)\n",
    "        time.sleep(1)\n",
    "        send_msg(0x110 + nr_id, [3], bus).data[0]\n",
    "        time.sleep(5)\n",
    "        return True\n",
    "    else:\n",
    "        return False\n",
    "     "
   ]
  },
  {
   "cell_type": "code",
   "execution_count": 3,
   "id": "d036df4b-8c7b-4110-b8c9-833694023246",
   "metadata": {},
   "outputs": [],
   "source": [
    "def save_data(data: np.array, file_path: str, serial_nr: str) -> None:\n",
    "    with open(file_path+'/'+serial_nr+'/'+serial_nr+time.strftime('_%y_%m_%d_%H_%M')+'.txt','w') as file:\n",
    "        file.write(\"serial number: \" + serial_nr+'\\n')\n",
    "        file.write(\"torque: \"+str(torque)+'\\n')\n",
    "        \n",
    "        file.write(\"start_temp: \"+str(temps[1][0]) +\" (\"+str(temps[0][0])+\")\\n\")\n",
    "        file.write(\"finish_temp: \"+str(temps[1][1]) +\" (\"+str(temps[0][1])+\")\\n\")\n",
    "        \n",
    "        file.write(\"note: \" + note+'\\n')\n",
    "        for line in data:\n",
    "            file.write(f'{line[0]:.6f} {line[1]:.6f}\\n')"
   ]
  },
  {
   "cell_type": "code",
   "execution_count": 4,
   "id": "d1395534-e029-4784-ab4a-b53331d0c803",
   "metadata": {},
   "outputs": [],
   "source": [
    "os.popen('/home/pi/mech_diagnostics/can_down.sh')\n",
    "time.sleep(1)\n",
    "os.popen('/home/pi/mech_diagnostics/can_up.sh')\n",
    "time.sleep(1)\n",
    "\n",
    "bus = can.interface.Bus(bustype='socketcan', channel='can0', bitrate=1000000, data_bitrate=5000000, fd=False)\n"
   ]
  },
  {
   "cell_type": "markdown",
   "id": "b688c6f6-063d-4941-a82d-0c7e1b47235e",
   "metadata": {},
   "source": [
    "# Parametry kalibracji"
   ]
  },
  {
   "cell_type": "code",
   "execution_count": 5,
   "id": "7d0c3336-d918-4bfd-bf9f-e858fdd8dd57",
   "metadata": {
    "tags": []
   },
   "outputs": [],
   "source": [
    "serial=\"JANUSZ_5_RI80_21414854\" #musi byc min jedna litera w numerze\n",
    "path = \"/home/pi/mech_diagnostics/friction_data\"\n",
    "nr_id = get_can_id(bus)\n",
    "\n",
    "#zakres temperatur\n",
    "min_temp = 30\n",
    "max_temp = 31\n",
    "speed = 1. #predkosc na ktorej joint jest rozgrzewany\n",
    "\n",
    "# parametry kalibracji\n",
    "max_speed = 1.   # maksymalna prędkość kalibracji\n",
    "speed_step = 0.05   # krok zmiany prędkości\n",
    "loop_num = 6  # ilość powtórzeń pętli kalibracji"
   ]
  },
  {
   "cell_type": "code",
   "execution_count": 6,
   "id": "300fd581-a2db-410d-b47d-95fa1dd5173c",
   "metadata": {},
   "outputs": [
    {
     "data": {
      "text/plain": [
       "True"
      ]
     },
     "execution_count": 6,
     "metadata": {},
     "output_type": "execute_result"
    }
   ],
   "source": [
    "initialize_joint(bus,2,nr_id)"
   ]
  },
  {
   "cell_type": "markdown",
   "id": "9f6ee026-6d72-4a2b-a5bc-4d02654c61e8",
   "metadata": {},
   "source": [
    "# Blok główny kalibracji"
   ]
  },
  {
   "cell_type": "code",
   "execution_count": 7,
   "id": "49c89938-ed67-41aa-8a34-d94f36839b26",
   "metadata": {},
   "outputs": [],
   "source": [
    "# ustalenie temperatury jointa (grzenie lubj schładzanie)\n",
    "c_speed=0.\n",
    "j_data=set_speed(c_speed,bus,nr_id)\n",
    "data_t=get_temp(bus, nr_id)\n",
    "\n",
    "while(data_t.bearing_temp<min_temp or data_t.bearing_temp>max_temp):\n",
    "    if data_t.bearing_temp<min_temp:\n",
    "        c_speed=speed\n",
    "    else:\n",
    "        c_speed=0.\n",
    "    j_data=set_speed(c_speed,bus, nr_id)\n",
    "    data_t=get_temp(bus, nr_id)\n",
    "    print(f'\\r tq: {j_data.torque:.3f}\\tm_temp: {data_t.motor_temp:.3f}\\tb_temp: {data_t.bearing_temp:.3f}', end='')\n",
    "    time.sleep(1)\n",
    "send_msg(0x1A0 + nr_id, None, bus)"
   ]
  },
  {
   "cell_type": "code",
   "execution_count": 8,
   "id": "540ce920-661f-4271-a6d1-cf5308a047e1",
   "metadata": {},
   "outputs": [],
   "source": [
    "# początek kalibracji\n",
    "try: \n",
    "    os.mkdir(path+'/'+serial) \n",
    "except OSError as error: \n",
    "    pass"
   ]
  },
  {
   "cell_type": "code",
   "execution_count": 9,
   "id": "64c36b36-ebad-45eb-b2e1-ef4740f7e601",
   "metadata": {
    "tags": []
   },
   "outputs": [],
   "source": [
    "while not initialize_joint(bus,2,nr_id):\n",
    "    print(\"Joint initialization in progress\")\n"
   ]
  },
  {
   "cell_type": "code",
   "execution_count": 10,
   "id": "454e7c23-6e1c-4e0f-abac-1d259c126063",
   "metadata": {},
   "outputs": [
    {
     "name": "stdout",
     "output_type": "stream",
     "text": [
      "Running friction calibration...\n",
      " Loops left: 6 / 6. Current speed: -0.000 (0.000).\t\t\t\t\t"
     ]
    }
   ],
   "source": [
    "print(\"Running friction calibration...\")\n",
    "data=[]\n",
    "current_speed = 0.  \n",
    "run_direction = 1\n",
    "loop_counter = 0\n",
    "current_reading = set_speed(current_speed,bus,nr_id)\n",
    "\n",
    "time.sleep(5)\n",
    "while(loop_counter<loop_num):\n",
    "    current_speed += speed_step*run_direction\n",
    "    \n",
    "    while(abs(current_speed) > speed_step/2 or run_direction == -1):\n",
    "        if current_speed > max_speed:\n",
    "            run_direction = -1\n",
    "        else:\n",
    "            if current_speed < -max_speed:\n",
    "                run_direction = 1\n",
    "                \n",
    "        current_speed += speed_step*run_direction\n",
    "        \n",
    "        start_time=time.time()\n",
    "        \n",
    "        while((cur_time:=time.time()-start_time)<5):\n",
    "            current_reading=set_speed(current_speed,bus,nr_id)\n",
    "            print(f'\\r Loops left: {loop_counter} / {loop_num}. Current speed: {current_speed:.3f} ({current_reading.speed:.3f}).\\t\\t\\t\\t', end='')\n",
    "            if(abs(current_reading.speed)>0.01):\n",
    "                data.append([current_reading.speed, current_reading.torque , current_reading.bearing_temp])\n",
    "                \n",
    "    loop_counter += 1\n",
    "    \n",
    "        \n",
    "set_speed(0.,bus,nr_id)\n",
    "print(f'\\r Loops left: {loop_counter} / {loop_num}. Current speed: {current_speed:.3f} ({current_reading.speed:.3f}).\\t\\t\\t\\t', end='')"
   ]
  },
  {
   "cell_type": "markdown",
   "id": "cf972ec3-e6b8-4d9b-8286-704ad61807fb",
   "metadata": {},
   "source": [
    "# Ruch do pozycji zerowej"
   ]
  },
  {
   "cell_type": "code",
   "execution_count": 11,
   "id": "4fac5f0a-4c12-4808-a218-a6393cfbde56",
   "metadata": {},
   "outputs": [
    {
     "name": "stdout",
     "output_type": "stream",
     "text": [
      "0.009779275282050798\n"
     ]
    }
   ],
   "source": [
    "# żeby wykonać ruch do pozycji zerowej uruchomić inicjalizcję (bloki 1.1 do 1.5\n",
    "\n",
    "send_msg(0x1A0 + nr_id, None, bus)\n",
    "time.sleep(1)\n",
    "send_msg(0x1F0 + nr_id, [2,2], bus)\n",
    "send_msg(0x110 + nr_id, [2], bus)\n",
    "time.sleep(0.1)\n",
    "send_msg(0x110 + nr_id, [3], bus)\n",
    "time.sleep(6)\n",
    "\n",
    "\n",
    "temp_data=set_speed(0,bus,nr_id)\n",
    "\n",
    "sgn=-(int(temp_data.position>0) - int(temp_data.position<0))\n",
    "\n",
    "temp_data=set_speed(sgn*0.1,bus,nr_id)\n",
    "\n",
    "while(abs(temp_data.position)>0.01):\n",
    "    if (abs(temp_data.position)>0.2):\n",
    "        temp_data=set_speed(sgn*0.2,bus,nr_id)\n",
    "    else:\n",
    "        temp_data=set_speed(sgn*0.05,bus,nr_id)\n",
    "    time.sleep(0.1)\n",
    "\n",
    "send_msg(0x010 + nr_id, [2], bus)\n",
    "print(temp_data.position)"
   ]
  },
  {
   "cell_type": "markdown",
   "id": "901d201c-7691-4049-8ac4-51cb8e2c7f04",
   "metadata": {},
   "source": [
    "# Obliczenie parametrów równania tarcia"
   ]
  },
  {
   "cell_type": "code",
   "execution_count": 12,
   "id": "9711b4c1-4881-4e62-a536-2b46e82f2cee",
   "metadata": {},
   "outputs": [],
   "source": [
    "def model(k, v, t, tq):\n",
    "    return (1 + k[4]*(t - k[5])) * (k[0] * np.sign(v) + k[1] * v + k[2] * v ** 2 * np.sign(v) + k[3] * v ** 3) - tq\n",
    "\n",
    "\n",
    "def fun(k, v, t):\n",
    "    return (1 + k[4]*(t - k[5])) * (k[0] * np.sign(v) + k[1] * v + k[2] * v ** 2 * np.sign(v) + k[3] * v ** 3)"
   ]
  },
  {
   "cell_type": "code",
   "execution_count": 13,
   "id": "fb9ce053-b724-41fe-ab71-2da9436aff8e",
   "metadata": {},
   "outputs": [],
   "source": [
    "flist=os.listdir(path+'/'+ serial)\n",
    "for file in flist:\n",
    "    if file[0] == '.':\n",
    "        flist.remove(file)"
   ]
  },
  {
   "cell_type": "code",
   "execution_count": null,
   "id": "b1e63db4-7343-48e5-a6fa-9be9a141599a",
   "metadata": {},
   "outputs": [],
   "source": [
    "# for dir in dlist:\n",
    "#     data_points = []\n",
    "#     files_processed = 0\n",
    "#     flist = os.listdir(path + '/' + dir)\n",
    "\n",
    "\n",
    "# flist=os.listdir(path+'/'+ serial)\n",
    "# data_points=[]\n",
    "# files_processed = 0\n",
    "# for fname in flist:\n",
    "#     if '.txt' in fname and 'coeffs' not in fname:\n",
    "#         with open(path + '/' + serial + '/' + fname) as file:\n",
    "#             data_points += (list(file))\n",
    "#             files_processed += 1\n",
    "# data_points = [point.split() for point in data_points]\n",
    "\n",
    "data_points = np.array(data, dtype=float)\n",
    "\n",
    "tq_train = data_points[:, 1]\n",
    "v_train = data_points[:, 0]\n",
    "t_train = data_points[:, 2]\n",
    "k0 = [5., 15., 0., -5., -0.1, 20.]\n",
    "res_lsq = least_squares(model, k0, args=(v_train, t_train, tq_train), jac='3-point', loss='cauchy',\n",
    "                        max_nfev=10000000, gtol=1e-10, ftol=1e-12)\n",
    "\n",
    "plt.plot(v_train, tq_train, 'o')\n",
    "v_test = np.linspace(-1, 1, 1000)\n",
    "\n",
    "y_lsq = fun(res_lsq.x, v_test, 20)\n",
    "plt.plot(v_test, y_lsq)\n",
    "\n",
    "y_lsq = fun(res_lsq.x, v_test, 30)\n",
    "plt.plot(v_test, y_lsq)\n",
    "\n",
    "plt.show()\n",
    "first_register = 96\n",
    "send_msg(0x1a0 + nr_id, None, bus)\n",
    "i = 0\n",
    "time.sleep(1)\n",
    "with open(path + '/' + serial + '/' + 'friction_coeffs' + '.txt', 'w') as file:\n",
    "    for c in res_lsq.x:\n",
    "        friction_data=[first_register + i,2]\n",
    "        i += 2\n",
    "        friction_data.append(float(c))\n",
    "        file.write(str(c) + '\\n')\n",
    "        friction_data_b=pack('>BBf',*friction_data)\n",
    "        send_msg(0x130 + nr_id, friction_data_b, bus)\n",
    "send_msg(0x140 + nr_id, None, bus)"
   ]
  },
  {
   "cell_type": "code",
   "execution_count": null,
   "id": "f1458721-a1ca-4787-926d-b6ebfa1b4da1",
   "metadata": {},
   "outputs": [],
   "source": [
    "#odczytywanie tarcia\n",
    "send_msg(0x1a0 + nr_id, None, bus)\n",
    "time.sleep(1)\n",
    "j = 0x60\n",
    "for c in range(0,6):\n",
    "    get_register_value_from_joint(bus,nr_id,j)\n",
    "    j+=2\n",
    "    "
   ]
  }
 ],
 "metadata": {
  "kernelspec": {
   "display_name": "Python 3 (ipykernel)",
   "language": "python",
   "name": "python3"
  },
  "language_info": {
   "codemirror_mode": {
    "name": "ipython",
    "version": 3
   },
   "file_extension": ".py",
   "mimetype": "text/x-python",
   "name": "python",
   "nbconvert_exporter": "python",
   "pygments_lexer": "ipython3",
   "version": "3.9.2"
  },
  "toc-autonumbering": true,
  "toc-showcode": true,
  "toc-showmarkdowntxt": true,
  "toc-showtags": true
 },
 "nbformat": 4,
 "nbformat_minor": 5
}
