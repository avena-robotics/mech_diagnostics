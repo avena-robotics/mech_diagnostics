{
 "cells": [
  {
   "cell_type": "markdown",
   "id": "8ba5a713-b29e-42a5-8d89-31846033336c",
   "metadata": {},
   "source": [
    "# 1. Inicjalizacja"
   ]
  },
  {
   "cell_type": "code",
   "execution_count": 5,
   "id": "94348343-ad08-4eaf-956b-60c76a4066b9",
   "metadata": {},
   "outputs": [],
   "source": [
    "import numpy as np\n",
    "import os, subprocess\n",
    "from matplotlib import pyplot as plt\n",
    "from scipy.optimize import least_squares\n",
    "from struct import *\n",
    "\n",
    "import can\n",
    "import time\n",
    "import math\n",
    "from IPython.display import display, clear_output\n",
    "from joint_can import *\n",
    "%matplotlib inline\n"
   ]
  },
  {
   "cell_type": "code",
   "execution_count": 6,
   "id": "d1395534-e029-4784-ab4a-b53331d0c803",
   "metadata": {},
   "outputs": [],
   "source": [
    "os.popen('/home/pi/mech_diagnostics/can_down.sh')\n",
    "time.sleep(1)\n",
    "os.popen('/home/pi/mech_diagnostics/can_up.sh')\n",
    "time.sleep(1)\n",
    "\n",
    "bus = can.interface.Bus(bustype='socketcan', channel='can0', bitrate=1000000, data_bitrate=5000000, fd=False)\n",
    "# initialize_joint(bus)"
   ]
  },
  {
   "cell_type": "markdown",
   "id": "b688c6f6-063d-4941-a82d-0c7e1b47235e",
   "metadata": {},
   "source": [
    "# Parametry kalibracji"
   ]
  },
  {
   "cell_type": "code",
   "execution_count": 7,
   "id": "7d0c3336-d918-4bfd-bf9f-e858fdd8dd57",
   "metadata": {
    "tags": []
   },
   "outputs": [],
   "source": [
    "serial=\"JANUSZ_4_RI70_21414869\" #musi byc min jedna litera w numerze\n",
    "path = \"/home/pi/mech_diagnostics/friction_data\"\n",
    "\n",
    "# #zakres temperatur\n",
    "# min_temp = 30\n",
    "# max_temp = 31\n",
    "# speed = 1. #predkosc na ktorej joint jest rozgrzewany\n",
    "\n",
    "# # parametry kalibracji\n",
    "# max_speed = 1.   # maksymalna prędkość kalibracji\n",
    "# speed_step = 0.05   # krok zmiany prędkości\n",
    "# loop_num = 6  # ilość powtórzeń pętli kalibracji"
   ]
  },
  {
   "cell_type": "code",
   "execution_count": 8,
   "id": "f1458721-a1ca-4787-926d-b6ebfa1b4da1",
   "metadata": {},
   "outputs": [
    {
     "data": {
      "text/plain": [
       "can.Message(timestamp=1666358541.8403347, arbitration_id=0x240, is_extended_id=False, channel='can0', dlc=1, data=[0x1])"
      ]
     },
     "execution_count": 8,
     "metadata": {},
     "output_type": "execute_result"
    }
   ],
   "source": [
    "\n",
    "send_msg(0x0a0, None, bus)\n",
    "time.sleep(1)\n",
    "first_register = 96\n",
    "i = 0\n",
    "with open(path + '/' + serial + '/' + 'friction_coeffs' + '.txt', 'r') as file:\n",
    "    for c in file:\n",
    "        friction_data=[first_register + i,2]\n",
    "        i += 2\n",
    "        friction_data.append(float(c))\n",
    "        friction_data_b=pack('>BBf',*friction_data)\n",
    "        send_msg(0x030, friction_data_b, bus)\n",
    "send_msg(0x040, None, bus)"
   ]
  },
  {
   "cell_type": "code",
   "execution_count": null,
   "id": "2a51b7a5-01eb-42e7-ad28-cd73d4f93dfb",
   "metadata": {},
   "outputs": [],
   "source": []
  }
 ],
 "metadata": {
  "kernelspec": {
   "display_name": "Python 3 (ipykernel)",
   "language": "python",
   "name": "python3"
  },
  "language_info": {
   "codemirror_mode": {
    "name": "ipython",
    "version": 3
   },
   "file_extension": ".py",
   "mimetype": "text/x-python",
   "name": "python",
   "nbconvert_exporter": "python",
   "pygments_lexer": "ipython3",
   "version": "3.9.2"
  },
  "toc-autonumbering": true,
  "toc-showcode": true,
  "toc-showmarkdowntxt": true,
  "toc-showtags": true
 },
 "nbformat": 4,
 "nbformat_minor": 5
}
