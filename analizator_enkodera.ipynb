{
 "cells": [
  {
   "cell_type": "markdown",
   "id": "e6b68597-9be7-48f8-8823-fa34f557c592",
   "metadata": {},
   "source": [
    "# Funkcje pomocnicze"
   ]
  },
  {
   "cell_type": "code",
   "execution_count": 1,
   "id": "a37c27a5-c3b4-4e6f-9c32-71f842b13fe0",
   "metadata": {},
   "outputs": [],
   "source": [
    "import can\n",
    "import matplotlib.pyplot as plt\n",
    "from matplotlib import interactive\n",
    "import numpy as np\n",
    "import os\n",
    "import time\n",
    "import math\n",
    "import datetime\n",
    "from IPython.display import display, clear_output\n",
    "from joint_can import *\n",
    "%matplotlib inline\n",
    "\n",
    "def send_msg_u(adr, data, bus, can_id = 0):\n",
    "    msg = can.Message(arbitration_id=0x100 + adr + can_id, data=data, is_fd=True, is_extended_id=False)\n",
    "    try:\n",
    "        bus.send(msg,1)\n",
    "        # print(f\"Message sent on {bus.channel_info}\")\n",
    "    except can.CanError:\n",
    "        print(\"Message NOT sent\")\n",
    "        \n",
    "    return bus.recv(1)\n",
    "\n",
    "def set_speed_u(speed, bus, can_id = 0):\n",
    "    speed_data=int((speed / (math.pi * 2.0)) * 32768)\n",
    "    speed_data=speed_data.to_bytes(2,'big', signed=True)\n",
    "    return send_msg_u(0x000, speed_data, bus, can_id)\n",
    "\n",
    "def get_status_u(speed, bus, can_id = 0):\n",
    "    return send_msg_u(0x080, [], bus, can_id)\n",
    "\n",
    "def extract_msg_0x01(msg):\n",
    "    msg_data = list(msg.data)\n",
    "    return msg_data[0]\n",
    "\n",
    "def extract_msg_0x08(msg):\n",
    "    msg_data = list(msg.data)\n",
    "    return [msg_data[0], msg_data[1], msg_data[2], msg_data[3] * 256 + msg_data[4], msg_data[5] * 256 + msg_data[6], msg_data[7]]\n",
    "\n",
    "def extract_msg_0x09(msg):\n",
    "    # print(msg)\n",
    "    if not (msg.arbitration_id & 0x90):\n",
    "        print(\"blad\")\n",
    "    msg_data = list(msg.data)\n",
    "    pz_readings = msg_data[1] * 256 + msg_data[0]\n",
    "    pz_readings_counter = msg_data[5] * 256 * 256 * 256 + msg_data[4] * 256 * 256 + msg_data[3] * 256 + msg_data[2]\n",
    "    pz_readings_error_counter = msg_data[9] * 256 * 256 * 256 + msg_data[8] * 256 * 256 + msg_data[7] * 256 + msg_data[6]\n",
    "    pz_readings_pz_error_counter = msg_data[13] * 256 * 256 * 256 + msg_data[12] * 256 * 256 + msg_data[11] * 256 + msg_data[10]\n",
    "    pz_readings_crc_error_counter = msg_data[17] * 256 * 256 * 256 + msg_data[16] * 256 * 256 + msg_data[15] * 256 + msg_data[14]\n",
    "    pz_readings_lc_error_counter = msg_data[21] * 256 * 256 * 256 + msg_data[20] * 256 * 256 + msg_data[19] * 256 + msg_data[18]\n",
    "    pz_readings_distance_error_counter = msg_data[25] * 256 * 256 * 256 + msg_data[24] * 256 * 256 + msg_data[23] * 256 + msg_data[22]\n",
    "    pz_max_error_sequence_counter = msg_data[29] * 256 * 256 * 256 + msg_data[28] * 256 * 256 + msg_data[27] * 256 + msg_data[26]\n",
    "    return [pz_readings, pz_readings_counter, pz_readings_error_counter, pz_readings_pz_error_counter, pz_readings_crc_error_counter, pz_readings_lc_error_counter, pz_readings_distance_error_counter, pz_max_error_sequence_counter]\n",
    "\n",
    "def find_can_id(bus):\n",
    "    # wyslanie ramki broadcastowej\n",
    "    msg1 = send_msg(0x10, [], bus)\n",
    "    # print(msg1)\n",
    "    if msg1 != None:\n",
    "        return msg1.arbitration_id & 0xF\n",
    "    \n",
    "    # wyslanie ramki unicastowej na 0x0E\n",
    "    msg2 = send_msg_u(0x10, [0], bus, 0x0E)\n",
    "    # print(msg2)\n",
    "    if msg2 != None:\n",
    "        return msg1.arbitration_id & 0xF\n",
    "    \n",
    "    return -1\n",
    "\n",
    "def flush_can_bus(bus):\n",
    "    for i in range(256):\n",
    "        msg = bus.recv(1)\n",
    "        if msg == None:\n",
    "            return True\n",
    "        print(f\"{i} {msg}\")  \n",
    "    return False\n",
    "\n",
    "def wait_until_init(bus, can_id):\n",
    "    while(True):\n",
    "        msg = send_msg_u(0x10, [], bus, can_id)\n",
    "        fsm = extract_msg_0x01(msg)\n",
    "        if fsm == 1:\n",
    "            return True\n",
    "        if fsm == 255:\n",
    "            return False\n",
    "        time.sleep(0.01)\n",
    "            \n",
    "def initialize_joint(bus, can_id):\n",
    "    ilosc_sprawdzen = 1000\n",
    "    send_msg(0x0A0, None, bus)\n",
    "    time.sleep(1)\n",
    "\n",
    "    msg = send_msg_u(0x0F0, [2, 0b11010010], bus, can_id)\n",
    "    time.sleep(0.1)\n",
    "\n",
    "    msg = send_msg_u(0x10, [1], bus, can_id)\n",
    "    time.sleep(0.1)\n",
    "\n",
    "    msg = send_msg_u(0x10, [2], bus, can_id)\n",
    "    time.sleep(0.1)\n",
    "\n",
    "    msg = send_msg_u(0x10, [3], bus, can_id)\n",
    "    time.sleep(0.1)\n",
    "    ilosc_krokow = 0\n",
    "    while(True):\n",
    "        msg = send_msg_u(0x10, [3], bus, can_id)\n",
    "        fsm = extract_msg_0x01(msg)\n",
    "        if fsm == 3:\n",
    "            return True\n",
    "        if fsm == 255:\n",
    "            return False\n",
    "        time.sleep(0.01)\n",
    "        ilosc_krokow += 1\n",
    "        if ilosc_krokow > ilosc_sprawdzen:\n",
    "             return False\n",
    "            \n",
    "def get_register_u(register, bus, can_id = 0):\n",
    "    msg = send_msg_u(0x020, [register, 1], bus, can_id)\n",
    "    # print(msg)\n",
    "    msg_data = list(msg.data)\n",
    "    # value = int.from_bytes(msg.data[1:], byteorder='big', signed=signed)\n",
    "    # print(value)\n",
    "    value = msg_data[1] * 256 + msg_data[2]\n",
    "    return value\n",
    "\n",
    "\n",
    "def to_twos_complement(value, bits):\n",
    "    if value < 0:\n",
    "        value = (1 << bits) + value\n",
    "    return value\n",
    "\n",
    "def from_twos_complement(value, bits):\n",
    "    if value & (1 << (bits - 1)):\n",
    "        value -= (1 << bits)\n",
    "    return value\n",
    "\n",
    "def convert_to_n_bits_signed(value, n_bits):\n",
    "    if value & (1 << (n_bits - 1)):\n",
    "        value -= (1 << n_bits)\n",
    "    return value\n",
    "\n",
    "def aligning_error(register, value):\n",
    "    error = 0xFFFF\n",
    "\n",
    "    if (register == 'SC_GAIN'):\n",
    "        error = (14.0 / 11.0) ** (value / 511)\n",
    "\n",
    "    if (register == 'SC_PHASE'):\n",
    "        error = (value / 511.0) * 11.4\n",
    "\n",
    "    if register == 'SIN_OFF' or register == 'COS_OFF':\n",
    "         error = float(value) * 0.235\n",
    "\n",
    "    if (register == 'AI_PHASE'):\n",
    "        error = value / 512.0 * 180\n",
    "\n",
    "    if (register == 'AI_SCALE'):\n",
    "        error = 1 + value / 1820.0\n",
    "            \n",
    "    return error\n"
   ]
  },
  {
   "cell_type": "markdown",
   "id": "d8ff8b9a-da6b-4015-a2db-9039d8c58eeb",
   "metadata": {
    "tags": []
   },
   "source": [
    "# Ustalenie CAN_ID"
   ]
  },
  {
   "cell_type": "code",
   "execution_count": 2,
   "id": "95ec913b-e423-4b0b-ae2e-f362651d9654",
   "metadata": {},
   "outputs": [
    {
     "name": "stdout",
     "output_type": "stream",
     "text": [
      "Znaleziono urzadzenie z adresem: 0x5\n"
     ]
    }
   ],
   "source": [
    "# os.popen('/home/pi/mech_diagnostics/can_down.sh')\n",
    "# time.sleep(1)\n",
    "# os.popen('/home/pi/mech_diagnostics/can_up.sh')\n",
    "# time.sleep(1)\n",
    "\n",
    "bus = can.interface.Bus(bustype='socketcan', channel='can0', bitrate=1000000, data_bitrate=5000000, fd=True)\n",
    "flush_can_bus(bus)\n",
    "\n",
    "can_id = -1\n",
    "speed=-0.05 #tutaj ustawiasz predkosc w rad/s\n",
    "ilosc_bledow_w_ciagu_zatrzymujaca_test=10000\n",
    "\n",
    "_can_id = find_can_id(bus)\n",
    "if _can_id >= 0:\n",
    "    print(f\"Znaleziono urzadzenie z adresem: {hex(_can_id)}\")\n",
    "    can_id = _can_id"
   ]
  },
  {
   "cell_type": "markdown",
   "id": "55721cf3-5743-457a-9b82-2ba63b108298",
   "metadata": {},
   "source": [
    "# Ustal aktualne dane jointa"
   ]
  },
  {
   "cell_type": "code",
   "execution_count": 3,
   "id": "4f5a72d4-34dd-4984-af1d-c93520d30b67",
   "metadata": {},
   "outputs": [
    {
     "name": "stdout",
     "output_type": "stream",
     "text": [
      "Zakonczono pomyslnie aligning\n"
     ]
    }
   ],
   "source": [
    "if can_id >= 0:\n",
    "    # # ramka statusowa\n",
    "    # msg = get_status_u(bus, can_id)\n",
    "    # # ramka diagnostyczna\n",
    "    # msg = send_msg_u(0x90, [], bus, can_id)\n",
    "    # _data = extract_msg_0x09(msg)\n",
    "\n",
    "    # restart\n",
    "    send_msg_u(0x0A0, [], bus, can_id)\n",
    "    time.sleep(0.1)\n",
    "\n",
    "    # kalibrowanie\n",
    "    send_msg_u(0x010, [131], bus, can_id)\n",
    "    time.sleep(0.01)\n",
    "    \n",
    "    ok = wait_until_init(bus, can_id)\n",
    "    if ok: \n",
    "        print(\"Zakonczono pomyslnie aligning\")\n",
    "        send_msg_u(0x040, [], bus, can_id) # Zapis w konfiguracji\n",
    "        time.sleep(0.5)\n",
    "        send_msg_u(0x0A0, [], bus, can_id) # restart\n",
    "    else:\n",
    "        print(\"Zakonczono aligning z bledem\")\n",
    "    time.sleep(0.01)\n",
    "else:\n",
    "    print(f\"Nie znaleziono urzadzenia\")"
   ]
  },
  {
   "cell_type": "markdown",
   "id": "1cb48636-7196-4900-b1bb-5960a97b2d07",
   "metadata": {},
   "source": [
    "# Odczyt danych aligningu"
   ]
  },
  {
   "cell_type": "code",
   "execution_count": 4,
   "id": "13feb8be-e45d-486c-bef2-bdacc800ff04",
   "metadata": {},
   "outputs": [
    {
     "name": "stdout",
     "output_type": "stream",
     "text": [
      "Dane kalibracyjne enkodera: COS_OFF=-48 SIN_OFF=38 SC_GAIN=5 SC_PHASE=-6 AI_PHASE=384 AI_SCALE=0\n",
      "COS_OFF  value=-48 best=0 range=[-512..511] [-11.280mV]\n",
      "SIN_OFF  value=38 best=0 range=[-512..511] [8.930mV]\n",
      "SC_GAIN  value=5 best=0 range=[-512..511] [1.002]\n",
      "SC_PHASE value=-6 best=0 range=[-512..511] [-0.134°e]\n",
      "AI_PHASE value=384 best=0 range=[-512..511] [135.000°e]\n",
      "AI_SCALE value=0 best=0 range=[-256..255] [1.000]\n"
     ]
    }
   ],
   "source": [
    "if can_id >= 0:\n",
    "    COS_OFF  = from_twos_complement(get_register_u(122, bus, can_id), 10)\n",
    "    SIN_OFF  = from_twos_complement(get_register_u(123, bus, can_id), 10)\n",
    "    SC_GAIN  = from_twos_complement(get_register_u(124, bus, can_id), 10)\n",
    "    SC_PHASE = from_twos_complement(get_register_u(125, bus, can_id), 10)\n",
    "    AI_PHASE = from_twos_complement(get_register_u(126, bus, can_id), 10)\n",
    "    AI_SCALE = from_twos_complement(get_register_u(127, bus, can_id), 9)\n",
    "\n",
    "    print(f\"Dane kalibracyjne enkodera: COS_OFF={COS_OFF} SIN_OFF={SIN_OFF} SC_GAIN={SC_GAIN} SC_PHASE={SC_PHASE} AI_PHASE={AI_PHASE} AI_SCALE={AI_SCALE}\")\n",
    "\n",
    "    print(f\"COS_OFF  value={COS_OFF} best=0 range=[{from_twos_complement( 0x200, 10)}..{from_twos_complement( 0x1FF, 10)}] [{aligning_error('COS_OFF',  COS_OFF):.3f}mV]\")\n",
    "    print(f\"SIN_OFF  value={SIN_OFF} best=0 range=[{from_twos_complement( 0x200, 10)}..{from_twos_complement( 0x1FF, 10)}] [{aligning_error('SIN_OFF',  SIN_OFF):.3f}mV]\")\n",
    "    print(f\"SC_GAIN  value={SC_GAIN} best=0 range=[{from_twos_complement( 0x200, 10)}..{from_twos_complement( 0x1FF, 10)}] [{aligning_error('SC_GAIN',  SC_GAIN):.3f}]\")\n",
    "    print(f\"SC_PHASE value={SC_PHASE} best=0 range=[{from_twos_complement( 0x200, 10)}..{from_twos_complement( 0x1FF, 10)}] [{aligning_error('SC_PHASE',  SC_PHASE):.3f}°e]\")\n",
    "\n",
    "    print(f\"AI_PHASE value={AI_PHASE} best=0 range=[{from_twos_complement( 0x200, 10)}..{from_twos_complement( 0x1FF, 10)}] [{aligning_error('AI_PHASE',  AI_PHASE):.3f}°e]\")\n",
    "    print(f\"AI_SCALE value={AI_SCALE} best=0 range=[{from_twos_complement( 0x100, 9)}..{from_twos_complement( 0x0FF, 9)}] [{aligning_error('AI_SCALE',  AI_SCALE):.3f}]\")\n",
    "else:\n",
    "    print(f\"Nie znaleziono urzadzenia\")"
   ]
  },
  {
   "cell_type": "markdown",
   "id": "67d116eb-79a7-447f-9aad-68382627b6b2",
   "metadata": {},
   "source": [
    "# Sprawdzenie jakości aligningiu"
   ]
  },
  {
   "cell_type": "code",
   "execution_count": 5,
   "id": "6f3c1308-3f38-4bfc-b3ea-5012e457a653",
   "metadata": {},
   "outputs": [
    {
     "name": "stdout",
     "output_type": "stream",
     "text": [
      "2023-10-19 12:29:21.235220 Start test\n",
      "2023-10-19 12:31:12.014686 Start recording, current position = 3\n",
      "2023-10-19 12:33:19.790687 Stop recording, current position = 2, data size=11644\n"
     ]
    }
   ],
   "source": [
    "if _can_id >= 0:\n",
    "    ok = initialize_joint(bus, can_id)\n",
    "\n",
    "    data = set_speed_u(speed, bus, can_id)\n",
    "    time.sleep(0.5) # czas na ustalenie stalej predkosci\n",
    "\n",
    "    start_recording_data = False\n",
    "    stop_recording_data = False\n",
    "\n",
    "    data = []\n",
    "    print(f\"{datetime.datetime.now()} Start test\")\n",
    "\n",
    "    while(True):\n",
    "        msg = send_msg_u(0x90, [], bus, can_id)\n",
    "        _data = extract_msg_0x09(msg)\n",
    "        pz_readings = _data[0]\n",
    "\n",
    "        if (pz_readings < 10 and not start_recording_data):\n",
    "            start_recording_data = True\n",
    "            print(f\"{datetime.datetime.now()} Start recording, current position = {pz_readings}\")\n",
    "\n",
    "\n",
    "        if pz_readings < 10 and start_recording_data and len(data) > 100:\n",
    "            print(f\"{datetime.datetime.now()} Stop recording, current position = {pz_readings}, data size={len(data)}\")\n",
    "            break\n",
    "\n",
    "        if (_data[7] > ilosc_bledow_w_ciagu_zatrzymujaca_test):\n",
    "            print(f\"{datetime.datetime.now()} Stop recording, ERROR, max errors threshold reached = {_data[7]}\")\n",
    "            break\n",
    "\n",
    "        if start_recording_data:\n",
    "            data.append(_data)\n",
    "\n",
    "        time.sleep(0.01)\n",
    "\n",
    "    stop = set_speed_u(0., bus, can_id)\n",
    "else:\n",
    "    print(f\"Nie wskazano urzadzenia\")"
   ]
  },
  {
   "cell_type": "code",
   "execution_count": 6,
   "id": "c6c62f49-c0aa-4da9-8a0e-a70879df80d2",
   "metadata": {},
   "outputs": [
    {
     "name": "stdout",
     "output_type": "stream",
     "text": [
      "Min error rate = 1.75%\n",
      "Max error rate = 6.36%\n",
      "Avg error rate = 3.17%\n",
      "Max error length = 30\n"
     ]
    },
    {
     "data": {
      "image/png": "[encoded data removed]",
      "text/plain": [
       "<Figure size 640x480 with 1 Axes>"
      ]
     },
     "metadata": {},
     "output_type": "display_data"
    }
   ],
   "source": [
    "if len(data) > 0:\n",
    "    \n",
    "    x = []\n",
    "    y = []\n",
    "\n",
    "    max_error_rate = 0.0\n",
    "    min_error_rate = 100.0\n",
    "    avg_error_rate = 0.0\n",
    "\n",
    "    step = 33\n",
    "\n",
    "    for i in range(0, len(data) - step, step):\n",
    "        polozenie = data[i][0] / 65536 * 360 \n",
    "        x.append(polozenie)\n",
    "        row = []\n",
    "        ilosc_odczytow = data[i + step][1] - data[i][1]\n",
    "        ilosc_bledow   = data[i + step][2] - data[i][2]\n",
    "        pz_errors      = data[i + step][3] - data[i][3]\n",
    "\n",
    "        error_rate = ilosc_bledow / ilosc_odczytow * 100\n",
    "        min_error_rate = min_error_rate if min_error_rate < error_rate else error_rate \n",
    "        max_error_rate = max_error_rate if max_error_rate > error_rate else error_rate \n",
    "        row.append(error_rate)\n",
    "        # print(f\"{polozenie} {row} {ilosc_odczytow} {ilosc_bledow} {pz_errors} {data[i]}\")\n",
    "        y.append(row)\n",
    "\n",
    "    avg_error_rate = data[-1][2] / data[-1][1] * 100\n",
    "    print(f\"Min error rate = { min_error_rate:.2f}%\")\n",
    "    print(f\"Max error rate = { max_error_rate:.2f}%\")\n",
    "    print(f\"Avg error rate = { avg_error_rate:.2f}%\")\n",
    "    print(f\"Max error length = { data[-1][7]}\")\n",
    "\n",
    "\n",
    "    # print(177112047 - 177111891)\n",
    "    plt.plot(x, y)\n",
    "    # plt.plot(speed_data)\n",
    "    # plt.suptitle(serial+ '\\n' +note)\n",
    "    plt.show()\n",
    "    # plt.savefig(path+'/'+serial+'/enkoder_'+time.strftime('%y_%m_%d_%H_%M')+'.png', dpi=150)\n",
    "else:\n",
    "    print(f\"Brak danych\")"
   ]
  },
  {
   "cell_type": "markdown",
   "id": "6956ad22-1d3a-41e1-a92f-e85c91f4fa6d",
   "metadata": {},
   "source": [
    "# Zatrzymanie jointa"
   ]
  },
  {
   "cell_type": "code",
   "execution_count": 7,
   "id": "5f79772b-12e1-4307-9466-408405f82202",
   "metadata": {},
   "outputs": [
    {
     "data": {
      "text/plain": [
       "can.Message(timestamp=1697711600.727456, arbitration_id=0x305, is_extended_id=False, channel='can0', dlc=8, data=[0x78, 0xff, 0xbb, 0xff, 0x0, 0x0, 0x3f, 0xfe], is_fd=True, bitrate_switch=True, error_state_indicator=False)"
      ]
     },
     "execution_count": 7,
     "metadata": {},
     "output_type": "execute_result"
    }
   ],
   "source": [
    "stop = set_speed_u(0.0, bus, can_id)    #zatrzymanie ctrl-enter\n",
    "# print(\"\\x1b[31m red \\x1b[0m\")"
   ]
  }
 ],
 "metadata": {
  "kernelspec": {
   "display_name": "Python 3 (ipykernel)",
   "language": "python",
   "name": "python3"
  },
  "language_info": {
   "codemirror_mode": {
    "name": "ipython",
    "version": 3
   },
   "file_extension": ".py",
   "mimetype": "text/x-python",
   "name": "python",
   "nbconvert_exporter": "python",
   "pygments_lexer": "ipython3",
   "version": "3.9.2"
  }
 },
 "nbformat": 4,
 "nbformat_minor": 5
}
