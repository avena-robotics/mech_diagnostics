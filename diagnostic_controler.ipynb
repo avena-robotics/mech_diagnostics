{
 "cells": [
  {
   "cell_type": "code",
   "execution_count": 1,
   "id": "fdf28aaf-b2a7-4594-bd23-2295a09ccf56",
   "metadata": {},
   "outputs": [],
   "source": [
    "import can\n",
    "from joint_can import *\n",
    "import numpy as np\n",
    "import os\n",
    "import time\n",
    "import math"
   ]
  },
  {
   "cell_type": "code",
   "execution_count": 2,
   "id": "da6161f0-23bc-4f60-9fb3-849226a46458",
   "metadata": {},
   "outputs": [],
   "source": [
    "def initialize_joint(bus):\n",
    "    send_msg(0x0A0, None, bus)\n",
    "    time.sleep(1)\n",
    "    \n",
    "    send_msg(0x0b0, [0,0,0,0,0,0], bus)\n",
    "    time.sleep(0.1)\n",
    "    send_msg(0x040, None, bus)\n",
    "    time.sleep(0.1)\n",
    "    send_msg(0x0a0, None, bus)\n",
    "    time.sleep(1)\n",
    "    \n",
    "    if (send_msg(0x0F0, [1, 2], bus).data[0] == 1):\n",
    "        send_msg(0x010, [2], bus)\n",
    "        time.sleep(1)\n",
    "        send_msg(0x010, [3], bus).data[0]\n",
    "        time.sleep(5)\n",
    "        return True\n",
    "    else:\n",
    "        return False\n",
    "     "
   ]
  },
  {
   "cell_type": "code",
   "execution_count": 3,
   "id": "779fa48a-d730-43c3-aeb6-81bd71626be4",
   "metadata": {},
   "outputs": [],
   "source": [
    "diag_samples = 300\n",
    "const_torque = 8\n",
    "# serial_number\n",
    "# note\n",
    "run_duration = 2"
   ]
  },
  {
   "cell_type": "code",
   "execution_count": 85,
   "id": "0b72de52-55c8-413d-a6e3-0af496da9b0a",
   "metadata": {},
   "outputs": [],
   "source": [
    "const_torque=8. #zadawany moment obrotowy (konieczna kropka na końcu jeżeli jest to liczba całkowita) 16 dla J25, 8 dla J20\n",
    "serial_nr=\"JANUSZ_3_RI70_21414876\" #musi byc min jedna litera w numerze\n",
    "note=\"testy arka\" #póki co musi być cokolwiek\n",
    "file_path = \"/home/ubuntu/joint_diagnostic/diagnostic_data\""
   ]
  },
  {
   "cell_type": "code",
   "execution_count": 92,
   "id": "4cece72a-1e3f-43cd-aed6-a21388809cbf",
   "metadata": {},
   "outputs": [],
   "source": [
    "def save_data(data: np.array, file_path: str, note: str, serial_nr: str, torque: float, temps: list) -> None:\n",
    "    with open(file_path+'/'+serial_nr+'/'+serial_nr+time.strftime('_%y_%m_%d_%H_%M')+'.txt','w') as file:\n",
    "        file.write(\"serial_number: \" + serial_nr+'\\n')\n",
    "        file.write(\"torque: \"+str(torque)+'\\n')\n",
    "        \n",
    "        file.write(\"start_temps: \"+str(temps[1][0]) +\" (\"+str(temps[0][0])+\")\\n\")\n",
    "        file.write(\"finish_temps: \"+str(temps[1][1]) +\" (\"+str(temps[0][1])+\")\\n\")\n",
    "        \n",
    "        file.write(\"note: \" + note+'\\n')\n",
    "        for line in data:\n",
    "            file.write(f'{line[0]:.6f} {line[1]:.6f}\\n')"
   ]
  },
  {
   "cell_type": "code",
   "execution_count": 5,
   "id": "18b53f92-4fb2-44d1-84cb-fb70a622e588",
   "metadata": {},
   "outputs": [],
   "source": [
    "os.popen('/home/ubuntu/can_down.sh')\n",
    "time.sleep(1)\n",
    "os.popen('/home/ubuntu/can_up.sh')\n",
    "time.sleep(1)\n",
    "\n",
    "bus = can.interface.Bus(bustype='socketcan', channel='can0', bitrate=1000000, data_bitrate=5000000, fd=True)\n",
    "while not initialize_joint(bus):\n",
    "    print(\"Joint initialization in progress\")"
   ]
  },
  {
   "cell_type": "code",
   "execution_count": 6,
   "id": "48610dfd-98f2-48fe-bb0e-5257ac6c659e",
   "metadata": {},
   "outputs": [],
   "source": [
    "# process flow\n",
    "# check_connection\n",
    "# joint_init\n",
    "# param_init\n",
    "# var_init\n",
    "# joint_position_init\n",
    "# diagnostic_loop\n",
    "# save_data"
   ]
  },
  {
   "cell_type": "code",
   "execution_count": 38,
   "id": "12b7a551-2549-4a5f-9f59-30938dd297e1",
   "metadata": {},
   "outputs": [],
   "source": []
  },
  {
   "cell_type": "code",
   "execution_count": 8,
   "id": "269a011e-9ed6-4698-a1cb-2ea3a5280757",
   "metadata": {},
   "outputs": [
    {
     "name": "stdout",
     "output_type": "stream",
     "text": [
      "Running diagnostics...\n",
      " Time left: 0 min 0 sec\t\t\t"
     ]
    },
    {
     "data": {
      "text/plain": [
       "<joint_can.JointData at 0xffffb8579460>"
      ]
     },
     "execution_count": 8,
     "metadata": {},
     "output_type": "execute_result"
    }
   ],
   "source": [
    "print(\"Running diagnostics...\")\n",
    "position_bins=np.linspace(0,2*math.pi,diag_samples)\n",
    "start_time=time.time()\n",
    "data=[]\n",
    "\n",
    "motor_temp=[0,0]\n",
    "bearing_temp=[0,0]\n",
    "\n",
    "current_reading = set_torque(const_torque,bus)\n",
    "motor_temp[0] = current_reading.motor_temp\n",
    "bearing_temp[0] = current_reading.bearing_temp\n",
    "\n",
    "time.sleep(5)\n",
    "while((cur_time:=time.time()-start_time)<(run_duration*60)):\n",
    "    current_reading=set_torque(const_torque,bus)\n",
    "    print(f'\\r Time left: {(math.floor(run_duration-cur_time/60))} min {int((run_duration*60-cur_time)%60)} sec\\t\\t', end='')\n",
    "    if np.sign(current_reading.torque) == np.sign(const_torque):\n",
    "        motor_temp[1] = current_reading.motor_temp\n",
    "        bearing_temp[1] = current_reading.bearing_temp\n",
    "        data.append([current_reading.position + math.pi, current_reading.speed])\n",
    "    else:\n",
    "        if cur_time>30:\n",
    "            print(\"Speed/Torque sign error, aborting.\")\n",
    "            break\n",
    "    \n",
    "        \n",
    "set_torque(0.,bus)"
   ]
  },
  {
   "cell_type": "code",
   "execution_count": 73,
   "id": "b8aa3f2d-6e5b-42a7-b0f8-bbbd7a8e3c62",
   "metadata": {},
   "outputs": [],
   "source": [
    "data = np.array(data)\n",
    "position_bin_num = np.digitize(data[:,0],position_bins)\n",
    "binarized_avg_data = np.array([position_bins,np.zeros(diag_samples)]).T\n",
    "for i in range(diag_samples):\n",
    "    binarized_avg_data[i,1]=np.mean(data[position_bin_num==i,1])"
   ]
  },
  {
   "cell_type": "code",
   "execution_count": 93,
   "id": "d062c001-4c40-403f-8da0-8c1f97f7ce3a",
   "metadata": {},
   "outputs": [],
   "source": [
    "save_data(binarized_avg_data, path, note, serial_nr, const_torque, [motor_temp, bearing_temp])"
   ]
  },
  {
   "cell_type": "code",
   "execution_count": null,
   "id": "12579dc8-9220-4926-a382-266c0cf20a24",
   "metadata": {},
   "outputs": [],
   "source": []
  }
 ],
 "metadata": {
  "kernelspec": {
   "display_name": "Python 3 (ipykernel)",
   "language": "python",
   "name": "python3"
  },
  "language_info": {
   "codemirror_mode": {
    "name": "ipython",
    "version": 3
   },
   "file_extension": ".py",
   "mimetype": "text/x-python",
   "name": "python",
   "nbconvert_exporter": "python",
   "pygments_lexer": "ipython3",
   "version": "3.8.10"
  }
 },
 "nbformat": 4,
 "nbformat_minor": 5
}
