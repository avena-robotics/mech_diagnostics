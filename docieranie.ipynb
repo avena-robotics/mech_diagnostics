{
 "cells": [
  {
   "cell_type": "code",
   "execution_count": 1,
   "id": "2165665f-74fb-49f2-9115-6a812976886d",
   "metadata": {},
   "outputs": [],
   "source": [
    "import can\n",
    "import matplotlib.pyplot as plt\n",
    "from matplotlib import interactive\n",
    "import numpy as np\n",
    "import os\n",
    "import time\n",
    "import math\n",
    "from IPython.display import display, clear_output\n",
    "from joint_can import *\n",
    "%matplotlib widget"
   ]
  },
  {
   "cell_type": "code",
   "execution_count": 6,
   "id": "347699b2-d5e6-437f-a6a2-051b00a7ae7f",
   "metadata": {},
   "outputs": [],
   "source": [
    "# class JointData():\n",
    "#     position=0\n",
    "#     speed=0\n",
    "#     torque=0\n",
    "#     bearing_temp=0\n",
    "#     FSM=0\n",
    "#     MC_error=0\n",
    "#     MC_error_occured=0\n",
    "#     joint_error=0\n",
    "#     joint_warning=0\n",
    "#     MA_val=0\n",
    "#     motor_temp=0"
   ]
  },
  {
   "cell_type": "code",
   "execution_count": 7,
   "id": "05f1a5d4-4722-4212-875d-0d3b651bc395",
   "metadata": {},
   "outputs": [],
   "source": [
    "# def send_msg(adr, data, bus):\n",
    "#     msg = can.Message(arbitration_id=adr, data=data, is_fd=True, is_extended_id=False)\n",
    "#     try:\n",
    "#         bus.send(msg,1)\n",
    "#         # print(f\"Message sent on {bus.channel_info}\")\n",
    "#     except can.CanError:\n",
    "#         print(\"Message NOT sent\")\n",
    "        \n",
    "#     return bus.recv(1)"
   ]
  },
  {
   "cell_type": "code",
   "execution_count": 9,
   "id": "2c7cc9fa-2d2f-49d9-a168-2eb96c652382",
   "metadata": {},
   "outputs": [],
   "source": [
    "# def set_speed(speed,bus):\n",
    "#     speed_data=(int)(speed*32767/2)\n",
    "#     speed_data=speed_data.to_bytes(2,'big',signed=True)\n",
    "#     return get_data(send_msg(0x000,speed_data,bus),bus)"
   ]
  },
  {
   "cell_type": "code",
   "execution_count": 10,
   "id": "d0302ec4-bd0b-4e14-a073-d7720372b093",
   "metadata": {},
   "outputs": [],
   "source": [
    "# def get_data(rcv_msg,bus):\n",
    "#     data=rcv_msg.data\n",
    "#     joint_data=JointData()\n",
    "#     joint_data.position=float(int.from_bytes(data[0:4],'big',signed=True))*math.pi/2147483647\n",
    "#     joint_data.speed=float(int.from_bytes(data[4:6],'big',signed=True))*2/32767\n",
    "#     joint_data.torque=float(int.from_bytes(data[6:8],'big',signed=True))*360/32767\n",
    "#     joint_data.bearing_temp=data[8]\n",
    "#     joint_data.FSM=data[9]\n",
    "#     joint_data.MC_error=data[10]\n",
    "#     joint_data.MC_error_occured=data[11]\n",
    "#     joint_data.joint_error=data[12]\n",
    "#     joint_data.joint_warning=data[13]\n",
    "#     joint_data.MA_val=int.from_bytes(data[14:16],'big',signed=True)\n",
    "#     joint_data.motor_temp=data[16]\n",
    "\n",
    "#     return joint_data"
   ]
  },
  {
   "cell_type": "code",
   "execution_count": 1,
   "id": "a37c27a5-c3b4-4e6f-9c32-71f842b13fe0",
   "metadata": {},
   "outputs": [],
   "source": [
    "def initialize_joint(bus):\n",
    "    send_msg(0x0A0, None, bus)\n",
    "    time.sleep(1)\n",
    "    \n",
    "    send_msg(0x0b0, [0,0,0,0,0,0], bus)\n",
    "    time.sleep(0.1)\n",
    "    send_msg(0x040, None, bus)\n",
    "    time.sleep(0.1)\n",
    "    send_msg(0x0a0, None, bus)\n",
    "    time.sleep(1)\n",
    "    \n",
    "    if (send_msg(0x0F0, [2, 2], bus).data[0] == 1):\n",
    "        send_msg(0x010, [2], bus)\n",
    "        time.sleep(1)\n",
    "        print(send_msg(0x010, [3], bus).data[0])\n",
    "        time.sleep(5)\n",
    "        return True\n",
    "    else:\n",
    "        return False\n"
   ]
  },
  {
   "cell_type": "code",
   "execution_count": 2,
   "id": "8fdf9368-32ab-42f4-9ec7-184ef8dcf95f",
   "metadata": {},
   "outputs": [],
   "source": [
    "serial=\"JANUSZ_3_RI70_21414867\"\n",
    "note=\"pierwsze dotarcie\""
   ]
  },
  {
   "cell_type": "code",
   "execution_count": 3,
   "id": "1daf4f4e-0ad4-4f8a-ae1a-9674a8e6f573",
   "metadata": {},
   "outputs": [],
   "source": [
    "path = \"/home/ubuntu/joint_diagnostic/diagnostic_data/docieranie\""
   ]
  },
  {
   "cell_type": "code",
   "execution_count": 4,
   "id": "592db68d-e829-4e45-a625-557aeb72a023",
   "metadata": {},
   "outputs": [],
   "source": [
    "speed=-1.75  #tutaj ustawiasz predkosc w rad/s\n",
    "run_time=15 #czas działania w minutach\n",
    "avg_interval=5 #czas uśrednienia w obrotach"
   ]
  },
  {
   "cell_type": "code",
   "execution_count": 5,
   "id": "fc954bbd-e7c3-4318-8576-b77b18cb73c6",
   "metadata": {},
   "outputs": [],
   "source": [
    "try: \n",
    "    os.mkdir(path+'/'+serial) \n",
    "except OSError as error: \n",
    "    pass"
   ]
  },
  {
   "cell_type": "code",
   "execution_count": 11,
   "id": "fd8eac04-5ef1-44e8-b007-2aa5a667a707",
   "metadata": {},
   "outputs": [
    {
     "name": "stdout",
     "output_type": "stream",
     "text": [
      "2\n"
     ]
    }
   ],
   "source": [
    "if __name__ == \"__main__\":\n",
    "\n",
    "    bus = can.interface.Bus(bustype='socketcan', channel='can0', bitrate=1000000, data_bitrate=5000000, fd=True)\n",
    "    initialize_joint(bus)"
   ]
  },
  {
   "cell_type": "code",
   "execution_count": 12,
   "id": "9597b1e6-16cd-49ea-8eca-733fd176ac62",
   "metadata": {},
   "outputs": [],
   "source": [
    "spin=1\n",
    "it=0"
   ]
  },
  {
   "cell_type": "code",
   "execution_count": 13,
   "id": "6f3c1308-3f38-4bfc-b3ea-5012e457a653",
   "metadata": {},
   "outputs": [
    {
     "name": "stdout",
     "output_type": "stream",
     "text": [
      " Time left: 13 min 17 sec"
     ]
    },
    {
     "name": "stderr",
     "output_type": "stream",
     "text": [
      "\n",
      "KeyboardInterrupt\n",
      "\n"
     ]
    }
   ],
   "source": [
    "# fig = plt.pyplot.figure()\n",
    "# ax = fig.add_subplot(1, 1, 1) \n",
    "\n",
    "#torque zwracany co 1s w Nm\n",
    "\n",
    "start_time=time.time()\n",
    "data=[]\n",
    "\n",
    "set_speed(speed,bus)\n",
    "time.sleep(5)\n",
    "while((cur_time:=time.time()-start_time)<(run_time*60)):\n",
    "    avg_tq=0\n",
    "    avg_b_temp=0\n",
    "    avg_m_temp=0\n",
    "    it=0\n",
    "    dprev=set_speed(speed,bus)\n",
    "    while(abs((dp:=set_speed(speed,bus)).position)>1 or dp.position*dprev.position>0):\n",
    "        cur_time=time.time()-start_time\n",
    "        dprev=dp\n",
    "        print(f'\\r Time left: {(math.floor(run_time-cur_time/60))} min {int((run_time*60-cur_time)%60)} sec', end='')\n",
    "        time.sleep(0.3)\n",
    "        avg_tq+=dp.torque\n",
    "        avg_b_temp+=dp.bearing_temp\n",
    "        avg_m_temp+=dp.motor_temp\n",
    "        it+=1\n",
    "    avg_tq/=it\n",
    "    avg_b_temp/=it\n",
    "    avg_m_temp/=it\n",
    "    data.append([cur_time,avg_tq,avg_b_temp,avg_m_temp])\n",
    "    \n",
    "        \n",
    "set_speed(0.,bus)"
   ]
  },
  {
   "cell_type": "code",
   "execution_count": null,
   "id": "5f79772b-12e1-4307-9466-408405f82202",
   "metadata": {},
   "outputs": [],
   "source": [
    "with open(path+'/'+serial+'/docieranie_'+time.strftime('%y_%m_%d_%H_%M')+'.txt','w') as file:\n",
    "    file.write(note)\n",
    "    for line in data:\n",
    "        file.write(f'{line[0]:.3f},{line[1]:.3f},{line[2]},{line[3]}\\n')"
   ]
  },
  {
   "cell_type": "code",
   "execution_count": null,
   "id": "ce69a8a5-67e3-40cd-836c-d48eca1fae5d",
   "metadata": {},
   "outputs": [],
   "source": [
    "t_data=[line[0] for line in data]\n",
    "tq_data=[abs(line[1]) for line in data]\n",
    "b_temp_data=[line[2] for line in data]\n",
    "m_temp_data=[line[3] for line in data]"
   ]
  },
  {
   "cell_type": "code",
   "execution_count": null,
   "id": "70339424-878e-43fe-b68b-30d8105a9181",
   "metadata": {},
   "outputs": [],
   "source": [
    "tq_data_avg=[sum(data_range)/len(data_range) for data_range in [tq_data[offset*avg_interval:(offset+1)*avg_interval] for offset in range(math.floor(len(data)/avg_interval))]]\n",
    "b_temp_data_avg=[sum(data_range)/len(data_range) for data_range in [b_temp_data[offset*avg_interval:(offset+1)*avg_interval] for offset in range(math.floor(len(data)/avg_interval))]]\n",
    "m_temp_data_avg=[sum(data_range)/len(data_range) for data_range in [m_temp_data[offset*avg_interval:(offset+1)*avg_interval] for offset in range(math.floor(len(data)/avg_interval))]]\n"
   ]
  },
  {
   "cell_type": "code",
   "execution_count": null,
   "id": "1412acab-fb83-4e60-992c-48286890e0ac",
   "metadata": {},
   "outputs": [],
   "source": [
    "plt.rcParams['figure.figsize'] = [10, 6]\n",
    "fig, ax1 = plt.subplots()\n",
    "plt.style.use('default')\n",
    "\n",
    "color = 'tab:red'\n",
    "ax1.set_xlabel('rotations [n]')\n",
    "ax1.set_ylabel('torque [Nm]', color=color)\n",
    "ax1.plot([t*avg_interval for t in range(len(tq_data_avg))], tq_data_avg, color=color)\n",
    "ax1.tick_params(axis='y', labelcolor=color)\n",
    "\n",
    "ax2 = ax1.twinx()  # instantiate a second axes that shares the same x-axis\n",
    "\n",
    "color = 'tab:blue'\n",
    "ax2.set_ylabel('temp [\\N{DEGREE SIGN}C]', color=color)  # we already handled the x-label with ax1\n",
    "ax2.plot([t*avg_interval for t in range(len(tq_data_avg))], b_temp_data_avg, color=color)\n",
    "ax2.plot([t*avg_interval for t in range(len(tq_data_avg))], m_temp_data_avg, color='tab:cyan')\n",
    "ax2.tick_params(axis='y', labelcolor=color)\n",
    "\n",
    "# fig.tight_layout()  # otherwise the right y-label is slightly clipped\n",
    "fig.suptitle(serial+ ' (v: '+ str(speed) + ') - ' +note)\n",
    "# plt.show()\n",
    "plt.savefig(path+'/'+serial+'/docieranie_'+time.strftime('%y_%m_%d_%H_%M')+'.png', dpi=150)"
   ]
  },
  {
   "cell_type": "code",
   "execution_count": null,
   "id": "ab67838d-579e-4ac4-8503-e06524df1d32",
   "metadata": {},
   "outputs": [],
   "source": []
  }
 ],
 "metadata": {
  "kernelspec": {
   "display_name": "Python 3 (ipykernel)",
   "language": "python",
   "name": "python3"
  },
  "language_info": {
   "codemirror_mode": {
    "name": "ipython",
    "version": 3
   },
   "file_extension": ".py",
   "mimetype": "text/x-python",
   "name": "python",
   "nbconvert_exporter": "python",
   "pygments_lexer": "ipython3",
   "version": "3.8.10"
  }
 },
 "nbformat": 4,
 "nbformat_minor": 5
}
