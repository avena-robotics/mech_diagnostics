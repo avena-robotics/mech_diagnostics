{
 "cells": [
  {
   "cell_type": "markdown",
   "id": "e6b68597-9be7-48f8-8823-fa34f557c592",
   "metadata": {},
   "source": [
    "# Uruchomienie jointa w trybie prędkości"
   ]
  },
  {
   "cell_type": "code",
   "execution_count": 1,
   "id": "2165665f-74fb-49f2-9115-6a812976886d",
   "metadata": {},
   "outputs": [],
   "source": [
    "import can\n",
    "import matplotlib as plt\n",
    "import numpy as np\n",
    "import os\n",
    "import time\n",
    "import math\n",
    "from IPython.display import display, clear_output\n",
    "from joint_can import *\n",
    "%matplotlib inline\n"
   ]
  },
  {
   "cell_type": "code",
   "execution_count": 2,
   "id": "a37c27a5-c3b4-4e6f-9c32-71f842b13fe0",
   "metadata": {},
   "outputs": [],
   "source": [
    "# Ustawienie adresu CAN na \"nr_id\"\n",
    "\n",
    "def initialize_joint(bus, mode: int, nr_id):\n",
    "    send_msg(0x1A0 + nr_id, None, bus)\n",
    "    time.sleep(1)\n",
    "    \n",
    "    send_msg(0x1b0 + nr_id, [0,0,0,0,0,0], bus)\n",
    "    time.sleep(0.1)\n",
    "    send_msg(0x140 + nr_id, None, bus)\n",
    "    time.sleep(0.1)\n",
    "    send_msg(0x1a0 + nr_id, None, bus)\n",
    "    time.sleep(1)\n",
    "    \n",
    "    if (send_msg(0x1F0 + nr_id, [mode, 2], bus).data[0] == 1):\n",
    "        send_msg(0x110 + nr_id, [2], bus)\n",
    "        time.sleep(1)\n",
    "        send_msg(0x110 + nr_id, [3], bus).data[0]\n",
    "        time.sleep(5)\n",
    "        return True\n",
    "    else:\n",
    "        return False\n",
    "      \n"
   ]
  },
  {
   "cell_type": "code",
   "execution_count": 3,
   "id": "fd8eac04-5ef1-44e8-b007-2aa5a667a707",
   "metadata": {},
   "outputs": [],
   "source": [
    "# os.popen('/home/pi/mech_diagnostics/can_down.sh')\n",
    "# time.sleep(2)\n",
    "# os.popen('/home/pi/mech_diagnostics/can_up.sh')\n",
    "# time.sleep(6)"
   ]
  },
  {
   "cell_type": "code",
   "execution_count": 9,
   "id": "fb063f1e-48d0-4e69-b67a-817043d0ae17",
   "metadata": {},
   "outputs": [
    {
     "data": {
      "text/plain": [
       "True"
      ]
     },
     "execution_count": 9,
     "metadata": {},
     "output_type": "execute_result"
    }
   ],
   "source": [
    "bus = can.interface.Bus(bustype='socketcan', channel='can0', bitrate=1000000, data_bitrate=5000000, fd=True)\n",
    "nr_id = get_can_id(bus) #numer id jaki chcemy nadac do jointa\n",
    "initialize_joint(bus,2,nr_id)"
   ]
  },
  {
   "cell_type": "markdown",
   "id": "3c95c46d-f197-4fe5-a0d8-bb497f5ba4bd",
   "metadata": {},
   "source": [
    "# Ustawienie prędkości"
   ]
  },
  {
   "cell_type": "code",
   "execution_count": 10,
   "id": "592db68d-e829-4e45-a625-557aeb72a023",
   "metadata": {},
   "outputs": [],
   "source": [
    "speed=0.5 #tutaj ustawiasz predkosc w rad/s"
   ]
  },
  {
   "cell_type": "markdown",
   "id": "67d116eb-79a7-447f-9aad-68382627b6b2",
   "metadata": {},
   "source": [
    "# Blok główny programu"
   ]
  },
  {
   "cell_type": "code",
   "execution_count": 11,
   "id": "6f3c1308-3f38-4bfc-b3ea-5012e457a653",
   "metadata": {},
   "outputs": [
    {
     "name": "stdout",
     "output_type": "stream",
     "text": [
      " tq: 21.710\tpredkosc: 0.5\tm_temp: 31.000\tb_temp: 29.000\tenkoder_abs: -0.837"
     ]
    },
    {
     "ename": "KeyboardInterrupt",
     "evalue": "",
     "output_type": "error",
     "traceback": [
      "\u001b[0;31m---------------------------------------------------------------------------\u001b[0m",
      "\u001b[0;31mKeyboardInterrupt\u001b[0m                         Traceback (most recent call last)",
      "Cell \u001b[0;32mIn [11], line 20\u001b[0m\n\u001b[1;32m     17\u001b[0m     \u001b[38;5;66;03m# inc, abso = set_speed(bus,nr_id)\u001b[39;00m\n\u001b[1;32m     18\u001b[0m     \u001b[38;5;66;03m# diff = inc - abso\u001b[39;00m\n\u001b[1;32m     19\u001b[0m     \u001b[38;5;28mprint\u001b[39m(\u001b[38;5;124mf\u001b[39m\u001b[38;5;124m'\u001b[39m\u001b[38;5;130;01m\\r\u001b[39;00m\u001b[38;5;124m tq: \u001b[39m\u001b[38;5;132;01m{\u001b[39;00mj_data\u001b[38;5;241m.\u001b[39mtorque\u001b[38;5;132;01m:\u001b[39;00m\u001b[38;5;124m.3f\u001b[39m\u001b[38;5;132;01m}\u001b[39;00m\u001b[38;5;130;01m\\t\u001b[39;00m\u001b[38;5;124mpredkosc: \u001b[39m\u001b[38;5;132;01m{\u001b[39;00mspeed\u001b[38;5;132;01m}\u001b[39;00m\u001b[38;5;130;01m\\t\u001b[39;00m\u001b[38;5;124mm_temp: \u001b[39m\u001b[38;5;132;01m{\u001b[39;00mdata_t\u001b[38;5;241m.\u001b[39mmotor_temp\u001b[38;5;132;01m:\u001b[39;00m\u001b[38;5;124m.3f\u001b[39m\u001b[38;5;132;01m}\u001b[39;00m\u001b[38;5;130;01m\\t\u001b[39;00m\u001b[38;5;124mb_temp: \u001b[39m\u001b[38;5;132;01m{\u001b[39;00mdata_t\u001b[38;5;241m.\u001b[39mbearing_temp\u001b[38;5;132;01m:\u001b[39;00m\u001b[38;5;124m.3f\u001b[39m\u001b[38;5;132;01m}\u001b[39;00m\u001b[38;5;130;01m\\t\u001b[39;00m\u001b[38;5;124menkoder_abs: \u001b[39m\u001b[38;5;132;01m{\u001b[39;00mj_data\u001b[38;5;241m.\u001b[39mposition\u001b[38;5;132;01m:\u001b[39;00m\u001b[38;5;124m.3f\u001b[39m\u001b[38;5;132;01m}\u001b[39;00m\u001b[38;5;124m'\u001b[39m, end\u001b[38;5;241m=\u001b[39m\u001b[38;5;124m'\u001b[39m\u001b[38;5;124m'\u001b[39m) \u001b[38;5;66;03m#usunięta wartość: \\tabs_inc_diff: {diff:.3f}\u001b[39;00m\n\u001b[0;32m---> 20\u001b[0m     \u001b[43mtime\u001b[49m\u001b[38;5;241;43m.\u001b[39;49m\u001b[43msleep\u001b[49m\u001b[43m(\u001b[49m\u001b[38;5;241;43m0.02\u001b[39;49m\u001b[43m)\u001b[49m\n\u001b[1;32m     21\u001b[0m set_speed(\u001b[38;5;241m0\u001b[39m,bus,\u001b[38;5;241m0\u001b[39m)\n",
      "\u001b[0;31mKeyboardInterrupt\u001b[0m: "
     ]
    }
   ],
   "source": [
    "# initialize_joint(bus,2,nr_id)\n",
    "#blok pracuje w pętli, aby zatrzymać jointa trzeba zatrzymać ten blok i uruchomić kolejny\n",
    "\n",
    "# fig = plt.pyplot.figure()\n",
    "# ax = fig.add_subplot(1, 1, 1) \n",
    "\n",
    "#torque zwracany co 1s w Nm\n",
    "c_speed=0.\n",
    "j_data=set_speed(c_speed,bus, nr_id)\n",
    "data_t=get_temp(bus, nr_id)\n",
    "spin = 1\n",
    "\n",
    "while(spin):\n",
    "    c_speed = speed\n",
    "    j_data=set_speed(c_speed,bus, nr_id)\n",
    "    data_t=get_temp(bus, nr_id)\n",
    "    # inc, abso = set_speed(bus,nr_id)\n",
    "    # diff = inc - abso\n",
    "    print(f'\\r tq: {j_data.torque:.3f}\\tpredkosc: {speed}\\tm_temp: {data_t.motor_temp:.3f}\\tb_temp: {data_t.bearing_temp:.3f}\\tenkoder_abs: {j_data.position:.3f}', end='') #usunięta wartość: \\tabs_inc_diff: {diff:.3f}\n",
    "    time.sleep(0.02)\n",
    "set_speed(0,bus,0)"
   ]
  },
  {
   "cell_type": "code",
   "execution_count": null,
   "id": "503febdc-fdd6-4766-9740-6e90ad7e412c",
   "metadata": {},
   "outputs": [],
   "source": [
    "# run_time=60\n",
    "# start_time=time.time()\n",
    "\n",
    "# while((time.time()-start_time)<(run_time)):"
   ]
  },
  {
   "cell_type": "code",
   "execution_count": null,
   "id": "d03304d8-7f08-43df-9db9-57afff1b5bb0",
   "metadata": {},
   "outputs": [],
   "source": [
    "# data=set_speed(0,bus,nr_id)\n",
    "# sgn=(int(data.position>0) - int(data.position<0))\n",
    "\n",
    "# data=set_speed(sgn*0.1,bus,nr_id)\n",
    "# print(data.position)\n",
    "# while(abs(data.position)>0.01):\n",
    "#     if (abs(data.position)>0.2):\n",
    "#         data=set_speed(sgn*-0.4,bus,nr_id)\n",
    "#     else:\n",
    "#         data=set_speed(sgn*-0.05,bus,nr_id)\n",
    "#     time.sleep(0.1)\n",
    "    \n",
    "# print(data.position)"
   ]
  },
  {
   "cell_type": "code",
   "execution_count": null,
   "id": "5f79772b-12e1-4307-9466-408405f82202",
   "metadata": {},
   "outputs": [],
   "source": [
    "# initialize_joint(bus,2,nr_id)\n",
    "\n",
    "# send_msg(0x1A0 + nr_id, None, bus)\n",
    "# time.sleep(1)\n",
    "# send_msg(0x1F0 + nr_id, [2,2], bus)\n",
    "# send_msg(0x110 + nr_id, [2], bus)\n",
    "# time.sleep(1)\n",
    "# send_msg(0x110 + nr_id, [3], bus)\n",
    "# time.sleep(2)\n",
    "\n",
    "\n",
    "# data=set_speed(0,bus,nr_id)\n",
    "# sgn=(int(data.position>0) - int(data.position<0))\n",
    "\n",
    "# data=set_speed(sgn*0.1,bus,nr_id)\n",
    "# print(data.position)\n",
    "# while(abs(data.position)>0.01):\n",
    "#     if (abs(data.position)>0.2):\n",
    "#         data=set_speed(sgn*-0.25,bus,nr_id)\n",
    "#     else:\n",
    "#         data=set_speed(sgn*-0.05,bus,nr_id)\n",
    "#     time.sleep(0.1)\n",
    "\n",
    "# send_msg(0x110 + nr_id, [2], bus)\n",
    "# print(data.position)"
   ]
  },
  {
   "cell_type": "code",
   "execution_count": null,
   "id": "ba0d22c0-17df-4753-acfb-f953e3b05f47",
   "metadata": {},
   "outputs": [],
   "source": []
  }
 ],
 "metadata": {
  "kernelspec": {
   "display_name": "Python 3 (ipykernel)",
   "language": "python",
   "name": "python3"
  },
  "language_info": {
   "codemirror_mode": {
    "name": "ipython",
    "version": 3
   },
   "file_extension": ".py",
   "mimetype": "text/x-python",
   "name": "python",
   "nbconvert_exporter": "python",
   "pygments_lexer": "ipython3",
   "version": "3.9.2"
  }
 },
 "nbformat": 4,
 "nbformat_minor": 5
}
