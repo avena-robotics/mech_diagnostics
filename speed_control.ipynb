{
 "cells": [
  {
   "cell_type": "code",
   "execution_count": 1,
   "id": "2165665f-74fb-49f2-9115-6a812976886d",
   "metadata": {},
   "outputs": [],
   "source": [
    "import can\n",
    "import matplotlib as plt\n",
    "import numpy as np\n",
    "import os\n",
    "import time\n",
    "import math\n",
    "from IPython.display import display, clear_output\n",
    "from joint_can import *\n",
    "%matplotlib inline\n"
   ]
  },
  {
   "cell_type": "code",
   "execution_count": 2,
   "id": "347699b2-d5e6-437f-a6a2-051b00a7ae7f",
   "metadata": {},
   "outputs": [],
   "source": [
    "# class JointData():\n",
    "#     position=0\n",
    "#     speed=0\n",
    "#     torque=0\n",
    "#     bearing_temp=0\n",
    "#     FSM=0\n",
    "#     MC_error=0\n",
    "#     MC_error_occured=0\n",
    "#     joint_error=0\n",
    "#     joint_warning=0\n",
    "#     MA_val=0\n",
    "#     motor_temp=0"
   ]
  },
  {
   "cell_type": "code",
   "execution_count": 3,
   "id": "05f1a5d4-4722-4212-875d-0d3b651bc395",
   "metadata": {},
   "outputs": [],
   "source": [
    "# def send_msg(adr, data, bus):\n",
    "#     msg = can.Message(arbitration_id=adr, data=data, is_fd=True, is_extended_id=False)\n",
    "#     try:\n",
    "#         bus.send(msg,1)\n",
    "#         # print(f\"Message sent on {bus.channel_info}\")\n",
    "#     except can.CanError:\n",
    "#         print(\"Message NOT sent\")\n",
    "#     return bus.recv(1)"
   ]
  },
  {
   "cell_type": "code",
   "execution_count": 4,
   "id": "2c7cc9fa-2d2f-49d9-a168-2eb96c652382",
   "metadata": {},
   "outputs": [],
   "source": [
    "# def set_speed(speed,bus):\n",
    "#     speed_data=(int)(speed*32767/2)\n",
    "#     speed_data=speed_data.to_bytes(2,'big',signed=True)\n",
    "#     return get_data(send_msg(0x000,speed_data,bus),bus)"
   ]
  },
  {
   "cell_type": "code",
   "execution_count": 5,
   "id": "d0302ec4-bd0b-4e14-a073-d7720372b093",
   "metadata": {},
   "outputs": [],
   "source": [
    "# def get_data(rcv_msg,bus):\n",
    "#     data=rcv_msg.data\n",
    "#     joint_data=JointData()\n",
    "#     joint_data.position=float(int.from_bytes(data[0:4],'big',signed=True))*math.pi/2147483647\n",
    "#     joint_data.speed=float(int.from_bytes(data[4:6],'big',signed=True))*2/32767\n",
    "#     joint_data.torque=float(int.from_bytes(data[6:8],'big',signed=True))*360/32767\n",
    "#     joint_data.bearing_temp=data[8]\n",
    "#     joint_data.FSM=data[9]\n",
    "#     joint_data.MC_error=data[10]\n",
    "#     joint_data.MC_error_occured=data[11]\n",
    "#     joint_data.joint_error=data[12]\n",
    "#     joint_data.joint_warning=data[13]\n",
    "#     joint_data.MA_val=int.from_bytes(data[14:16],'big',signed=True)\n",
    "#     joint_data.motor_temp=data[16]\n",
    "\n",
    "#     return joint_data"
   ]
  },
  {
   "cell_type": "code",
   "execution_count": 6,
   "id": "a37c27a5-c3b4-4e6f-9c32-71f842b13fe0",
   "metadata": {},
   "outputs": [],
   "source": [
    "# ustawienie adresów CAN na \"0\"\n",
    "\n",
    "def initialize_joint(bus):\n",
    "    send_msg(0x0A0, None, bus)\n",
    "    time.sleep(1)\n",
    "    \n",
    "    send_msg(0x0b0, [0,0,0,0,0,0], bus)\n",
    "    time.sleep(0.1)\n",
    "    send_msg(0x040, None, bus)\n",
    "    time.sleep(0.1)\n",
    "    send_msg(0x0a0, None, bus)\n",
    "    time.sleep(1)\n",
    "    \n",
    "    if (send_msg(0x0F0, [2, 2], bus).data[0] == 1):\n",
    "        send_msg(0x010, [2], bus)\n",
    "        time.sleep(1)\n",
    "        print(send_msg(0x010, [3], bus).data[0])\n",
    "        time.sleep(5)\n",
    "        return True\n",
    "    else:\n",
    "        return False\n",
    "     "
   ]
  },
  {
   "cell_type": "code",
   "execution_count": 7,
   "id": "fd8eac04-5ef1-44e8-b007-2aa5a667a707",
   "metadata": {},
   "outputs": [
    {
     "name": "stdout",
     "output_type": "stream",
     "text": [
      "2\n"
     ]
    }
   ],
   "source": [
    "if __name__ == \"__main__\":\n",
    "\n",
    "    os.popen('/home/ubuntu/can_down.sh')\n",
    "    time.sleep(1)\n",
    "    os.popen('/home/ubuntu/can_up.sh')\n",
    "    time.sleep(1)\n",
    "\n",
    "    bus = can.interface.Bus(bustype='socketcan', channel='can0', bitrate=1000000, data_bitrate=5000000, fd=True)\n",
    "    initialize_joint(bus)"
   ]
  },
  {
   "cell_type": "code",
   "execution_count": 8,
   "id": "9597b1e6-16cd-49ea-8eca-733fd176ac62",
   "metadata": {},
   "outputs": [],
   "source": [
    "spin=1\n",
    "it=0"
   ]
  },
  {
   "cell_type": "code",
   "execution_count": 19,
   "id": "592db68d-e829-4e45-a625-557aeb72a023",
   "metadata": {},
   "outputs": [],
   "source": [
    "speed=0.6 #tutaj ustawiasz predkosc w rad/s"
   ]
  },
  {
   "cell_type": "code",
   "execution_count": 20,
   "id": "6f3c1308-3f38-4bfc-b3ea-5012e457a653",
   "metadata": {},
   "outputs": [
    {
     "name": "stdout",
     "output_type": "stream",
     "text": [
      " tq: 21.050\tm_temp: 33.000\tb_temp: 30.000"
     ]
    },
    {
     "ename": "KeyboardInterrupt",
     "evalue": "",
     "output_type": "error",
     "traceback": [
      "\u001b[0;31m---------------------------------------------------------------------------\u001b[0m",
      "\u001b[0;31mKeyboardInterrupt\u001b[0m                         Traceback (most recent call last)",
      "Input \u001b[0;32mIn [20]\u001b[0m, in \u001b[0;36m<module>\u001b[0;34m\u001b[0m\n\u001b[1;32m      6\u001b[0m     data\u001b[38;5;241m=\u001b[39mset_speed(speed,bus)\n\u001b[1;32m      8\u001b[0m     \u001b[38;5;28mprint\u001b[39m(\u001b[38;5;124mf\u001b[39m\u001b[38;5;124m'\u001b[39m\u001b[38;5;130;01m\\r\u001b[39;00m\u001b[38;5;124m tq: \u001b[39m\u001b[38;5;132;01m{\u001b[39;00mdata\u001b[38;5;241m.\u001b[39mtorque\u001b[38;5;132;01m:\u001b[39;00m\u001b[38;5;124m.3f\u001b[39m\u001b[38;5;132;01m}\u001b[39;00m\u001b[38;5;130;01m\\t\u001b[39;00m\u001b[38;5;124mm_temp: \u001b[39m\u001b[38;5;132;01m{\u001b[39;00mdata\u001b[38;5;241m.\u001b[39mmotor_temp\u001b[38;5;132;01m:\u001b[39;00m\u001b[38;5;124m.3f\u001b[39m\u001b[38;5;132;01m}\u001b[39;00m\u001b[38;5;130;01m\\t\u001b[39;00m\u001b[38;5;124mb_temp: \u001b[39m\u001b[38;5;132;01m{\u001b[39;00mdata\u001b[38;5;241m.\u001b[39mbearing_temp\u001b[38;5;132;01m:\u001b[39;00m\u001b[38;5;124m.3f\u001b[39m\u001b[38;5;132;01m}\u001b[39;00m\u001b[38;5;124m'\u001b[39m, end\u001b[38;5;241m=\u001b[39m\u001b[38;5;124m'\u001b[39m\u001b[38;5;124m'\u001b[39m)\n\u001b[0;32m----> 9\u001b[0m     \u001b[43mtime\u001b[49m\u001b[38;5;241;43m.\u001b[39;49m\u001b[43msleep\u001b[49m\u001b[43m(\u001b[49m\u001b[38;5;241;43m1\u001b[39;49m\u001b[43m)\u001b[49m\n\u001b[1;32m     10\u001b[0m     \u001b[38;5;66;03m# ax.cla()\u001b[39;00m\n\u001b[1;32m     11\u001b[0m     \u001b[38;5;66;03m# ax.plot(it, data.torque)\u001b[39;00m\n\u001b[1;32m     12\u001b[0m     \u001b[38;5;66;03m# display(fig)\u001b[39;00m\n\u001b[1;32m     13\u001b[0m     \u001b[38;5;66;03m# clear_output(wait = True)\u001b[39;00m\n\u001b[1;32m     14\u001b[0m     \u001b[38;5;66;03m# it+=1\u001b[39;00m\n\u001b[1;32m     15\u001b[0m     \u001b[38;5;66;03m# plt.pyplot.pause(5)\u001b[39;00m\n\u001b[1;32m     16\u001b[0m set_speed(\u001b[38;5;241m0.\u001b[39m,bus)\n",
      "\u001b[0;31mKeyboardInterrupt\u001b[0m: "
     ]
    }
   ],
   "source": [
    "# fig = plt.pyplot.figure()\n",
    "# ax = fig.add_subplot(1, 1, 1) \n",
    "\n",
    "#torque zwracany co 1s w Nm\n",
    "while(spin):\n",
    "    data=set_speed(speed,bus)\n",
    "\n",
    "    print(f'\\r tq: {data.torque:.3f}\\tm_temp: {data.motor_temp:.3f}\\tb_temp: {data.bearing_temp:.3f}', end='')\n",
    "    time.sleep(1)\n",
    "    # ax.cla()\n",
    "    # ax.plot(it, data.torque)\n",
    "    # display(fig)\n",
    "    # clear_output(wait = True)\n",
    "    # it+=1\n",
    "    # plt.pyplot.pause(5)\n",
    "set_speed(0.,bus)"
   ]
  },
  {
   "cell_type": "code",
   "execution_count": null,
   "id": "5f79772b-12e1-4307-9466-408405f82202",
   "metadata": {},
   "outputs": [],
   "source": [
    "set_speed(0.05,bus)    #zatrzymanie ctrl-enter"
   ]
  },
  {
   "cell_type": "code",
   "execution_count": null,
   "id": "5e5dad23-4ac7-43d4-bab0-3b30ff54a42b",
   "metadata": {},
   "outputs": [],
   "source": []
  }
 ],
 "metadata": {
  "kernelspec": {
   "display_name": "Python 3 (ipykernel)",
   "language": "python",
   "name": "python3"
  },
  "language_info": {
   "codemirror_mode": {
    "name": "ipython",
    "version": 3
   },
   "file_extension": ".py",
   "mimetype": "text/x-python",
   "name": "python",
   "nbconvert_exporter": "python",
   "pygments_lexer": "ipython3",
   "version": "3.8.10"
  }
 },
 "nbformat": 4,
 "nbformat_minor": 5
}
