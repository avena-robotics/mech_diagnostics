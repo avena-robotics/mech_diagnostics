{
 "cells": [
  {
   "cell_type": "markdown",
   "id": "e6b68597-9be7-48f8-8823-fa34f557c592",
   "metadata": {},
   "source": [
    "# Uruchomienie jointa w trybie prędkości"
   ]
  },
  {
   "cell_type": "code",
   "execution_count": 1,
   "id": "2165665f-74fb-49f2-9115-6a812976886d",
   "metadata": {},
   "outputs": [],
   "source": [
    "import can\n",
    "import matplotlib as plt\n",
    "import numpy as np\n",
    "import os\n",
    "import time\n",
    "import math\n",
    "from IPython.display import display, clear_output\n",
    "from joint_can import *\n",
    "%matplotlib inline\n"
   ]
  },
  {
   "cell_type": "code",
   "execution_count": 2,
   "id": "a37c27a5-c3b4-4e6f-9c32-71f842b13fe0",
   "metadata": {},
   "outputs": [],
   "source": [
    "# ustawienie adresów CAN na \"0\"\n",
    "\n",
    "def initialize_joint(bus):\n",
    "    send_msg(0x0A0, None, bus)\n",
    "    time.sleep(1)\n",
    "    \n",
    "    send_msg(0x0b0, [0,0,0,0,0,0], bus)\n",
    "    time.sleep(0.1)\n",
    "    send_msg(0x040, None, bus)\n",
    "    time.sleep(0.1)\n",
    "    send_msg(0x0a0, None, bus)\n",
    "    time.sleep(1)\n",
    "    \n",
    "    if (send_msg(0x0F0, [2, 2], bus).data[0] == 1):\n",
    "        send_msg(0x010, [2], bus)\n",
    "        time.sleep(1)\n",
    "        print(send_msg(0x010, [3], bus).data[0])\n",
    "        time.sleep(5)\n",
    "        return True\n",
    "    else:\n",
    "        return False\n",
    "     "
   ]
  },
  {
   "cell_type": "code",
   "execution_count": 3,
   "id": "fd8eac04-5ef1-44e8-b007-2aa5a667a707",
   "metadata": {},
   "outputs": [
    {
     "name": "stdout",
     "output_type": "stream",
     "text": [
      "2\n"
     ]
    }
   ],
   "source": [
    "if __name__ == \"__main__\":\n",
    "\n",
    "    os.popen('/home/pi/mech_diagnostics/can_down.sh')\n",
    "    time.sleep(1)\n",
    "    os.popen('/home/pi/mech_diagnostics/can_up.sh')\n",
    "    time.sleep(1)\n",
    "\n",
    "    bus = can.interface.Bus(bustype='socketcan', channel='can0', bitrate=1000000, data_bitrate=5000000, fd=True)\n",
    "    initialize_joint(bus)"
   ]
  },
  {
   "cell_type": "markdown",
   "id": "3c95c46d-f197-4fe5-a0d8-bb497f5ba4bd",
   "metadata": {},
   "source": [
    "# Ustawienie prędkości"
   ]
  },
  {
   "cell_type": "code",
   "execution_count": 4,
   "id": "592db68d-e829-4e45-a625-557aeb72a023",
   "metadata": {},
   "outputs": [],
   "source": [
    "speed=1. #tutaj ustawiasz predkosc w rad/s"
   ]
  },
  {
   "cell_type": "markdown",
   "id": "67d116eb-79a7-447f-9aad-68382627b6b2",
   "metadata": {},
   "source": [
    "# Blok główny programu"
   ]
  },
  {
   "cell_type": "code",
   "execution_count": 5,
   "id": "6f3c1308-3f38-4bfc-b3ea-5012e457a653",
   "metadata": {},
   "outputs": [
    {
     "name": "stdout",
     "output_type": "stream",
     "text": [
      " tq: 13.195\tm_temp: 43.000\tb_temp: 39.000"
     ]
    },
    {
     "name": "stderr",
     "output_type": "stream",
     "text": [
      "\n",
      "KeyboardInterrupt\n",
      "\n"
     ]
    }
   ],
   "source": [
    "#blok pracuje w pętli, aby zatrzymać jointa trzeba zatrzymać ten blok i uruchomić kolejny\n",
    "\n",
    "# fig = plt.pyplot.figure()\n",
    "# ax = fig.add_subplot(1, 1, 1) \n",
    "\n",
    "#torque zwracany co 1s w Nm\n",
    "spin=1\n",
    "it=0\n",
    "\n",
    "while(spin):\n",
    "    data=set_speed(speed,bus)\n",
    "\n",
    "    print(f'\\r tq: {data.torque:.3f}\\tm_temp: {data.motor_temp:.3f}\\tb_temp: {data.bearing_temp:.3f}', end='')\n",
    "    time.sleep(1)\n",
    "    # ax.cla()\n",
    "    # ax.plot(it, data.torque)\n",
    "    # display(fig)\n",
    "    # clear_output(wait = True)\n",
    "    # it+=1\n",
    "    # plt.pyplot.pause(5)\n",
    "set_speed(0.,bus)"
   ]
  },
  {
   "cell_type": "markdown",
   "id": "6956ad22-1d3a-41e1-a92f-e85c91f4fa6d",
   "metadata": {},
   "source": [
    "# Zatrzymanie jointa"
   ]
  },
  {
   "cell_type": "code",
   "execution_count": 6,
   "id": "5f79772b-12e1-4307-9466-408405f82202",
   "metadata": {},
   "outputs": [
    {
     "data": {
      "text/plain": [
       "<joint_can.JointData at 0xac929e68>"
      ]
     },
     "execution_count": 6,
     "metadata": {},
     "output_type": "execute_result"
    }
   ],
   "source": [
    "set_speed(0.0,bus)    #zatrzymanie ctrl-enter"
   ]
  },
  {
   "cell_type": "code",
   "execution_count": null,
   "id": "96641416-5574-41e9-8a55-994ad58ef4da",
   "metadata": {},
   "outputs": [],
   "source": []
  }
 ],
 "metadata": {
  "kernelspec": {
   "display_name": "Python 3 (ipykernel)",
   "language": "python",
   "name": "python3"
  },
  "language_info": {
   "codemirror_mode": {
    "name": "ipython",
    "version": 3
   },
   "file_extension": ".py",
   "mimetype": "text/x-python",
   "name": "python",
   "nbconvert_exporter": "python",
   "pygments_lexer": "ipython3",
   "version": "3.9.2"
  }
 },
 "nbformat": 4,
 "nbformat_minor": 5
}
