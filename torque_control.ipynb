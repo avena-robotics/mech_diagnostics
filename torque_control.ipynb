{
 "cells": [
  {
   "cell_type": "markdown",
   "id": "766d5e76-b562-4c7b-9869-f7b6303a9a09",
   "metadata": {},
   "source": [
    "# Uruchominie jointa w trybie torque"
   ]
  },
  {
   "cell_type": "code",
   "execution_count": 1,
   "id": "b1c77b14-cd8b-43b4-b2e3-cd34577123bb",
   "metadata": {},
   "outputs": [],
   "source": [
    "import can\n",
    "import matplotlib as plt\n",
    "import numpy as np\n",
    "import os\n",
    "import time\n",
    "import math\n",
    "from IPython.display import display, clear_output\n",
    "from joint_can import *\n",
    "%matplotlib inline\n"
   ]
  },
  {
   "cell_type": "code",
   "execution_count": 2,
   "id": "9c3600c3-085b-4389-9296-205dc738bc19",
   "metadata": {},
   "outputs": [],
   "source": [
    "def initialize_joint(bus):\n",
    "    send_msg(0x0A0, None, bus)\n",
    "    time.sleep(1)\n",
    "    \n",
    "    send_msg(0x0b0, [0,0,0,0,0,0], bus)\n",
    "    time.sleep(0.1)\n",
    "    send_msg(0x040, None, bus)\n",
    "    time.sleep(0.1)\n",
    "    send_msg(0x0a0, None, bus)\n",
    "    time.sleep(1)\n",
    "    \n",
    "    if (send_msg(0x0F0, [1, 2], bus).data[0] == 1):\n",
    "        send_msg(0x010, [2], bus)\n",
    "        time.sleep(1)\n",
    "        print(send_msg(0x010, [3], bus).data[0])\n",
    "        time.sleep(5)\n",
    "        return True\n",
    "    else:\n",
    "        return False\n",
    "     "
   ]
  },
  {
   "cell_type": "code",
   "execution_count": 3,
   "id": "ca5ea494-a037-4471-b960-6d4550b8384f",
   "metadata": {},
   "outputs": [
    {
     "name": "stdout",
     "output_type": "stream",
     "text": [
      "1\n"
     ]
    }
   ],
   "source": [
    "if __name__ == \"__main__\":\n",
    "\n",
    "    bus = can.interface.Bus(bustype='socketcan', channel='can0', bitrate=1000000, data_bitrate=5000000, fd=False)\n",
    "    initialize_joint(bus)\n",
    "    \n",
    "    time.sleep(5)"
   ]
  },
  {
   "cell_type": "markdown",
   "id": "0bc0e832-6f68-4f96-82fe-61dd9af21360",
   "metadata": {},
   "source": [
    "# Ustawienie torque'a"
   ]
  },
  {
   "cell_type": "code",
   "execution_count": 4,
   "id": "6945dbb6-9d69-4cf5-ac67-d475273dca2b",
   "metadata": {},
   "outputs": [],
   "source": [
    "tq=16. #torque w Nm\n",
    "duration = 300 #czas trwania w sekundach"
   ]
  },
  {
   "cell_type": "markdown",
   "id": "88935d9f-fc13-4163-8385-cfff49bdc069",
   "metadata": {},
   "source": [
    "# Blok główny programu"
   ]
  },
  {
   "cell_type": "code",
   "execution_count": 5,
   "id": "daf3b5bc-0f8c-4133-a1a0-06ced7209448",
   "metadata": {},
   "outputs": [
    {
     "ename": "TypeError",
     "evalue": "set_torque() missing 1 required positional argument: 'id'",
     "output_type": "error",
     "traceback": [
      "\u001b[0;31m---------------------------------------------------------------------------\u001b[0m",
      "\u001b[0;31mTypeError\u001b[0m                                 Traceback (most recent call last)",
      "Cell \u001b[0;32mIn [5], line 14\u001b[0m\n\u001b[1;32m     12\u001b[0m min_speed\u001b[38;5;241m=\u001b[39m\u001b[38;5;241m2.\u001b[39m\n\u001b[1;32m     13\u001b[0m max_speed\u001b[38;5;241m=\u001b[39m\u001b[38;5;241m0.\u001b[39m\n\u001b[0;32m---> 14\u001b[0m \u001b[43mset_torque\u001b[49m\u001b[43m(\u001b[49m\u001b[43mtq\u001b[49m\u001b[43m,\u001b[49m\u001b[43mbus\u001b[49m\u001b[43m)\u001b[49m\n\u001b[1;32m     15\u001b[0m time\u001b[38;5;241m.\u001b[39msleep(\u001b[38;5;241m5\u001b[39m)\n\u001b[1;32m     16\u001b[0m \u001b[38;5;66;03m#torque zwracany co 1s w Nm\u001b[39;00m\n",
      "\u001b[0;31mTypeError\u001b[0m: set_torque() missing 1 required positional argument: 'id'"
     ]
    }
   ],
   "source": [
    "#blok pracuje w pętli, aby zatrzymać jointa trzeba zatrzymać ten blok i uruchomić kolejny\n",
    "\n",
    "# fig = plt.pyplot.figure()\n",
    "# ax = fig.add_subplot(1, 1, 1) \n",
    "\n",
    "spin=1\n",
    "it=0\n",
    "tq_data=[]\n",
    "\n",
    "start=time.time()\n",
    "elapsed=0\n",
    "min_speed=2.\n",
    "max_speed=0.\n",
    "set_torque(tq,bus)\n",
    "time.sleep(5)\n",
    "#torque zwracany co 1s w Nm\n",
    "while(elapsed<duration):\n",
    "    elapsed = time.time()-start\n",
    "    data=set_torque(tq,bus)\n",
    "    tq_data.append(data.torque)\n",
    "    min_speed=min(min_speed,data.speed)\n",
    "    max_speed=max(max_speed,data.speed)\n",
    "    print('\\r speed: {0:.3} (min: {3:.3} | max: {4:.3})  | time: {1}s / {2}s      '.format(data.speed, int(elapsed),duration, min_speed, max_speed), end='')\n",
    "    time.sleep(1)\n",
    "    # ax.cla()\n",
    "    # ax.plot(it, data.torque)\n",
    "    # display(fig)\n",
    "    # clear_output(wait = True)\n",
    "    # it+=1\n",
    "    # plt.pyplot.pause(5)\n",
    "set_torque(0.,bus)"
   ]
  },
  {
   "cell_type": "markdown",
   "id": "8864cde1-937f-4300-867d-ec39be549590",
   "metadata": {},
   "source": [
    "# Zatrzymanie jointa"
   ]
  },
  {
   "cell_type": "code",
   "execution_count": null,
   "id": "18bdb144-fc2c-4e3f-a723-efdc25dc9f87",
   "metadata": {},
   "outputs": [],
   "source": [
    "set_torque(0.,bus)    #zatrzymanie ctrl-enter"
   ]
  }
 ],
 "metadata": {
  "kernelspec": {
   "display_name": "Python 3 (ipykernel)",
   "language": "python",
   "name": "python3"
  },
  "language_info": {
   "codemirror_mode": {
    "name": "ipython",
    "version": 3
   },
   "file_extension": ".py",
   "mimetype": "text/x-python",
   "name": "python",
   "nbconvert_exporter": "python",
   "pygments_lexer": "ipython3",
   "version": "3.9.2"
  }
 },
 "nbformat": 4,
 "nbformat_minor": 5
}
