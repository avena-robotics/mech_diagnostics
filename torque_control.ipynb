{
 "cells": [
  {
   "cell_type": "code",
   "execution_count": 13,
   "id": "b1c77b14-cd8b-43b4-b2e3-cd34577123bb",
   "metadata": {},
   "outputs": [],
   "source": [
    "import can\n",
    "import matplotlib as plt\n",
    "import numpy as np\n",
    "import os\n",
    "import time\n",
    "import math\n",
    "from IPython.display import display, clear_output\n",
    "from joint_can import *\n",
    "%matplotlib inline\n"
   ]
  },
  {
   "cell_type": "code",
   "execution_count": 2,
   "id": "6d7eaca2-4d53-4b78-a098-caf7405db412",
   "metadata": {},
   "outputs": [],
   "source": [
    "# class JointData():\n",
    "#     position=0\n",
    "#     speed=0\n",
    "#     torque=0\n",
    "#     bearing_temp=0\n",
    "#     FSM=0\n",
    "#     MC_error=0\n",
    "#     MC_error_occured=0\n",
    "#     joint_error=0\n",
    "#     joint_warning=0\n",
    "#     MA_val=0\n",
    "#     motor_temp=0"
   ]
  },
  {
   "cell_type": "code",
   "execution_count": 3,
   "id": "2f98f3cc-b4ba-426e-ae08-2344a2039f62",
   "metadata": {},
   "outputs": [],
   "source": [
    "# def send_msg(adr, data, bus):\n",
    "#     msg = can.Message(arbitration_id=adr, data=data, is_fd=True, is_extended_id=False)\n",
    "#     try:\n",
    "#         bus.send(msg,1)\n",
    "#         # print(f\"Message sent on {bus.channel_info}\")\n",
    "#     except can.CanError:\n",
    "#         print(\"Message NOT sent\")\n",
    "#     return bus.recv(1)"
   ]
  },
  {
   "cell_type": "code",
   "execution_count": 5,
   "id": "18ab9b91-cad0-45f1-b151-155e1f3831fc",
   "metadata": {},
   "outputs": [],
   "source": [
    "# def set_torque(torque,bus):\n",
    "#     torque_data=(int)(torque*32767/360)\n",
    "#     torque_data=torque_data.to_bytes(2,'big',signed=True)\n",
    "#     return get_data(send_msg(0x000,torque_data,bus),bus)"
   ]
  },
  {
   "cell_type": "code",
   "execution_count": 6,
   "id": "d0bb75e9-d5d8-46fe-bc3f-bcdaca2c055f",
   "metadata": {},
   "outputs": [],
   "source": [
    "# def get_data(rcv_msg,bus):\n",
    "#     data=rcv_msg.data\n",
    "#     joint_data=JointData()\n",
    "#     joint_data.position=float(int.from_bytes(data[0:4],'big',signed=True))*math.pi/2147483647\n",
    "#     joint_data.speed=float(int.from_bytes(data[4:6],'big',signed=True))*2/32767\n",
    "#     joint_data.torque=float(int.from_bytes(data[6:8],'big',signed=True))*360/32767\n",
    "#     joint_data.bearing_temp=data[8]\n",
    "#     joint_data.FSM=data[9]\n",
    "#     joint_data.MC_error=data[10]\n",
    "#     joint_data.MC_error_occured=data[11]\n",
    "#     joint_data.joint_error=data[12]\n",
    "#     joint_data.joint_warning=data[13]\n",
    "#     joint_data.MA_val=int.from_bytes(data[14:16],'big',signed=True)\n",
    "#     joint_data.motor_temp=data[16]\n",
    "\n",
    "#     return joint_data"
   ]
  },
  {
   "cell_type": "code",
   "execution_count": 4,
   "id": "9c3600c3-085b-4389-9296-205dc738bc19",
   "metadata": {},
   "outputs": [],
   "source": [
    "def initialize_joint(bus):\n",
    "    send_msg(0x0A0, None, bus)\n",
    "    time.sleep(1)\n",
    "    \n",
    "    send_msg(0x0b0, [0,0,0,0,0,0], bus)\n",
    "    time.sleep(0.1)\n",
    "    send_msg(0x040, None, bus)\n",
    "    time.sleep(0.1)\n",
    "    send_msg(0x0a0, None, bus)\n",
    "    time.sleep(1)\n",
    "    \n",
    "    if (send_msg(0x0F0, [1, 2], bus).data[0] == 1):\n",
    "        send_msg(0x010, [2], bus)\n",
    "        time.sleep(1)\n",
    "        print(send_msg(0x010, [3], bus).data[0])\n",
    "        time.sleep(5)\n",
    "        return True\n",
    "    else:\n",
    "        return False\n",
    "     "
   ]
  },
  {
   "cell_type": "code",
   "execution_count": 7,
   "id": "ca5ea494-a037-4471-b960-6d4550b8384f",
   "metadata": {},
   "outputs": [],
   "source": [
    "if __name__ == \"__main__\":\n",
    "\n",
    "    bus = can.interface.Bus(bustype='socketcan', channel='can0', bitrate=1000000, data_bitrate=5000000, fd=True)\n",
    "    initialize_joint(bus)\n",
    "    \n",
    "    time.sleep(5)"
   ]
  },
  {
   "cell_type": "code",
   "execution_count": 8,
   "id": "2a8c2e29-1c40-47d1-99fb-ba48f4c5c99d",
   "metadata": {},
   "outputs": [],
   "source": [
    "spin=1\n",
    "it=0\n",
    "tq_data=[]"
   ]
  },
  {
   "cell_type": "code",
   "execution_count": 9,
   "id": "6945dbb6-9d69-4cf5-ac67-d475273dca2b",
   "metadata": {},
   "outputs": [],
   "source": [
    "tq=24. #torque w Nm\n",
    "duration = 600 #czas trwania w sekundach"
   ]
  },
  {
   "cell_type": "code",
   "execution_count": 10,
   "id": "daf3b5bc-0f8c-4133-a1a0-06ced7209448",
   "metadata": {},
   "outputs": [
    {
     "name": "stdout",
     "output_type": "stream",
     "text": [
      " speed: 1.24 (min: 0.818 | max: 1.24)  | time: 190s / 600s        "
     ]
    },
    {
     "ename": "IndexError",
     "evalue": "bytearray index out of range",
     "output_type": "error",
     "traceback": [
      "\u001b[0;31m---------------------------------------------------------------------------\u001b[0m",
      "\u001b[0;31mIndexError\u001b[0m                                Traceback (most recent call last)",
      "Input \u001b[0;32mIn [10]\u001b[0m, in \u001b[0;36m<module>\u001b[0;34m\u001b[0m\n\u001b[1;32m      9\u001b[0m \u001b[38;5;28;01mwhile\u001b[39;00m(elapsed\u001b[38;5;241m<\u001b[39mduration):\n\u001b[1;32m     10\u001b[0m     elapsed \u001b[38;5;241m=\u001b[39m time\u001b[38;5;241m.\u001b[39mtime()\u001b[38;5;241m-\u001b[39mstart\n\u001b[0;32m---> 11\u001b[0m     data\u001b[38;5;241m=\u001b[39m\u001b[43mset_torque\u001b[49m\u001b[43m(\u001b[49m\u001b[43mtq\u001b[49m\u001b[43m,\u001b[49m\u001b[43mbus\u001b[49m\u001b[43m)\u001b[49m\n\u001b[1;32m     12\u001b[0m     tq_data\u001b[38;5;241m.\u001b[39mappend(data\u001b[38;5;241m.\u001b[39mtorque)\n\u001b[1;32m     13\u001b[0m     min_speed\u001b[38;5;241m=\u001b[39m\u001b[38;5;28mmin\u001b[39m(min_speed,data\u001b[38;5;241m.\u001b[39mspeed)\n",
      "Input \u001b[0;32mIn [5]\u001b[0m, in \u001b[0;36mset_torque\u001b[0;34m(torque, bus)\u001b[0m\n\u001b[1;32m      2\u001b[0m torque_data\u001b[38;5;241m=\u001b[39m(\u001b[38;5;28mint\u001b[39m)(torque\u001b[38;5;241m*\u001b[39m\u001b[38;5;241m32767\u001b[39m\u001b[38;5;241m/\u001b[39m\u001b[38;5;241m360\u001b[39m)\n\u001b[1;32m      3\u001b[0m torque_data\u001b[38;5;241m=\u001b[39mtorque_data\u001b[38;5;241m.\u001b[39mto_bytes(\u001b[38;5;241m2\u001b[39m,\u001b[38;5;124m'\u001b[39m\u001b[38;5;124mbig\u001b[39m\u001b[38;5;124m'\u001b[39m,signed\u001b[38;5;241m=\u001b[39m\u001b[38;5;28;01mTrue\u001b[39;00m)\n\u001b[0;32m----> 4\u001b[0m \u001b[38;5;28;01mreturn\u001b[39;00m \u001b[43mget_data\u001b[49m\u001b[43m(\u001b[49m\u001b[43msend_msg\u001b[49m\u001b[43m(\u001b[49m\u001b[38;5;241;43m0x000\u001b[39;49m\u001b[43m,\u001b[49m\u001b[43mtorque_data\u001b[49m\u001b[43m,\u001b[49m\u001b[43mbus\u001b[49m\u001b[43m)\u001b[49m\u001b[43m,\u001b[49m\u001b[43mbus\u001b[49m\u001b[43m)\u001b[49m\n",
      "Input \u001b[0;32mIn [6]\u001b[0m, in \u001b[0;36mget_data\u001b[0;34m(rcv_msg, bus)\u001b[0m\n\u001b[1;32m      5\u001b[0m joint_data\u001b[38;5;241m.\u001b[39mspeed\u001b[38;5;241m=\u001b[39m\u001b[38;5;28mfloat\u001b[39m(\u001b[38;5;28mint\u001b[39m\u001b[38;5;241m.\u001b[39mfrom_bytes(data[\u001b[38;5;241m4\u001b[39m:\u001b[38;5;241m6\u001b[39m],\u001b[38;5;124m'\u001b[39m\u001b[38;5;124mbig\u001b[39m\u001b[38;5;124m'\u001b[39m,signed\u001b[38;5;241m=\u001b[39m\u001b[38;5;28;01mTrue\u001b[39;00m))\u001b[38;5;241m*\u001b[39m\u001b[38;5;241m2\u001b[39m\u001b[38;5;241m/\u001b[39m\u001b[38;5;241m32767\u001b[39m\n\u001b[1;32m      6\u001b[0m joint_data\u001b[38;5;241m.\u001b[39mtorque\u001b[38;5;241m=\u001b[39m\u001b[38;5;28mfloat\u001b[39m(\u001b[38;5;28mint\u001b[39m\u001b[38;5;241m.\u001b[39mfrom_bytes(data[\u001b[38;5;241m6\u001b[39m:\u001b[38;5;241m8\u001b[39m],\u001b[38;5;124m'\u001b[39m\u001b[38;5;124mbig\u001b[39m\u001b[38;5;124m'\u001b[39m,signed\u001b[38;5;241m=\u001b[39m\u001b[38;5;28;01mTrue\u001b[39;00m))\u001b[38;5;241m*\u001b[39m\u001b[38;5;241m360\u001b[39m\u001b[38;5;241m/\u001b[39m\u001b[38;5;241m32767\u001b[39m\n\u001b[0;32m----> 7\u001b[0m joint_data\u001b[38;5;241m.\u001b[39mbearing_temp\u001b[38;5;241m=\u001b[39m\u001b[43mdata\u001b[49m\u001b[43m[\u001b[49m\u001b[38;5;241;43m8\u001b[39;49m\u001b[43m]\u001b[49m\n\u001b[1;32m      8\u001b[0m joint_data\u001b[38;5;241m.\u001b[39mFSM\u001b[38;5;241m=\u001b[39mdata[\u001b[38;5;241m9\u001b[39m]\n\u001b[1;32m      9\u001b[0m joint_data\u001b[38;5;241m.\u001b[39mMC_error\u001b[38;5;241m=\u001b[39mdata[\u001b[38;5;241m10\u001b[39m]\n",
      "\u001b[0;31mIndexError\u001b[0m: bytearray index out of range"
     ]
    }
   ],
   "source": [
    "# fig = plt.pyplot.figure()\n",
    "# ax = fig.add_subplot(1, 1, 1) \n",
    "start=time.time()\n",
    "elapsed=0\n",
    "min_speed=2.\n",
    "max_speed=0.\n",
    "time.sleep(5)\n",
    "#torque zwracany co 1s w Nm\n",
    "while(elapsed<duration):\n",
    "    elapsed = time.time()-start\n",
    "    data=set_torque(tq,bus)\n",
    "    tq_data.append(data.torque)\n",
    "    min_speed=min(min_speed,data.speed)\n",
    "    max_speed=max(max_speed,data.speed)\n",
    "    print('\\r speed: {0:.3} (min: {3:.3} | max: {4:.3})  | time: {1}s / {2}s      '.format(data.speed, int(elapsed),duration, min_speed, max_speed), end='')\n",
    "    time.sleep(1)\n",
    "    # ax.cla()\n",
    "    # ax.plot(it, data.torque)\n",
    "    # display(fig)\n",
    "    # clear_output(wait = True)\n",
    "    # it+=1\n",
    "    # plt.pyplot.pause(5)\n",
    "set_torque(0.,bus)"
   ]
  },
  {
   "cell_type": "code",
   "execution_count": null,
   "id": "18bdb144-fc2c-4e3f-a723-efdc25dc9f87",
   "metadata": {},
   "outputs": [],
   "source": [
    "set_torque(0.,bus)    #zatrzymanie ctrl-enter"
   ]
  },
  {
   "cell_type": "code",
   "execution_count": null,
   "id": "ec684d8a-eeeb-4771-8fcd-248bfa084f5b",
   "metadata": {},
   "outputs": [],
   "source": []
  }
 ],
 "metadata": {
  "kernelspec": {
   "display_name": "Python 3 (ipykernel)",
   "language": "python",
   "name": "python3"
  },
  "language_info": {
   "codemirror_mode": {
    "name": "ipython",
    "version": 3
   },
   "file_extension": ".py",
   "mimetype": "text/x-python",
   "name": "python",
   "nbconvert_exporter": "python",
   "pygments_lexer": "ipython3",
   "version": "3.8.10"
  }
 },
 "nbformat": 4,
 "nbformat_minor": 5
}
