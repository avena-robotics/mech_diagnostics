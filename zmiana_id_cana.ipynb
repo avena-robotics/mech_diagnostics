{
 "cells": [
  {
   "cell_type": "code",
   "execution_count": 8,
   "id": "94348343-ad08-4eaf-956b-60c76a4066b9",
   "metadata": {},
   "outputs": [],
   "source": [
    "import numpy as np\n",
    "import os, subprocess\n",
    "from matplotlib import pyplot as plt\n",
    "from scipy.optimize import least_squares\n",
    "from struct import *\n",
    "\n",
    "import can\n",
    "import time\n",
    "import math\n",
    "from IPython.display import display, clear_output\n",
    "from joint_can import *\n",
    "%matplotlib inline\n"
   ]
  },
  {
   "cell_type": "code",
   "execution_count": 9,
   "id": "d1395534-e029-4784-ab4a-b53331d0c803",
   "metadata": {},
   "outputs": [],
   "source": [
    "# os.popen('/home/pi/mech_diagnostics/can_down.sh')\n",
    "# time.sleep(1)\n",
    "# os.popen('/home/pi/mech_diagnostics/can_up.sh')\n",
    "# time.sleep(1)"
   ]
  },
  {
   "cell_type": "code",
   "execution_count": 10,
   "id": "27344d64-4146-4259-b9e0-47b9f633129c",
   "metadata": {},
   "outputs": [],
   "source": [
    "bus = can.interface.Bus(bustype='socketcan', channel='can0', bitrate=1000000, data_bitrate=5000000, fd=False)\n",
    "# initialize_joint(bus)"
   ]
  },
  {
   "cell_type": "code",
   "execution_count": 11,
   "id": "7d0c3336-d918-4bfd-bf9f-e858fdd8dd57",
   "metadata": {
    "tags": []
   },
   "outputs": [],
   "source": [
    "nr_id = 5 # id jakie ma być nadane, dla adresu E = 0xe, dla pozostałych normalnie w decymalnych"
   ]
  },
  {
   "cell_type": "code",
   "execution_count": 5,
   "id": "f1458721-a1ca-4787-926d-b6ebfa1b4da1",
   "metadata": {},
   "outputs": [],
   "source": [
    "# can_act = int.from_bytes(send_msg(0x020, None, bus),'little')\n",
    "can_act = get_can_id(bus)\n",
    "time.sleep(0.1)"
   ]
  },
  {
   "cell_type": "code",
   "execution_count": 6,
   "id": "61670ce1-f212-4498-8dca-207afc0c35bf",
   "metadata": {},
   "outputs": [
    {
     "data": {
      "text/plain": [
       "can.Message(timestamp=1695895009.9451506, arbitration_id=0x203, is_extended_id=False, channel='can0', dlc=8, data=[0xa2, 0xe9, 0xd2, 0xf4, 0x0, 0x0, 0x0, 0x0])"
      ]
     },
     "execution_count": 6,
     "metadata": {},
     "output_type": "execute_result"
    }
   ],
   "source": [
    "send_msg(0x130 + can_act, [64,1,0,nr_id], bus)\n",
    "time.sleep(0.25)\n",
    "send_msg(0x140 + nr_id, None, bus)\n",
    "time.sleep(0.25)\n",
    "send_msg(0x1A0 + nr_id, None, bus)\n",
    "time.sleep(0.25)\n",
    "send_msg(0x000, None, bus)"
   ]
  },
  {
   "cell_type": "code",
   "execution_count": 12,
   "id": "7c2f8f01-e69f-49de-9901-6ad55d2682fc",
   "metadata": {},
   "outputs": [
    {
     "data": {
      "text/plain": [
       "can.Message(timestamp=1696417317.10767, arbitration_id=0x205, is_extended_id=False, channel='can0', dlc=8, data=[0xf3, 0xa1, 0xef, 0xd0, 0x0, 0x0, 0x0, 0x0])"
      ]
     },
     "execution_count": 12,
     "metadata": {},
     "output_type": "execute_result"
    }
   ],
   "source": [
    "# # zmiana adresu CAN z adresu 0xE\n",
    "\n",
    "# send_msg(0x130 + 0xE, [64,1,0,nr_id], bus)\n",
    "# time.sleep(0.25)\n",
    "# send_msg(0x140 + nr_id, None, bus)\n",
    "# time.sleep(0.25)\n",
    "# send_msg(0x1A0 + nr_id, None, bus)\n",
    "# time.sleep(0.25)\n",
    "# send_msg(0x000, None, bus)"
   ]
  },
  {
   "cell_type": "code",
   "execution_count": null,
   "id": "99d33dcc-f229-4bb2-94bb-46ae29c7cf88",
   "metadata": {},
   "outputs": [],
   "source": []
  }
 ],
 "metadata": {
  "kernelspec": {
   "display_name": "Python 3 (ipykernel)",
   "language": "python",
   "name": "python3"
  },
  "language_info": {
   "codemirror_mode": {
    "name": "ipython",
    "version": 3
   },
   "file_extension": ".py",
   "mimetype": "text/x-python",
   "name": "python",
   "nbconvert_exporter": "python",
   "pygments_lexer": "ipython3",
   "version": "3.9.2"
  },
  "toc-autonumbering": true,
  "toc-showcode": true,
  "toc-showmarkdowntxt": true,
  "toc-showtags": true
 },
 "nbformat": 4,
 "nbformat_minor": 5
}
